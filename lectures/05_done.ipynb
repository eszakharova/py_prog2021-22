{
 "cells": [
  {
   "cell_type": "markdown",
   "metadata": {
    "id": "VD8ZEW7c6EbU"
   },
   "source": [
    "# Продолжение в ООП"
   ]
  },
  {
   "cell_type": "markdown",
   "metadata": {
    "id": "M6w6IwJC6Iag"
   },
   "source": [
    "## Diamond Inheritance"
   ]
  },
  {
   "cell_type": "markdown",
   "metadata": {
    "id": "rk3NKfLDcfLj"
   },
   "source": [
    "![](https://images1.programmersought.com/131/dd/dd1ae4a8ace8d6e298212bb82087bdd3.png)"
   ]
  },
  {
   "cell_type": "code",
   "execution_count": 1,
   "metadata": {
    "id": "tVO74R1f6z7z"
   },
   "outputs": [],
   "source": [
    "class A:\n",
    "    def hi(self):\n",
    "        print(\"A\")\n",
    "        \n",
    "class B(A):\n",
    "    pass\n",
    "\n",
    "class C(A):\n",
    "    def hi(self):\n",
    "        print(\"C\")\n",
    "        \n",
    "class D(B, C):\n",
    "    pass\n",
    " "
   ]
  },
  {
   "cell_type": "code",
   "execution_count": 2,
   "metadata": {
    "colab": {
     "base_uri": "https://localhost:8080/"
    },
    "id": "EuvqSsdaSTlQ",
    "outputId": "07d4d1d9-2152-4b17-db4a-e2bbe6b4a668"
   },
   "outputs": [
    {
     "name": "stdout",
     "output_type": "stream",
     "text": [
      "C\n"
     ]
    }
   ],
   "source": [
    "# что выведет код? почему? всегда ли так будет?\n",
    "d = D()\n",
    "d.hi()"
   ]
  },
  {
   "cell_type": "markdown",
   "metadata": {
    "id": "6kLxWCiucoMk"
   },
   "source": [
    "Порядок разрешения методов можно посмотреть с помощью метода ***mro()*** или в атрибуте ***\\_\\_mro\\_\\_***"
   ]
  },
  {
   "cell_type": "code",
   "execution_count": 3,
   "metadata": {
    "colab": {
     "base_uri": "https://localhost:8080/"
    },
    "id": "LPo_nrliVk4l",
    "outputId": "7c43b8a2-5a1a-4dad-a26c-c5befa1765b0"
   },
   "outputs": [
    {
     "data": {
      "text/plain": [
       "(__main__.D, __main__.B, __main__.C, __main__.A, object)"
      ]
     },
     "execution_count": 3,
     "metadata": {},
     "output_type": "execute_result"
    }
   ],
   "source": [
    "D.__mro__"
   ]
  },
  {
   "cell_type": "code",
   "execution_count": 4,
   "metadata": {
    "colab": {
     "base_uri": "https://localhost:8080/"
    },
    "id": "JSaF274XrAt3",
    "outputId": "fad48750-df59-4867-c31f-53abc899a5c9"
   },
   "outputs": [
    {
     "data": {
      "text/plain": [
       "[__main__.D, __main__.B, __main__.C, __main__.A, object]"
      ]
     },
     "execution_count": 4,
     "metadata": {},
     "output_type": "execute_result"
    }
   ],
   "source": [
    "D.mro()"
   ]
  },
  {
   "cell_type": "markdown",
   "metadata": {
    "id": "7Yl_Y4DuCRWZ"
   },
   "source": [
    "### Спойлеры"
   ]
  },
  {
   "cell_type": "markdown",
   "metadata": {
    "id": "JHtxiIrmeftv"
   },
   "source": [
    "+ **Python 3** - при разрешении методов использует поиск в ширину (смотрит сначала во всех родительских классах по порядку, потом в родителях родителей и т.д.)\n",
    "+ **Python 2** - поиск в глубину (смотрит в первом родительском классе, потом в его родительском классе и т.д.)"
   ]
  },
  {
   "cell_type": "markdown",
   "metadata": {
    "id": "aRQzc_qWfHNe"
   },
   "source": [
    "## Подробнее про super()"
   ]
  },
  {
   "cell_type": "markdown",
   "metadata": {
    "id": "LB8dq8QlEH7a"
   },
   "source": [
    "***super()*** - returns a proxy object that delegates method calls to a parent or sibling class. "
   ]
  },
  {
   "cell_type": "markdown",
   "metadata": {
    "id": "xrDIR0lcEt38"
   },
   "source": [
    "При одиночном наследовании - сослаться на родительский объект, не называя его эксплицитно. "
   ]
  },
  {
   "cell_type": "code",
   "execution_count": 5,
   "metadata": {
    "id": "TWOe9X9OEs_e"
   },
   "outputs": [],
   "source": [
    "class Animal:\n",
    "   \n",
    "    fav_food = 'pizza' # атрибут класса \n",
    "    \n",
    "    def __init__(self, name, legs, scariness):\n",
    "        self.name = name \n",
    "        self.legs = legs\n",
    "        self.scariness = scariness\n",
    "    \n",
    "    def introduce(self): \n",
    "        print(\"Hello! My name is %s!\" % self.name)\n",
    "    \n",
    "    \n",
    "    def sound(self):\n",
    "        print(\"Sound!\")\n",
    "\n",
    "class Mammal(Animal): # имя родительского класса пишется в скобках \n",
    "    \n",
    "    def __init__(self, name, scariness): \n",
    "        # обращаемся к классу-родителю с помощью super() и вызываем его метод __init__\n",
    "        super().__init__(name=name, legs=4, scariness=scariness) # пусть у всех млекопитающих должно быть 4 ноги"
   ]
  },
  {
   "cell_type": "markdown",
   "metadata": {
    "id": "plKP32lDE-GC"
   },
   "source": [
    "При множественном наследовании все интереснее:"
   ]
  },
  {
   "cell_type": "code",
   "execution_count": 6,
   "metadata": {
    "colab": {
     "base_uri": "https://localhost:8080/"
    },
    "id": "k6eh7KxYO8em",
    "outputId": "a7aa76b6-3c32-418a-d668-9398034e357a"
   },
   "outputs": [
    {
     "name": "stdout",
     "output_type": "stream",
     "text": [
      "B\n"
     ]
    }
   ],
   "source": [
    "class A:\n",
    "    def __init__(self):\n",
    "        print('A')\n",
    "\n",
    "class B(A):\n",
    "    def __init__(self):\n",
    "        print('B')\n",
    "\n",
    "class C(A):\n",
    "    def __init__(self):\n",
    "        print('C')\n",
    "\n",
    "class D(B, C):\n",
    "    pass\n",
    "\n",
    "d = D() # вызывается метод из B"
   ]
  },
  {
   "cell_type": "markdown",
   "metadata": {
    "id": "py5snX-9PppN"
   },
   "source": [
    "Если нам нужно, чтобы были вызваны методы обоих родительских классов:"
   ]
  },
  {
   "cell_type": "code",
   "execution_count": 7,
   "metadata": {
    "colab": {
     "base_uri": "https://localhost:8080/"
    },
    "id": "j9dSN0yDPeeo",
    "outputId": "2b69deb0-9f67-4fd8-f474-2bba1de52832"
   },
   "outputs": [
    {
     "name": "stdout",
     "output_type": "stream",
     "text": [
      "B\n",
      "C\n",
      "D\n"
     ]
    }
   ],
   "source": [
    "class A:\n",
    "    def __init__(self):\n",
    "        print('A')\n",
    "\n",
    "class B(A):\n",
    "    def __init__(self):\n",
    "        print('B')\n",
    "\n",
    "class C(A):\n",
    "    def __init__(self):\n",
    "        print('C')\n",
    "\n",
    "class D(B, C):\n",
    "    def __init__(self):\n",
    "        B.__init__(B)\n",
    "        C.__init__(C)\n",
    "        print('D')\n",
    "\n",
    "d = D() # вызываются методы из B и C"
   ]
  },
  {
   "cell_type": "code",
   "execution_count": 8,
   "metadata": {
    "colab": {
     "base_uri": "https://localhost:8080/"
    },
    "id": "pHaAMBCOQjij",
    "outputId": "3b8e7860-b7b5-45d9-9122-98d13f760e06"
   },
   "outputs": [
    {
     "name": "stdout",
     "output_type": "stream",
     "text": [
      "C\n",
      "B\n",
      "D\n"
     ]
    }
   ],
   "source": [
    "class A:\n",
    "    def __init__(self):\n",
    "        print('A')\n",
    "\n",
    "class B(A):\n",
    "    def __init__(self):\n",
    "        super().__init__() # идет в сестринский класс C и на этом останавливается!\n",
    "        print('B')\n",
    "\n",
    "class C(A):\n",
    "    def __init__(self):\n",
    "        print('C')\n",
    "\n",
    "class D(B, C):\n",
    "    def __init__(self):\n",
    "        super().__init__() # идет в первый родительский класс B\n",
    "        print('D')\n",
    "\n",
    "d = D() # вызываются методы из B и C"
   ]
  },
  {
   "cell_type": "code",
   "execution_count": 13,
   "metadata": {
    "colab": {
     "base_uri": "https://localhost:8080/"
    },
    "id": "oUhSvXf0kcHy",
    "outputId": "211055c6-80dc-44df-dad4-52b23bc0df0d"
   },
   "outputs": [
    {
     "data": {
      "text/plain": [
       "(__main__.D, __main__.C, __main__.B, __main__.A, object)"
      ]
     },
     "execution_count": 13,
     "metadata": {},
     "output_type": "execute_result"
    }
   ],
   "source": [
    "# порядок разрешения методов\n",
    "# почему печатается сначала C потом B\n",
    "D.__mro__"
   ]
  },
  {
   "cell_type": "markdown",
   "metadata": {
    "id": "ic2kZSdTRIss"
   },
   "source": [
    "Если мы хотим, чтобы при инициализации объекта каждого из классов вызывались все методы родительских классов по одному разу:"
   ]
  },
  {
   "cell_type": "code",
   "execution_count": 10,
   "metadata": {
    "colab": {
     "base_uri": "https://localhost:8080/"
    },
    "id": "25eCZr8TRHHC",
    "outputId": "fad021f5-9505-45f1-ea83-60364945e6b0"
   },
   "outputs": [
    {
     "name": "stdout",
     "output_type": "stream",
     "text": [
      "A\n",
      "\n",
      "A\n",
      "B\n",
      "\n",
      "A\n",
      "C\n",
      "\n",
      "A\n",
      "B\n",
      "A\n",
      "C\n",
      "D\n"
     ]
    }
   ],
   "source": [
    "class A:\n",
    "    def __init__(self):\n",
    "        print('A')\n",
    "\n",
    "class B(A):\n",
    "    def __init__(self):\n",
    "        A.__init__(A)\n",
    "        print('B')\n",
    "\n",
    "class C(A):\n",
    "    def __init__(self):\n",
    "        A.__init__(A)\n",
    "        print('C')\n",
    "\n",
    "class D(B, C):\n",
    "    def __init__(self):\n",
    "        B.__init__(B)\n",
    "        C.__init__(C)\n",
    "        print('D')\n",
    "\n",
    "a = A()\n",
    "print('')\n",
    "b = B()\n",
    "print('')\n",
    "c = C()\n",
    "print('')\n",
    "d = D() # работает, но метод из A вызывается 2 раза"
   ]
  },
  {
   "cell_type": "code",
   "execution_count": 12,
   "metadata": {
    "colab": {
     "base_uri": "https://localhost:8080/"
    },
    "id": "XeokolAXSAft",
    "outputId": "b4de69fd-0c4d-48f3-dc59-5a66a79936f9"
   },
   "outputs": [
    {
     "name": "stdout",
     "output_type": "stream",
     "text": [
      "A\n",
      "\n",
      "A\n",
      "B\n",
      "\n",
      "A\n",
      "C\n",
      "\n",
      "A\n",
      "B\n",
      "C\n",
      "D\n"
     ]
    }
   ],
   "source": [
    "class A:\n",
    "    def __init__(self):\n",
    "        print('A')\n",
    "\n",
    "class B(A):\n",
    "    def __init__(self):\n",
    "        super().__init__() # идет в сестринский класс C\n",
    "        print('B')\n",
    "\n",
    "class C(A):\n",
    "    def __init__(self):\n",
    "        super().__init__() #идет в родительский класс A\n",
    "        print('C')\n",
    "\n",
    "class D(C, B):\n",
    "    def __init__(self):\n",
    "        super().__init__() # идет в первый родительский класс В\n",
    "        print('D')\n",
    "\n",
    "a = A()\n",
    "print('')\n",
    "b = B()\n",
    "print('')\n",
    "c = C()\n",
    "print('')\n",
    "d = D()"
   ]
  },
  {
   "cell_type": "code",
   "execution_count": 1,
   "metadata": {
    "colab": {
     "base_uri": "https://localhost:8080/"
    },
    "id": "HgQIY2RvEHND",
    "outputId": "975d83b0-1b8f-4696-a4aa-6b5cd8342f10"
   },
   "outputs": [
    {
     "name": "stdout",
     "output_type": "stream",
     "text": [
      "Dog can bark!\n",
      "Dog can't swim.\n",
      "Dog can't fly.\n",
      "Dog is a warm-blooded animal.\n",
      "Dog is an animal.\n"
     ]
    }
   ],
   "source": [
    "class Animal:\n",
    "    def __init__(self, name):\n",
    "        print(name, 'is an animal.')\n",
    "\n",
    "class Mammal(Animal):\n",
    "    def __init__(self, name):\n",
    "        print(name, 'is a warm-blooded animal.')\n",
    "        super().__init__(name)\n",
    "    \n",
    "class NonWingedMammal(Mammal):\n",
    "    def __init__(self, name):\n",
    "        print(name, \"can't fly.\")\n",
    "        super().__init__(name)\n",
    "        \n",
    "class NonMarineMammal(Mammal):\n",
    "    def __init__(self, name):\n",
    "        print(name, \"can't swim.\")\n",
    "        super().__init__(name)\n",
    "        \n",
    "class Dog(NonMarineMammal, NonWingedMammal):\n",
    "    def __init__(self):\n",
    "        print('Dog can bark!')\n",
    "        super().__init__('Dog')\n",
    "        \n",
    "        \n",
    "    \n",
    "d = Dog()\n",
    "# bat = NonMarineMammal('Bat')\n",
    "# print('')"
   ]
  },
  {
   "cell_type": "code",
   "execution_count": 2,
   "metadata": {},
   "outputs": [
    {
     "data": {
      "text/plain": [
       "(__main__.Dog,\n",
       " __main__.NonMarineMammal,\n",
       " __main__.NonWingedMammal,\n",
       " __main__.Mammal,\n",
       " __main__.Animal,\n",
       " object)"
      ]
     },
     "execution_count": 2,
     "metadata": {},
     "output_type": "execute_result"
    }
   ],
   "source": [
    "Dog.__mro__"
   ]
  },
  {
   "cell_type": "markdown",
   "metadata": {
    "id": "tVuOVX7ILGm7"
   },
   "source": [
    "**Задание:** сделать так, чтобы при создании экземпляра класса выводились сообщения от самого класса и всех его родителей по одному разу в порядке от низа иерархии наследования до верха (сообщение от Animal должно быть напечатано последним)."
   ]
  },
  {
   "cell_type": "markdown",
   "metadata": {
    "id": "rMyLhvWhVl0N"
   },
   "source": [
    "## @property"
   ]
  },
  {
   "cell_type": "code",
   "execution_count": 19,
   "metadata": {
    "id": "Ebvq-Vx1gCGV"
   },
   "outputs": [],
   "source": [
    "class Animal:  \n",
    "    def __init__(self, name, legs, scariness):\n",
    "        self.name = name\n",
    "        self.legs = legs\n",
    "        self.scariness = scariness\n",
    "        self.long_name = '%s-legged %s' % (str(self.legs), self.name)"
   ]
  },
  {
   "cell_type": "code",
   "execution_count": 20,
   "metadata": {
    "id": "jwmeUMsIEGDj"
   },
   "outputs": [],
   "source": [
    "animal = Animal('Doggy', 4, 2)"
   ]
  },
  {
   "cell_type": "code",
   "execution_count": 21,
   "metadata": {
    "colab": {
     "base_uri": "https://localhost:8080/",
     "height": 35
    },
    "id": "YOJkc36ZEG0A",
    "outputId": "cf730922-34c5-4ac7-ad8d-99891cdf20cb"
   },
   "outputs": [
    {
     "data": {
      "text/plain": [
       "'4-legged Doggy'"
      ]
     },
     "execution_count": 21,
     "metadata": {},
     "output_type": "execute_result"
    }
   ],
   "source": [
    "animal.long_name"
   ]
  },
  {
   "cell_type": "code",
   "execution_count": 22,
   "metadata": {
    "id": "sCYkInYZGHJR"
   },
   "outputs": [],
   "source": [
    "animal.name = 'Spidy'\n",
    "animal.legs = 8"
   ]
  },
  {
   "cell_type": "code",
   "execution_count": 23,
   "metadata": {
    "colab": {
     "base_uri": "https://localhost:8080/",
     "height": 35
    },
    "id": "_SVQE-iyGHWH",
    "outputId": "a57f4591-f07f-4730-e22f-e390b9d8fbdd"
   },
   "outputs": [
    {
     "data": {
      "text/plain": [
       "'4-legged Doggy'"
      ]
     },
     "execution_count": 23,
     "metadata": {},
     "output_type": "execute_result"
    }
   ],
   "source": [
    "animal.long_name # имя и количество ног в атрибуте long_name не изменились!"
   ]
  },
  {
   "cell_type": "code",
   "execution_count": 24,
   "metadata": {
    "id": "DRoWXExfGPIq"
   },
   "outputs": [],
   "source": [
    "class Animal:  \n",
    "    def __init__(self, name, legs, scariness):\n",
    "        self.name = name\n",
    "        self.legs = legs\n",
    "        self.scariness = scariness\n",
    "        \n",
    "    @property # пишем функцию с декоратором property, которая вернет нужное нам значение атрибута\n",
    "    def long_name(self):\n",
    "        return '%s-legged %s' % (str(self.legs), self.name)"
   ]
  },
  {
   "cell_type": "code",
   "execution_count": 25,
   "metadata": {
    "colab": {
     "base_uri": "https://localhost:8080/",
     "height": 35
    },
    "id": "U6fcbgDjGPRI",
    "outputId": "3ef19af6-9456-47da-e088-677fd43859de"
   },
   "outputs": [
    {
     "data": {
      "text/plain": [
       "'4-legged Doggy'"
      ]
     },
     "execution_count": 25,
     "metadata": {},
     "output_type": "execute_result"
    }
   ],
   "source": [
    "animal = Animal(name='Doggy', legs=4, scariness=11)\n",
    "animal.long_name"
   ]
  },
  {
   "cell_type": "code",
   "execution_count": 26,
   "metadata": {
    "id": "dpFGJDmHGT0K"
   },
   "outputs": [],
   "source": [
    "animal.name = 'Spidy'\n",
    "animal.legs = 8"
   ]
  },
  {
   "cell_type": "code",
   "execution_count": 27,
   "metadata": {
    "colab": {
     "base_uri": "https://localhost:8080/",
     "height": 35
    },
    "id": "t5sPTOe8GZUu",
    "outputId": "8280df58-8813-404d-c58c-690f11ef8d20"
   },
   "outputs": [
    {
     "data": {
      "text/plain": [
       "'8-legged Spidy'"
      ]
     },
     "execution_count": 27,
     "metadata": {},
     "output_type": "execute_result"
    }
   ],
   "source": [
    "animal.long_name # имя и количество ног изменились!"
   ]
  },
  {
   "cell_type": "markdown",
   "metadata": {
    "id": "r2imS03-GvzQ"
   },
   "source": [
    "А как менять атрибут long_name?"
   ]
  },
  {
   "cell_type": "code",
   "execution_count": 28,
   "metadata": {
    "colab": {
     "base_uri": "https://localhost:8080/",
     "height": 166
    },
    "id": "B93f5eap8ktT",
    "outputId": "28c469ab-514c-414c-a38a-a51013fd8840"
   },
   "outputs": [
    {
     "ename": "AttributeError",
     "evalue": "can't set attribute",
     "output_type": "error",
     "traceback": [
      "\u001b[0;31m---------------------------------------------------------------------------\u001b[0m",
      "\u001b[0;31mAttributeError\u001b[0m                            Traceback (most recent call last)",
      "\u001b[0;32m<ipython-input-28-fed44457d119>\u001b[0m in \u001b[0;36m<module>\u001b[0;34m\u001b[0m\n\u001b[0;32m----> 1\u001b[0;31m \u001b[0manimal\u001b[0m\u001b[0;34m.\u001b[0m\u001b[0mlong_name\u001b[0m \u001b[0;34m=\u001b[0m \u001b[0;34m'4-legged Doggy'\u001b[0m \u001b[0;31m#  просто так это сделать не получится\u001b[0m\u001b[0;34m\u001b[0m\u001b[0;34m\u001b[0m\u001b[0m\n\u001b[0m",
      "\u001b[0;31mAttributeError\u001b[0m: can't set attribute"
     ]
    }
   ],
   "source": [
    "animal.long_name = '4-legged Doggy' #  просто так это сделать не получится"
   ]
  },
  {
   "cell_type": "code",
   "execution_count": 29,
   "metadata": {
    "id": "uJD1g5SCGxIb"
   },
   "outputs": [],
   "source": [
    "class Animal:  \n",
    "    def __init__(self, name, legs, scariness):\n",
    "        self.name = name\n",
    "        self.legs = legs\n",
    "        self.scariness = scariness\n",
    "        \n",
    "    @property \n",
    "    def long_name(self):\n",
    "        return '%s-legged %s' % (str(self.legs), self.name)\n",
    "    \n",
    "    # название функции и декоратора должно совпадать с названием атрибута\n",
    "    @long_name.setter\n",
    "    def long_name(self, text):\n",
    "        words = text.split()\n",
    "        self.legs = int(words[0].replace('-legged', ''))\n",
    "        self.name = ' '.join(words[1:])"
   ]
  },
  {
   "cell_type": "code",
   "execution_count": 30,
   "metadata": {
    "colab": {
     "base_uri": "https://localhost:8080/",
     "height": 35
    },
    "id": "Ls59hveZG0Kd",
    "outputId": "2da4bf08-54c7-4ae2-ba0a-c45df0fef60c"
   },
   "outputs": [
    {
     "data": {
      "text/plain": [
       "'4-legged Doggy'"
      ]
     },
     "execution_count": 30,
     "metadata": {},
     "output_type": "execute_result"
    }
   ],
   "source": [
    "animal = Animal(name='Doggy', legs=4, scariness=11)\n",
    "animal.long_name"
   ]
  },
  {
   "cell_type": "code",
   "execution_count": 31,
   "metadata": {
    "id": "USPRco6lG2uF"
   },
   "outputs": [],
   "source": [
    "animal.long_name = '8-legged Spidy'"
   ]
  },
  {
   "cell_type": "code",
   "execution_count": 32,
   "metadata": {
    "colab": {
     "base_uri": "https://localhost:8080/",
     "height": 35
    },
    "id": "bRCGoEDzG5FT",
    "outputId": "2fa118e9-6e5b-4d74-dc77-0f0d589eb36f"
   },
   "outputs": [
    {
     "data": {
      "text/plain": [
       "'Spidy'"
      ]
     },
     "execution_count": 32,
     "metadata": {},
     "output_type": "execute_result"
    }
   ],
   "source": [
    "animal.name"
   ]
  },
  {
   "cell_type": "code",
   "execution_count": 33,
   "metadata": {
    "colab": {
     "base_uri": "https://localhost:8080/"
    },
    "id": "1cKmsQZBG8iy",
    "outputId": "1f5eecfd-579a-43ff-8f37-5d414511d8b9"
   },
   "outputs": [
    {
     "data": {
      "text/plain": [
       "8"
      ]
     },
     "execution_count": 33,
     "metadata": {},
     "output_type": "execute_result"
    }
   ],
   "source": [
    "animal.legs"
   ]
  },
  {
   "cell_type": "markdown",
   "metadata": {},
   "source": [
    "С помощью приватных атрибутов и @property удобно защищать атрибуты от перезаписи:"
   ]
  },
  {
   "cell_type": "code",
   "execution_count": 34,
   "metadata": {},
   "outputs": [],
   "source": [
    "class Animal:  \n",
    "    def __init__(self, name, legs, scariness):\n",
    "        self.name = name\n",
    "        self.__legs = legs # делаем атрибут приватным\n",
    "        self.scariness = scariness\n",
    "        \n",
    "        \n",
    "    @property\n",
    "    def legs(self):\n",
    "        return self.__legs"
   ]
  },
  {
   "cell_type": "code",
   "execution_count": 35,
   "metadata": {},
   "outputs": [],
   "source": [
    "animal = Animal(name='Doggy', legs=4, scariness=11)"
   ]
  },
  {
   "cell_type": "code",
   "execution_count": 36,
   "metadata": {},
   "outputs": [
    {
     "ename": "AttributeError",
     "evalue": "can't set attribute",
     "output_type": "error",
     "traceback": [
      "\u001b[0;31m---------------------------------------------------------------------------\u001b[0m",
      "\u001b[0;31mAttributeError\u001b[0m                            Traceback (most recent call last)",
      "\u001b[0;32m<ipython-input-36-04abc5f80246>\u001b[0m in \u001b[0;36m<module>\u001b[0;34m\u001b[0m\n\u001b[0;32m----> 1\u001b[0;31m \u001b[0manimal\u001b[0m\u001b[0;34m.\u001b[0m\u001b[0mlegs\u001b[0m \u001b[0;34m=\u001b[0m \u001b[0;36m8.5\u001b[0m\u001b[0;34m\u001b[0m\u001b[0;34m\u001b[0m\u001b[0m\n\u001b[0m",
      "\u001b[0;31mAttributeError\u001b[0m: can't set attribute"
     ]
    }
   ],
   "source": [
    "animal.legs = 8.5"
   ]
  },
  {
   "cell_type": "markdown",
   "metadata": {},
   "source": [
    "А с помощью setter контролировать, что в них записывается:"
   ]
  },
  {
   "cell_type": "code",
   "execution_count": 37,
   "metadata": {},
   "outputs": [],
   "source": [
    "class Animal:  \n",
    "    def __init__(self, name, legs, scariness):\n",
    "        self.name = name\n",
    "        self.__legs = legs # делаем атрибут приватным\n",
    "        self.scariness = scariness\n",
    "        \n",
    "        \n",
    "    @property\n",
    "    def legs(self):\n",
    "        return self.__legs\n",
    "    \n",
    "    @legs.setter\n",
    "    def legs(self, num):\n",
    "        # пусть может быть только целое положительное число ног\n",
    "        if int(num) != num:\n",
    "            raise ValueError(f\"{num} is not integer\")\n",
    "            \n",
    "        if num <= 0:\n",
    "            raise ValueError(f\"{num} is not positive\")\n",
    "            \n",
    "        self.__legs = num"
   ]
  },
  {
   "cell_type": "code",
   "execution_count": 38,
   "metadata": {},
   "outputs": [],
   "source": [
    "animal = Animal(name='Monster', legs=4, scariness=1111)"
   ]
  },
  {
   "cell_type": "code",
   "execution_count": 39,
   "metadata": {},
   "outputs": [
    {
     "ename": "ValueError",
     "evalue": "8.5 is not integer",
     "output_type": "error",
     "traceback": [
      "\u001b[0;31m---------------------------------------------------------------------------\u001b[0m",
      "\u001b[0;31mValueError\u001b[0m                                Traceback (most recent call last)",
      "\u001b[0;32m<ipython-input-39-04abc5f80246>\u001b[0m in \u001b[0;36m<module>\u001b[0;34m\u001b[0m\n\u001b[0;32m----> 1\u001b[0;31m \u001b[0manimal\u001b[0m\u001b[0;34m.\u001b[0m\u001b[0mlegs\u001b[0m \u001b[0;34m=\u001b[0m \u001b[0;36m8.5\u001b[0m\u001b[0;34m\u001b[0m\u001b[0;34m\u001b[0m\u001b[0m\n\u001b[0m",
      "\u001b[0;32m<ipython-input-37-eeee4a0d327e>\u001b[0m in \u001b[0;36mlegs\u001b[0;34m(self, num)\u001b[0m\n\u001b[1;32m     14\u001b[0m         \u001b[0;31m# пусть может быть только целое положительное число ног\u001b[0m\u001b[0;34m\u001b[0m\u001b[0;34m\u001b[0m\u001b[0;34m\u001b[0m\u001b[0m\n\u001b[1;32m     15\u001b[0m         \u001b[0;32mif\u001b[0m \u001b[0mint\u001b[0m\u001b[0;34m(\u001b[0m\u001b[0mnum\u001b[0m\u001b[0;34m)\u001b[0m \u001b[0;34m!=\u001b[0m \u001b[0mnum\u001b[0m\u001b[0;34m:\u001b[0m\u001b[0;34m\u001b[0m\u001b[0;34m\u001b[0m\u001b[0m\n\u001b[0;32m---> 16\u001b[0;31m             \u001b[0;32mraise\u001b[0m \u001b[0mValueError\u001b[0m\u001b[0;34m(\u001b[0m\u001b[0;34mf\"{num} is not integer\"\u001b[0m\u001b[0;34m)\u001b[0m\u001b[0;34m\u001b[0m\u001b[0;34m\u001b[0m\u001b[0m\n\u001b[0m\u001b[1;32m     17\u001b[0m \u001b[0;34m\u001b[0m\u001b[0m\n\u001b[1;32m     18\u001b[0m         \u001b[0;32mif\u001b[0m \u001b[0mnum\u001b[0m \u001b[0;34m<=\u001b[0m \u001b[0;36m0\u001b[0m\u001b[0;34m:\u001b[0m\u001b[0;34m\u001b[0m\u001b[0;34m\u001b[0m\u001b[0m\n",
      "\u001b[0;31mValueError\u001b[0m: 8.5 is not integer"
     ]
    }
   ],
   "source": [
    "animal.legs = 8.5"
   ]
  },
  {
   "cell_type": "code",
   "execution_count": 40,
   "metadata": {
    "scrolled": true
   },
   "outputs": [
    {
     "ename": "ValueError",
     "evalue": "-5 is not positive",
     "output_type": "error",
     "traceback": [
      "\u001b[0;31m---------------------------------------------------------------------------\u001b[0m",
      "\u001b[0;31mValueError\u001b[0m                                Traceback (most recent call last)",
      "\u001b[0;32m<ipython-input-40-4492edad4af5>\u001b[0m in \u001b[0;36m<module>\u001b[0;34m\u001b[0m\n\u001b[0;32m----> 1\u001b[0;31m \u001b[0manimal\u001b[0m\u001b[0;34m.\u001b[0m\u001b[0mlegs\u001b[0m \u001b[0;34m=\u001b[0m \u001b[0;34m-\u001b[0m\u001b[0;36m5\u001b[0m\u001b[0;34m\u001b[0m\u001b[0;34m\u001b[0m\u001b[0m\n\u001b[0m",
      "\u001b[0;32m<ipython-input-37-eeee4a0d327e>\u001b[0m in \u001b[0;36mlegs\u001b[0;34m(self, num)\u001b[0m\n\u001b[1;32m     17\u001b[0m \u001b[0;34m\u001b[0m\u001b[0m\n\u001b[1;32m     18\u001b[0m         \u001b[0;32mif\u001b[0m \u001b[0mnum\u001b[0m \u001b[0;34m<=\u001b[0m \u001b[0;36m0\u001b[0m\u001b[0;34m:\u001b[0m\u001b[0;34m\u001b[0m\u001b[0;34m\u001b[0m\u001b[0m\n\u001b[0;32m---> 19\u001b[0;31m             \u001b[0;32mraise\u001b[0m \u001b[0mValueError\u001b[0m\u001b[0;34m(\u001b[0m\u001b[0;34mf\"{num} is not positive\"\u001b[0m\u001b[0;34m)\u001b[0m\u001b[0;34m\u001b[0m\u001b[0;34m\u001b[0m\u001b[0m\n\u001b[0m\u001b[1;32m     20\u001b[0m \u001b[0;34m\u001b[0m\u001b[0m\n\u001b[1;32m     21\u001b[0m         \u001b[0mself\u001b[0m\u001b[0;34m.\u001b[0m\u001b[0m__legs\u001b[0m \u001b[0;34m=\u001b[0m \u001b[0mnum\u001b[0m\u001b[0;34m\u001b[0m\u001b[0;34m\u001b[0m\u001b[0m\n",
      "\u001b[0;31mValueError\u001b[0m: -5 is not positive"
     ]
    }
   ],
   "source": [
    "animal.legs = -5"
   ]
  },
  {
   "cell_type": "code",
   "execution_count": 43,
   "metadata": {},
   "outputs": [],
   "source": [
    "animal.legs = 10"
   ]
  },
  {
   "cell_type": "code",
   "execution_count": 44,
   "metadata": {},
   "outputs": [
    {
     "data": {
      "text/plain": [
       "10"
      ]
     },
     "execution_count": 44,
     "metadata": {},
     "output_type": "execute_result"
    }
   ],
   "source": [
    "animal.legs"
   ]
  },
  {
   "cell_type": "markdown",
   "metadata": {},
   "source": [
    "### \\_\\_slots__"
   ]
  },
  {
   "cell_type": "markdown",
   "metadata": {},
   "source": [
    "+ эксплицитно задаем ожидаемые атрибуты, делаем структуру неизменяемой\n",
    "+ ускоряет доступ к атрибутам, уменьшает потребление RAM\n",
    "+ нет доступа к \\__dict__, нельзя задать новые атрибуты"
   ]
  },
  {
   "cell_type": "markdown",
   "metadata": {},
   "source": [
    "Подробнее в документации https://docs.python.org/3/reference/datamodel.html#slots"
   ]
  },
  {
   "cell_type": "code",
   "execution_count": 77,
   "metadata": {},
   "outputs": [],
   "source": [
    "# у экземпляра могут быть только атрибуты из slots и методы перечисленные в классе, плюс все унаследованные\n",
    "class Animal:\n",
    "    __slots__ = 'name', '__legs', 'scariness'\n",
    "    \n",
    "    def __init__(self, name, legs, scariness):\n",
    "        self.name = name\n",
    "        self.__legs = legs # делаем атрибут приватным\n",
    "        self.scariness = scariness\n",
    "        \n",
    "        \n",
    "    @property\n",
    "    def legs(self):\n",
    "        return self.__legs\n",
    "    \n",
    "    def sound(self):\n",
    "        return 'Sound!'"
   ]
  },
  {
   "cell_type": "code",
   "execution_count": 90,
   "metadata": {},
   "outputs": [
    {
     "data": {
      "text/plain": [
       "(object,)"
      ]
     },
     "execution_count": 90,
     "metadata": {},
     "output_type": "execute_result"
    }
   ],
   "source": [
    "Animal.__bases__"
   ]
  },
  {
   "cell_type": "code",
   "execution_count": 91,
   "metadata": {},
   "outputs": [
    {
     "data": {
      "text/plain": [
       "['__class__',\n",
       " '__delattr__',\n",
       " '__dir__',\n",
       " '__doc__',\n",
       " '__eq__',\n",
       " '__format__',\n",
       " '__ge__',\n",
       " '__getattribute__',\n",
       " '__gt__',\n",
       " '__hash__',\n",
       " '__init__',\n",
       " '__init_subclass__',\n",
       " '__le__',\n",
       " '__lt__',\n",
       " '__ne__',\n",
       " '__new__',\n",
       " '__reduce__',\n",
       " '__reduce_ex__',\n",
       " '__repr__',\n",
       " '__setattr__',\n",
       " '__sizeof__',\n",
       " '__str__',\n",
       " '__subclasshook__']"
      ]
     },
     "execution_count": 91,
     "metadata": {},
     "output_type": "execute_result"
    }
   ],
   "source": [
    "dir(object)"
   ]
  },
  {
   "cell_type": "code",
   "execution_count": 78,
   "metadata": {},
   "outputs": [],
   "source": [
    "animal = Animal(name='Monster', legs=4, scariness=1111)"
   ]
  },
  {
   "cell_type": "code",
   "execution_count": 79,
   "metadata": {},
   "outputs": [
    {
     "data": {
      "text/plain": [
       "4"
      ]
     },
     "execution_count": 79,
     "metadata": {},
     "output_type": "execute_result"
    }
   ],
   "source": [
    "animal.legs"
   ]
  },
  {
   "cell_type": "code",
   "execution_count": 80,
   "metadata": {},
   "outputs": [
    {
     "data": {
      "text/plain": [
       "'Sound!'"
      ]
     },
     "execution_count": 80,
     "metadata": {},
     "output_type": "execute_result"
    }
   ],
   "source": [
    "animal.sound()"
   ]
  },
  {
   "cell_type": "code",
   "execution_count": 81,
   "metadata": {
    "scrolled": false
   },
   "outputs": [],
   "source": [
    "animal.new_attr = 10"
   ]
  },
  {
   "cell_type": "code",
   "execution_count": 82,
   "metadata": {},
   "outputs": [
    {
     "data": {
      "text/plain": [
       "['__class__',\n",
       " '__delattr__',\n",
       " '__dict__',\n",
       " '__dir__',\n",
       " '__doc__',\n",
       " '__eq__',\n",
       " '__format__',\n",
       " '__ge__',\n",
       " '__getattribute__',\n",
       " '__gt__',\n",
       " '__hash__',\n",
       " '__init__',\n",
       " '__init_subclass__',\n",
       " '__le__',\n",
       " '__lt__',\n",
       " '__module__',\n",
       " '__ne__',\n",
       " '__new__',\n",
       " '__reduce__',\n",
       " '__reduce_ex__',\n",
       " '__repr__',\n",
       " '__setattr__',\n",
       " '__sizeof__',\n",
       " '__str__',\n",
       " '__subclasshook__',\n",
       " '__weakref__',\n",
       " 'legs',\n",
       " 'sound']"
      ]
     },
     "execution_count": 82,
     "metadata": {},
     "output_type": "execute_result"
    }
   ],
   "source": [
    "dir(Animal)"
   ]
  },
  {
   "cell_type": "code",
   "execution_count": 83,
   "metadata": {},
   "outputs": [],
   "source": [
    "class Mammal(Animal):\n",
    "    # slots если задан, то еще подцепляется из родительского класса,\n",
    "    # заново перечислять name', '__legs', 'scariness' не надо\n",
    "    # а если не задан?\n",
    "    # а если не задан у родителя?\n",
    "    __slots__ = ('is_mammal',)\n",
    "    \n",
    "    def __init__(self, name, scariness):\n",
    "        self.is_mammal = True\n",
    "        super().__init__(name, 4, scariness)"
   ]
  },
  {
   "cell_type": "code",
   "execution_count": 84,
   "metadata": {},
   "outputs": [],
   "source": [
    "cat = Mammal('Cat', 10)"
   ]
  },
  {
   "cell_type": "code",
   "execution_count": 85,
   "metadata": {},
   "outputs": [
    {
     "data": {
      "text/plain": [
       "4"
      ]
     },
     "execution_count": 85,
     "metadata": {},
     "output_type": "execute_result"
    }
   ],
   "source": [
    "cat.legs"
   ]
  },
  {
   "cell_type": "code",
   "execution_count": 86,
   "metadata": {},
   "outputs": [
    {
     "data": {
      "text/plain": [
       "10"
      ]
     },
     "execution_count": 86,
     "metadata": {},
     "output_type": "execute_result"
    }
   ],
   "source": [
    "cat.scariness"
   ]
  },
  {
   "cell_type": "code",
   "execution_count": 87,
   "metadata": {},
   "outputs": [
    {
     "data": {
      "text/plain": [
       "True"
      ]
     },
     "execution_count": 87,
     "metadata": {},
     "output_type": "execute_result"
    }
   ],
   "source": [
    "cat.is_mammal"
   ]
  },
  {
   "cell_type": "code",
   "execution_count": 88,
   "metadata": {},
   "outputs": [],
   "source": [
    "cat.new_attr = True"
   ]
  },
  {
   "cell_type": "code",
   "execution_count": 89,
   "metadata": {},
   "outputs": [
    {
     "data": {
      "text/plain": [
       "['_Animal__legs',\n",
       " '__class__',\n",
       " '__delattr__',\n",
       " '__dict__',\n",
       " '__dir__',\n",
       " '__doc__',\n",
       " '__eq__',\n",
       " '__format__',\n",
       " '__ge__',\n",
       " '__getattribute__',\n",
       " '__gt__',\n",
       " '__hash__',\n",
       " '__init__',\n",
       " '__init_subclass__',\n",
       " '__le__',\n",
       " '__lt__',\n",
       " '__module__',\n",
       " '__ne__',\n",
       " '__new__',\n",
       " '__reduce__',\n",
       " '__reduce_ex__',\n",
       " '__repr__',\n",
       " '__setattr__',\n",
       " '__sizeof__',\n",
       " '__slots__',\n",
       " '__str__',\n",
       " '__subclasshook__',\n",
       " '__weakref__',\n",
       " 'is_mammal',\n",
       " 'legs',\n",
       " 'name',\n",
       " 'new_attr',\n",
       " 'scariness',\n",
       " 'sound']"
      ]
     },
     "execution_count": 89,
     "metadata": {},
     "output_type": "execute_result"
    }
   ],
   "source": [
    "dir(cat)"
   ]
  },
  {
   "cell_type": "code",
   "execution_count": 144,
   "metadata": {},
   "outputs": [
    {
     "data": {
      "text/plain": [
       "True"
      ]
     },
     "execution_count": 144,
     "metadata": {},
     "output_type": "execute_result"
    }
   ],
   "source": [
    "cat.new_attr"
   ]
  },
  {
   "cell_type": "markdown",
   "metadata": {
    "id": "lV_CRqsZ8y5o"
   },
   "source": [
    "**Задание**\n",
    "+ Написать класс Sentence, конструктор получает на вход предложение \n",
    "+ Токенизация на ваш вкус\n",
    "+ У класса должен быть атрибуты \n",
    "     * text - текст предложения, обязательно строка, иначе TypeError\n",
    "     * words - список токенов, обязательно list строк, иначе TypeError    \n",
    "     \n",
    "\n",
    "При изменении одного из них, другой должен изменяться соответственно. Должно быть нельзя создать другие атрибуты. \n",
    "Должно быть нельзя менять токены по отдельности: ```st.words[0] = 'a'```"
   ]
  },
  {
   "cell_type": "code",
   "execution_count": 25,
   "metadata": {},
   "outputs": [],
   "source": [
    "# 1 способ не давать частично менять words - не хранить список, а собирать на лету из текста предложения\n",
    "class Sentence:\n",
    "    __slots__ = \"__text\"\n",
    "    \n",
    "    def __init__(self, text):\n",
    "        self.__text = text\n",
    "        \n",
    "    @property\n",
    "    def text(self):\n",
    "        print('called text property')\n",
    "        return self.__text\n",
    "    \n",
    "    @property\n",
    "    def words(self):\n",
    "        print('called words property')\n",
    "        return self.__text.split(' ')\n",
    "    \n",
    "    @text.setter\n",
    "    def text(self, new_text):\n",
    "        print('called text setter')\n",
    "        if not isinstance(new_text, str):\n",
    "            raise TypeError(f'{new_text} has type {type(new_text)} should be str')\n",
    "        self.__text = new_text\n",
    "        \n",
    "    @words.setter\n",
    "    def words(self, new_words):\n",
    "        print('called words setter')\n",
    "        if not isinstance(new_words, list):\n",
    "            raise TypeError('not list')\n",
    "        for word in new_words:\n",
    "            if not isinstance(word, str):\n",
    "                raise TypeError('not str')\n",
    "        self.__text = ' '.join(new_words)\n",
    "            "
   ]
  },
  {
   "cell_type": "code",
   "execution_count": 26,
   "metadata": {},
   "outputs": [],
   "source": [
    "# 2 способ - хранить в виде неизменямого типа данных - tuple, при возвращении преобразовывать в list\n",
    "class Sentence:\n",
    "    __slots__ = \"__text\", \"__words\"\n",
    "    \n",
    "    def __init__(self, text):\n",
    "        self.__text = text\n",
    "        self.__words = tuple(text.split(' '))\n",
    "        \n",
    "    @property\n",
    "    def text(self):\n",
    "        print('called text property')\n",
    "        return self.__text\n",
    "    \n",
    "    @property\n",
    "    def words(self):\n",
    "        print('called words property')\n",
    "        return list(self.__words)\n",
    "    \n",
    "    @text.setter\n",
    "    def text(self, new_text):\n",
    "        print('called text setter')\n",
    "        if not isinstance(new_text, str):\n",
    "            raise TypeError(f'{new_text} has type {type(new_text)} should be str')\n",
    "        self.__text = new_text\n",
    "        self.__words = tuple(new_text.split(' '))\n",
    "        \n",
    "    @words.setter\n",
    "    def words(self, new_words):\n",
    "        print('called words setter')\n",
    "        if not isinstance(new_words, list):\n",
    "            raise TypeError('not list')\n",
    "        for word in new_words:\n",
    "            if not isinstance(word, str):\n",
    "                raise TypeError('not str')\n",
    "        self.__words = new_words\n",
    "        self.__text = ' '.join(new_words)\n",
    "            "
   ]
  },
  {
   "cell_type": "code",
   "execution_count": 27,
   "metadata": {},
   "outputs": [
    {
     "name": "stdout",
     "output_type": "stream",
     "text": [
      "called words property\n"
     ]
    },
    {
     "data": {
      "text/plain": [
       "['Мама,', 'папа', 'и', 'Вася', 'мыли', 'сине-зеленую', 'раму!!!']"
      ]
     },
     "execution_count": 27,
     "metadata": {},
     "output_type": "execute_result"
    }
   ],
   "source": [
    "st = Sentence('Мама, папа и Вася мыли сине-зеленую раму!!!')\n",
    "st.words\n",
    "# ['Мама,', 'папа', 'и', 'Вася', 'мыли', 'сине-зеленую', 'раму!!!']"
   ]
  },
  {
   "cell_type": "code",
   "execution_count": 28,
   "metadata": {},
   "outputs": [
    {
     "name": "stdout",
     "output_type": "stream",
     "text": [
      "called text setter\n"
     ]
    },
    {
     "ename": "TypeError",
     "evalue": "12345 has type <class 'int'> should be str",
     "output_type": "error",
     "traceback": [
      "\u001b[0;31m---------------------------------------------------------------------------\u001b[0m",
      "\u001b[0;31mTypeError\u001b[0m                                 Traceback (most recent call last)",
      "\u001b[0;32m<ipython-input-28-5500a74ed88a>\u001b[0m in \u001b[0;36m<module>\u001b[0;34m\u001b[0m\n\u001b[0;32m----> 1\u001b[0;31m \u001b[0mst\u001b[0m\u001b[0;34m.\u001b[0m\u001b[0mtext\u001b[0m \u001b[0;34m=\u001b[0m \u001b[0;36m12345\u001b[0m\u001b[0;34m\u001b[0m\u001b[0;34m\u001b[0m\u001b[0m\n\u001b[0m\u001b[1;32m      2\u001b[0m \u001b[0;31m# TypeError\u001b[0m\u001b[0;34m\u001b[0m\u001b[0;34m\u001b[0m\u001b[0;34m\u001b[0m\u001b[0m\n",
      "\u001b[0;32m<ipython-input-26-d93dd1af4e34>\u001b[0m in \u001b[0;36mtext\u001b[0;34m(self, new_text)\u001b[0m\n\u001b[1;32m     21\u001b[0m         \u001b[0mprint\u001b[0m\u001b[0;34m(\u001b[0m\u001b[0;34m'called text setter'\u001b[0m\u001b[0;34m)\u001b[0m\u001b[0;34m\u001b[0m\u001b[0;34m\u001b[0m\u001b[0m\n\u001b[1;32m     22\u001b[0m         \u001b[0;32mif\u001b[0m \u001b[0;32mnot\u001b[0m \u001b[0misinstance\u001b[0m\u001b[0;34m(\u001b[0m\u001b[0mnew_text\u001b[0m\u001b[0;34m,\u001b[0m \u001b[0mstr\u001b[0m\u001b[0;34m)\u001b[0m\u001b[0;34m:\u001b[0m\u001b[0;34m\u001b[0m\u001b[0;34m\u001b[0m\u001b[0m\n\u001b[0;32m---> 23\u001b[0;31m             \u001b[0;32mraise\u001b[0m \u001b[0mTypeError\u001b[0m\u001b[0;34m(\u001b[0m\u001b[0;34mf'{new_text} has type {type(new_text)} should be str'\u001b[0m\u001b[0;34m)\u001b[0m\u001b[0;34m\u001b[0m\u001b[0;34m\u001b[0m\u001b[0m\n\u001b[0m\u001b[1;32m     24\u001b[0m         \u001b[0mself\u001b[0m\u001b[0;34m.\u001b[0m\u001b[0m__text\u001b[0m \u001b[0;34m=\u001b[0m \u001b[0mnew_text\u001b[0m\u001b[0;34m\u001b[0m\u001b[0;34m\u001b[0m\u001b[0m\n\u001b[1;32m     25\u001b[0m         \u001b[0mself\u001b[0m\u001b[0;34m.\u001b[0m\u001b[0m__words\u001b[0m \u001b[0;34m=\u001b[0m \u001b[0mtuple\u001b[0m\u001b[0;34m(\u001b[0m\u001b[0mnew_text\u001b[0m\u001b[0;34m.\u001b[0m\u001b[0msplit\u001b[0m\u001b[0;34m(\u001b[0m\u001b[0;34m' '\u001b[0m\u001b[0;34m)\u001b[0m\u001b[0;34m)\u001b[0m\u001b[0;34m\u001b[0m\u001b[0;34m\u001b[0m\u001b[0m\n",
      "\u001b[0;31mTypeError\u001b[0m: 12345 has type <class 'int'> should be str"
     ]
    }
   ],
   "source": [
    "st.text = 12345\n",
    "# TypeError"
   ]
  },
  {
   "cell_type": "code",
   "execution_count": 29,
   "metadata": {},
   "outputs": [
    {
     "name": "stdout",
     "output_type": "stream",
     "text": [
      "called text setter\n",
      "called words property\n"
     ]
    },
    {
     "data": {
      "text/plain": [
       "['Кошка', 'спит']"
      ]
     },
     "execution_count": 29,
     "metadata": {},
     "output_type": "execute_result"
    }
   ],
   "source": [
    "st.text = 'Кошка спит'\n",
    "st.words\n",
    "# ['Кошка', 'спит']"
   ]
  },
  {
   "cell_type": "code",
   "execution_count": 30,
   "metadata": {},
   "outputs": [
    {
     "name": "stdout",
     "output_type": "stream",
     "text": [
      "called words setter\n",
      "called text property\n"
     ]
    },
    {
     "data": {
      "text/plain": [
       "'Котик спит'"
      ]
     },
     "execution_count": 30,
     "metadata": {},
     "output_type": "execute_result"
    }
   ],
   "source": [
    "st.words = ['Котик', 'спит']\n",
    "st.text\n",
    "# 'Котик спит'"
   ]
  },
  {
   "cell_type": "code",
   "execution_count": 31,
   "metadata": {},
   "outputs": [
    {
     "ename": "AttributeError",
     "evalue": "'Sentence' object has no attribute 'new_attr'",
     "output_type": "error",
     "traceback": [
      "\u001b[0;31m---------------------------------------------------------------------------\u001b[0m",
      "\u001b[0;31mAttributeError\u001b[0m                            Traceback (most recent call last)",
      "\u001b[0;32m<ipython-input-31-5d02ecc7e9d6>\u001b[0m in \u001b[0;36m<module>\u001b[0;34m\u001b[0m\n\u001b[0;32m----> 1\u001b[0;31m \u001b[0mst\u001b[0m\u001b[0;34m.\u001b[0m\u001b[0mnew_attr\u001b[0m \u001b[0;34m=\u001b[0m \u001b[0;36m10\u001b[0m\u001b[0;34m\u001b[0m\u001b[0;34m\u001b[0m\u001b[0m\n\u001b[0m\u001b[1;32m      2\u001b[0m \u001b[0;31m# AttributeError: 'Sentence' object has no attribute 'new_attr'\u001b[0m\u001b[0;34m\u001b[0m\u001b[0;34m\u001b[0m\u001b[0;34m\u001b[0m\u001b[0m\n",
      "\u001b[0;31mAttributeError\u001b[0m: 'Sentence' object has no attribute 'new_attr'"
     ]
    }
   ],
   "source": [
    "st.new_attr = 10\n",
    "# AttributeError: 'Sentence' object has no attribute 'new_attr'"
   ]
  },
  {
   "cell_type": "code",
   "execution_count": 32,
   "metadata": {},
   "outputs": [
    {
     "name": "stdout",
     "output_type": "stream",
     "text": [
      "called words property\n",
      "called words property\n"
     ]
    },
    {
     "data": {
      "text/plain": [
       "['Котик', 'спит']"
      ]
     },
     "execution_count": 32,
     "metadata": {},
     "output_type": "execute_result"
    }
   ],
   "source": [
    "# здесь st.words не изменяется, но и не возникает никакой ошибки, потому что setter не вызыватеся, \n",
    "# так как здесь мы не присваиваем новое значение атрибуту, а получаем к нему доступ через property \n",
    "# property формирует и возвращает новый объект типа list, который можно спокойно изменять \n",
    "st.words[0] = [1,2,3]\n",
    "st.words\n",
    "# ['Котик', 'спит']"
   ]
  },
  {
   "cell_type": "code",
   "execution_count": 24,
   "metadata": {},
   "outputs": [
    {
     "data": {
      "text/plain": [
       "'Котик спит'"
      ]
     },
     "execution_count": 24,
     "metadata": {},
     "output_type": "execute_result"
    }
   ],
   "source": [
    "st.text\n",
    "# 'Котик спит'"
   ]
  }
 ],
 "metadata": {
  "colab": {
   "name": "12.ipynb",
   "provenance": []
  },
  "kernelspec": {
   "display_name": "Python 3",
   "language": "python",
   "name": "python3"
  },
  "language_info": {
   "codemirror_mode": {
    "name": "ipython",
    "version": 3
   },
   "file_extension": ".py",
   "mimetype": "text/x-python",
   "name": "python",
   "nbconvert_exporter": "python",
   "pygments_lexer": "ipython3",
   "version": "3.7.4"
  }
 },
 "nbformat": 4,
 "nbformat_minor": 1
}
