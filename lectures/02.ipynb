{
 "cells": [
  {
   "cell_type": "markdown",
   "metadata": {
    "id": "zYanPKtzELqm"
   },
   "source": [
    "# Основы ООП"
   ]
  },
  {
   "cell_type": "markdown",
   "metadata": {
    "id": "aH06m9pW7dK7"
   },
   "source": [
    "## Класс и экземпляр"
   ]
  },
  {
   "cell_type": "code",
   "execution_count": null,
   "metadata": {
    "id": "9akaQ7eH7djJ"
   },
   "outputs": [],
   "source": [
    "from collections import Counter"
   ]
  },
  {
   "cell_type": "code",
   "execution_count": null,
   "metadata": {
    "id": "Q_H3-jMqoQ2c"
   },
   "outputs": [],
   "source": [
    "cnt = Counter('khgkrhiurunfumxxer')"
   ]
  },
  {
   "cell_type": "markdown",
   "metadata": {
    "id": "W3pQ3wCAtv90"
   },
   "source": [
    "Вопрос:\n",
    "+ что такое cnt, что такое Counter?\n",
    "+ что мы только что сделали?"
   ]
  },
  {
   "cell_type": "markdown",
   "metadata": {
    "id": "ou8SKCJg56mE"
   },
   "source": [
    "### Пример пользовательского класса"
   ]
  },
  {
   "cell_type": "code",
   "execution_count": null,
   "metadata": {
    "id": "lTo6NJ2_5903"
   },
   "outputs": [],
   "source": [
    "class Animal:\n",
    "    \"\"\"\n",
    "    Docstring\n",
    "    \"\"\"\n",
    " \n",
    "    # конструктор, вызывается при создании объекта \n",
    "    def __init__(self, name, legs, scariness):\n",
    "        \"\"\"\n",
    "        Constructor\n",
    "        \"\"\"\n",
    "        self.name = name # атрибуты (поля) класса\n",
    "        self.legs = legs\n",
    "        self.scariness = scariness\n",
    "        \n",
    "    \n",
    "    # метод класса\n",
    "    def introduce(self): \n",
    "        \"\"\"\n",
    "        Make animal introduce itself!\n",
    "        \"\"\"\n",
    "        print (\"Hello! My name is %s!\" % self.name)\n",
    "    \n",
    "    # метод класса\n",
    "    def sound(self):\n",
    "        \"\"\"\n",
    "        What does the animal say?\n",
    "        \"\"\"\n",
    "        print (\"Sound!\")\n"
   ]
  },
  {
   "cell_type": "markdown",
   "metadata": {
    "id": "BbYYgPG9yvuU"
   },
   "source": [
    "+ Название класса - всегда с большой буквы, всегда CamelCase\n",
    "+ Обязательный первый аргумент у всех методов класса - ***self***, переменная self ссылается на объект класса и позволяет получить доступ к атрибутам и методам. "
   ]
  },
  {
   "cell_type": "markdown",
   "metadata": {
    "id": "u01Qc41q7HMo"
   },
   "source": [
    "### Документация"
   ]
  },
  {
   "cell_type": "markdown",
   "metadata": {
    "id": "3BZFBkLZ6WND"
   },
   "source": [
    "Встроенная документация в тройных кавычках. Можно напечатать с помощью функции **help**. \n",
    "Выдаст нам ифнормацию о том, какие методы есть в классе и документацию к ним. "
   ]
  },
  {
   "cell_type": "code",
   "execution_count": null,
   "metadata": {
    "colab": {
     "base_uri": "https://localhost:8080/"
    },
    "id": "ZcYpDqty7s7j",
    "outputId": "f152025f-5427-498d-cad2-4d17bba76ab2"
   },
   "outputs": [],
   "source": [
    "help(Animal) # от объекта класса"
   ]
  },
  {
   "cell_type": "code",
   "execution_count": null,
   "metadata": {
    "colab": {
     "base_uri": "https://localhost:8080/"
    },
    "id": "uyNh_Oni-eDR",
    "outputId": "e23a7ea4-7701-47ec-cbed-ff3b2414e3ff"
   },
   "outputs": [],
   "source": [
    "animal = Animal('Animal', 4, 1)\n",
    "help(animal) # от объекта экземпляра класса"
   ]
  },
  {
   "cell_type": "markdown",
   "metadata": {
    "id": "q9Fc5TCm7uCz"
   },
   "source": [
    "#### dir()"
   ]
  },
  {
   "cell_type": "markdown",
   "metadata": {
    "id": "PFc6yj5p7y5m"
   },
   "source": [
    "Также информацию о свойствах класса/экземпляра можно получить с помощью функции ***dir()***\n",
    "Она озвращает имена переменных, доступные в локальной области, либо атрибуты указанного объекта в алфавитном порядке."
   ]
  },
  {
   "cell_type": "code",
   "execution_count": null,
   "metadata": {
    "colab": {
     "base_uri": "https://localhost:8080/"
    },
    "id": "QmLqBOTp7Ugx",
    "outputId": "18cd45bf-c43c-4617-dd6d-fb10403c34ca"
   },
   "outputs": [],
   "source": [
    "dir(Animal)"
   ]
  },
  {
   "cell_type": "code",
   "execution_count": null,
   "metadata": {
    "colab": {
     "base_uri": "https://localhost:8080/"
    },
    "id": "luDNFzUT8vaD",
    "outputId": "f08bf309-a4b7-47e8-a6d3-e6f69718620e"
   },
   "outputs": [],
   "source": [
    "dir(animal)"
   ]
  },
  {
   "cell_type": "markdown",
   "metadata": {
    "id": "CnvvY9tu9Eza"
   },
   "source": [
    "**Задание:**\n",
    "+ вывести 3 наиболее частых символа из текста ридми репозитория нашего курса на гитхабе (https://github.com/eszakharova/py_prog2021-22#readme) с помощью Counter\n",
    "+ подсказака: если найти правильную ссылку, то можно сразу получить сырой текст, и не парсить html. "
   ]
  },
  {
   "cell_type": "markdown",
   "metadata": {
    "id": "pa6sv1jw8uwz"
   },
   "source": [
    "## Атрибуты экземпляра"
   ]
  },
  {
   "cell_type": "markdown",
   "metadata": {
    "id": "FmaJoySQLcMP"
   },
   "source": [
    "При создании класса в принципе ничего не мешает нам инициалирировать атрибуты  в любом методе, в любом месте. Но обычно все атрибуты стоит создавать внутри констуктора для того, чтобы все экземпляры класса имели одинаковую структуру (одинаковый набор атрибутов вне зависимости от вызванных методов). "
   ]
  },
  {
   "cell_type": "code",
   "execution_count": null,
   "metadata": {
    "colab": {
     "base_uri": "https://localhost:8080/"
    },
    "id": "jRFejrzX0rJY",
    "outputId": "2e50d501-6da8-4f17-a3cb-3bfac846f74e"
   },
   "outputs": [],
   "source": [
    "animal = Animal(name='Doggy', legs=4, scariness=8) # экземпляр класса\n",
    "print(animal.scariness)\n",
    "animal.sound()\n",
    "animal.introduce()"
   ]
  },
  {
   "cell_type": "markdown",
   "metadata": {
    "id": "TuGY0_Fm8fcN"
   },
   "source": [
    "Каждый экземпляр класса имеет свои значения атрибутов. Можно менять их после создания объекта, можно создавать новые. "
   ]
  },
  {
   "cell_type": "code",
   "execution_count": null,
   "metadata": {
    "colab": {
     "base_uri": "https://localhost:8080/"
    },
    "id": "1n8ypgoo1fqA",
    "outputId": "196d6da2-ca46-42b3-f2bf-e05b674fbf6e"
   },
   "outputs": [],
   "source": [
    "animal2 = Animal('Spidy', 8, 225)\n",
    "print(animal2.name)\n",
    "animal2.name = 'Spider' # меняем значение атрибута name\n",
    "print(animal2.name)"
   ]
  },
  {
   "cell_type": "code",
   "execution_count": null,
   "metadata": {
    "colab": {
     "base_uri": "https://localhost:8080/"
    },
    "id": "QyThWL-j0vmb",
    "outputId": "82bc6407-1ae2-4b4f-f8ef-a54c975b3cf5"
   },
   "outputs": [],
   "source": [
    "animal3 = Animal('Monster', legs=1.5, scariness=1000)\n",
    "print(animal3.legs)\n",
    "animal3.legs = 100 # меняем значение атрибута legs\n",
    "print(animal3.legs)"
   ]
  },
  {
   "cell_type": "code",
   "execution_count": null,
   "metadata": {
    "colab": {
     "base_uri": "https://localhost:8080/"
    },
    "id": "FUaR1vnBLoV0",
    "outputId": "750dfb69-37b8-4bf0-be98-e624586ff173"
   },
   "outputs": [],
   "source": [
    "animal2.new_attr = 10\n",
    "# отобразится в dir\n",
    "dir(animal2)"
   ]
  },
  {
   "cell_type": "code",
   "execution_count": null,
   "metadata": {
    "colab": {
     "base_uri": "https://localhost:8080/"
    },
    "id": "VeTIOXJo2GKp",
    "outputId": "91d96c5b-b08b-44b0-d45d-56adce64ec44"
   },
   "outputs": [],
   "source": [
    "# новый атрибут появляется только у того экземпляра, у которого его создали (не у всех)\n",
    "dir(animal2) == dir(animal3)"
   ]
  },
  {
   "cell_type": "markdown",
   "metadata": {
    "id": "GNnU0_8IFLRQ"
   },
   "source": [
    "## Атрибуты класса"
   ]
  },
  {
   "cell_type": "markdown",
   "metadata": {
    "id": "1iXmrsLrFP-N"
   },
   "source": [
    "У класса также могут быть свои поля, которые принадлежат не объекту экземпляра класса, а объекту класса."
   ]
  },
  {
   "cell_type": "code",
   "execution_count": null,
   "metadata": {
    "id": "KHQ9hfz32d0w"
   },
   "outputs": [],
   "source": [
    "class Animal:\n",
    "   \n",
    "    fav_food = 'pizza' # атрибут класса, вне __init__ и без self\n",
    "    \n",
    "    \n",
    "    def __init__(self, name, legs, scariness):\n",
    "        self.name = name \n",
    "        self.legs = legs\n",
    "        self.scariness = scariness\n",
    "    \n",
    "    def introduce(self): \n",
    "        print (\"Hello! My name is %s!\" % self.name)\n",
    "    \n",
    "    def sound(self):\n",
    "        print (\"Sound!\")\n",
    "\n",
    "    def tell_fav_food(self):\n",
    "        print(\"I like %s!\" % self.fav_food) # обращаемся с помощью self!\n",
    "    "
   ]
  },
  {
   "cell_type": "code",
   "execution_count": null,
   "metadata": {
    "id": "0Lu5GaXdK4HT"
   },
   "outputs": [],
   "source": [
    "animal = Animal(name='Doggy', legs=4, scariness=8)\n",
    "animal2 = Animal('Spidy', 8, 225)\n",
    "animal3 = Animal('Monster', legs=1.5, scariness=1000)"
   ]
  },
  {
   "cell_type": "code",
   "execution_count": null,
   "metadata": {
    "colab": {
     "base_uri": "https://localhost:8080/"
    },
    "id": "W6mny7LEOw9S",
    "outputId": "d478482b-b725-46ed-9d91-83346e16f10a"
   },
   "outputs": [],
   "source": [
    "animals = [animal, animal2, animal3]\n",
    "for animal_ in animals:\n",
    "    print(animal_.fav_food) # доступ через экземпляр"
   ]
  },
  {
   "cell_type": "code",
   "execution_count": null,
   "metadata": {
    "colab": {
     "base_uri": "https://localhost:8080/",
     "height": 35
    },
    "id": "5oeNaVZoPPCH",
    "outputId": "1776669a-1245-4d0a-c683-7e944e189388"
   },
   "outputs": [],
   "source": [
    "Animal.fav_food # доступ через класс"
   ]
  },
  {
   "cell_type": "code",
   "execution_count": null,
   "metadata": {
    "colab": {
     "base_uri": "https://localhost:8080/",
     "height": 163
    },
    "id": "VCOglGCMPgJd",
    "outputId": "37f6eed2-d106-4825-8685-9de272930aed"
   },
   "outputs": [],
   "source": [
    "Animal.name # к атрибутам экземпляра доступ через объект класса мы получить не можем. как вы думаете почему?"
   ]
  },
  {
   "cell_type": "markdown",
   "metadata": {
    "id": "nqHXlpnuW4Gm"
   },
   "source": [
    "Значение атрибута класса нельзя изменить через его экземпляр. Если попробовать это сделать так, как в коде ниже, то у экземпляра класса создается атрибут экземпляра с таким же именем. При этом значение этого атрибута у объекта класса и всех других его экземпляров не изменится."
   ]
  },
  {
   "cell_type": "code",
   "execution_count": null,
   "metadata": {
    "colab": {
     "base_uri": "https://localhost:8080/",
     "height": 35
    },
    "id": "9xQ4urcqW63y",
    "outputId": "971781a0-e5b5-4f69-8aa1-39b7ad3fd18a"
   },
   "outputs": [],
   "source": [
    "animal.fav_food = 'salad'\n",
    "animal.fav_food"
   ]
  },
  {
   "cell_type": "markdown",
   "metadata": {
    "id": "C0ZGJhPOY-QS"
   },
   "source": [
    "Доступ к атрибуту класса через переменную fav_food у этого экземпляра потерялся, так как она теперь ссылается на другой объект. Но обратиться к атрибуту класса мы все еще можем, он никуда не делся. "
   ]
  },
  {
   "cell_type": "code",
   "execution_count": null,
   "metadata": {
    "colab": {
     "base_uri": "https://localhost:8080/",
     "height": 35
    },
    "id": "F-uXnjSEZe0O",
    "outputId": "162eb150-20f3-42ca-d256-d40795421031"
   },
   "outputs": [],
   "source": [
    "animal.__class__.fav_food # __class__ ссылается на объект класса "
   ]
  },
  {
   "cell_type": "markdown",
   "metadata": {
    "id": "9W8WSHdPZsrQ"
   },
   "source": [
    "У остальных экземпляров атрибуты остались прежними"
   ]
  },
  {
   "cell_type": "code",
   "execution_count": null,
   "metadata": {
    "colab": {
     "base_uri": "https://localhost:8080/"
    },
    "id": "wxdZ1bT3XKrE",
    "outputId": "eebc8967-9865-4571-f588-e4a86a617fae"
   },
   "outputs": [],
   "source": [
    "print(animal2.fav_food, Animal.fav_food) "
   ]
  },
  {
   "cell_type": "markdown",
   "metadata": {
    "id": "KrxCC_3pXqEn"
   },
   "source": [
    "Можно поменять атрибут класса через объект класса"
   ]
  },
  {
   "cell_type": "code",
   "execution_count": null,
   "metadata": {
    "id": "l0p9ICq9XX45"
   },
   "outputs": [],
   "source": [
    "Animal.fav_food = 'sandwich'"
   ]
  },
  {
   "cell_type": "code",
   "execution_count": null,
   "metadata": {
    "colab": {
     "base_uri": "https://localhost:8080/"
    },
    "id": "eKPYzcowXi9l",
    "outputId": "a8c4d973-8672-4786-fc9d-596b0b7572fa"
   },
   "outputs": [],
   "source": [
    "print(animal2.fav_food, animal3.fav_food) # значение fav_food изменилось у всех объектов, где мы не перезаписывали атрибут экземпляра"
   ]
  },
  {
   "cell_type": "code",
   "execution_count": null,
   "metadata": {
    "colab": {
     "base_uri": "https://localhost:8080/",
     "height": 35
    },
    "id": "IpoBlBIUX4qe",
    "outputId": "6d7f53e4-916a-4ed9-b8d5-7404ba1b2d2e"
   },
   "outputs": [],
   "source": [
    "# как вы думаете, что выведет код?\n",
    "# print(animal.fav_food)"
   ]
  },
  {
   "cell_type": "code",
   "execution_count": null,
   "metadata": {},
   "outputs": [],
   "source": [
    "# print(animal.__class__.fav_food)"
   ]
  },
  {
   "cell_type": "markdown",
   "metadata": {
    "id": "DTBzf8XAEVPY"
   },
   "source": [
    "## Объекты в питоне и их удаление"
   ]
  },
  {
   "cell_type": "markdown",
   "metadata": {
    "id": "VBbPwkRFEt6c"
   },
   "source": [
    "В питоне все является объектом и к тому же экземпляром какого-то класса: число, строка, словарь, массив, экземпляр встроенного класса, экземпляр пользовательского класса, сам класс, функция. \n",
    "\n",
    "Объект - участок в памяти, у которого обязательно присутсвуют два поля: **тип** и **счётчик ссылок**. У каждого объекта есть уникальный идентификатор, который возвращает функция ***id()***. Идентификатор является адресом объекта в памяти.\n",
    "\n",
    "Функция ***type()*** возвращает тип объекта - название класса, экземпляром которого является объект. \n",
    "\n",
    "Мы можем обращаться к объектам и что-то сними делать с помощью переменных, которые ссылаются на нужный объект. "
   ]
  },
  {
   "cell_type": "markdown",
   "metadata": {
    "id": "b6eALAfnuyy9"
   },
   "source": [
    "### type()"
   ]
  },
  {
   "cell_type": "code",
   "execution_count": null,
   "metadata": {
    "colab": {
     "base_uri": "https://localhost:8080/"
    },
    "id": "zxsdH8AAEDdI",
    "outputId": "6a007238-77e2-498b-d04e-03006a150803"
   },
   "outputs": [],
   "source": [
    "# число\n",
    "my_number = 13\n",
    "print(type(my_number))"
   ]
  },
  {
   "cell_type": "code",
   "execution_count": null,
   "metadata": {
    "colab": {
     "base_uri": "https://localhost:8080/"
    },
    "id": "_ZXWlC_xtIfG",
    "outputId": "bef84b4e-5eb9-44e4-a7a1-2e59b479fe7b"
   },
   "outputs": [],
   "source": [
    "print(type(13))"
   ]
  },
  {
   "cell_type": "code",
   "execution_count": null,
   "metadata": {
    "colab": {
     "base_uri": "https://localhost:8080/"
    },
    "id": "e7dyULVNsegM",
    "outputId": "b1eb22e2-1f3d-4496-9d53-209bedeee02a"
   },
   "outputs": [],
   "source": [
    "# функция\n",
    "def my_func(number: int):\n",
    "    return 13*number\n",
    "print(type(my_func))"
   ]
  },
  {
   "cell_type": "code",
   "execution_count": null,
   "metadata": {
    "colab": {
     "base_uri": "https://localhost:8080/"
    },
    "id": "W6zvSLcuvRPt",
    "outputId": "46d9265e-192f-4a05-e62f-58ed86e9b235"
   },
   "outputs": [],
   "source": [
    "# экземпляр класса\n",
    "print(type(cnt))\n",
    "print(type(animal))"
   ]
  },
  {
   "cell_type": "code",
   "execution_count": null,
   "metadata": {
    "colab": {
     "base_uri": "https://localhost:8080/"
    },
    "id": "UPgeFJCNvyOQ",
    "outputId": "4e4ba90f-a518-42fa-f597-18ad92ef8df2"
   },
   "outputs": [],
   "source": [
    "# класс\n",
    "print(type(Counter))"
   ]
  },
  {
   "cell_type": "code",
   "execution_count": null,
   "metadata": {
    "colab": {
     "base_uri": "https://localhost:8080/"
    },
    "id": "TNzQqBTdFAuz",
    "outputId": "40de2259-845f-4fe8-8942-5c016d3c20f7"
   },
   "outputs": [],
   "source": [
    "# int - тоже класс\n",
    "print(type(int))"
   ]
  },
  {
   "cell_type": "code",
   "execution_count": null,
   "metadata": {
    "colab": {
     "base_uri": "https://localhost:8080/"
    },
    "id": "xcMvstZ11_5k",
    "outputId": "cb47c4e1-5376-4ef0-8b1b-ec9fba9f53ed"
   },
   "outputs": [],
   "source": [
    "print(type(type))"
   ]
  },
  {
   "cell_type": "markdown",
   "metadata": {
    "id": "WqyRC8W6u5vs"
   },
   "source": [
    "### id()"
   ]
  },
  {
   "cell_type": "markdown",
   "metadata": {
    "id": "7aYZPNc_h6GM"
   },
   "source": [
    "Оператор ***is*** как раз таки сравнивает id объектов. "
   ]
  },
  {
   "cell_type": "code",
   "execution_count": null,
   "metadata": {
    "id": "UglNk3GRh5Vz"
   },
   "outputs": [],
   "source": [
    "my_str = 'abab'"
   ]
  },
  {
   "cell_type": "code",
   "execution_count": null,
   "metadata": {
    "colab": {
     "base_uri": "https://localhost:8080/"
    },
    "id": "XoUxRrPEhwei",
    "outputId": "7660db4b-b895-4f40-9142-93a85cca2421"
   },
   "outputs": [],
   "source": [
    "print(id(my_str))"
   ]
  },
  {
   "cell_type": "code",
   "execution_count": null,
   "metadata": {
    "colab": {
     "base_uri": "https://localhost:8080/"
    },
    "id": "G-eO9Q15-_PH",
    "outputId": "48e05a89-f932-45de-8300-3413aeb61295"
   },
   "outputs": [],
   "source": [
    "print(hex(id(my_str)))"
   ]
  },
  {
   "cell_type": "code",
   "execution_count": null,
   "metadata": {
    "id": "3Ydr9HgxiExK"
   },
   "outputs": [],
   "source": [
    "my_second_str = my_str"
   ]
  },
  {
   "cell_type": "code",
   "execution_count": null,
   "metadata": {
    "colab": {
     "base_uri": "https://localhost:8080/"
    },
    "id": "UrMSi4eMibqA",
    "outputId": "ebb6764f-d886-4684-e144-7ca97f6cda7a"
   },
   "outputs": [],
   "source": [
    "print(my_str is my_second_str)\n",
    "print(id(my_str) == id(my_second_str))"
   ]
  },
  {
   "cell_type": "markdown",
   "metadata": {
    "id": "JhYSKImY_J-u"
   },
   "source": [
    "### Количество ссылок и del()"
   ]
  },
  {
   "cell_type": "markdown",
   "metadata": {
    "id": "9qFBCw5sg6TZ"
   },
   "source": [
    "Встроенная функция ***del()*** удаляет переменную (и соответственно ссылку между переменной и объектом), счетчик ссылок уменьшается на 1. В случае если счетчик ссылок на объект равен нулю, объект удаляется из памяти. "
   ]
  },
  {
   "cell_type": "markdown",
   "metadata": {
    "id": "7UDpz2PnE2UW"
   },
   "source": [
    "Посмотреть сколько существует ссылок на объект можно с помощью функции ***sys.getrefcount()*** https://docs.python.org/3/library/sys.html#sys.getrefcount"
   ]
  },
  {
   "cell_type": "code",
   "execution_count": null,
   "metadata": {
    "id": "PUW1JMlEAl7p"
   },
   "outputs": [],
   "source": [
    "import sys"
   ]
  },
  {
   "cell_type": "code",
   "execution_count": null,
   "metadata": {
    "id": "QUKJVAzR_g55"
   },
   "outputs": [],
   "source": [
    "a = Counter('abc')\n",
    "b = a\n",
    "c = b"
   ]
  },
  {
   "cell_type": "code",
   "execution_count": null,
   "metadata": {
    "colab": {
     "base_uri": "https://localhost:8080/"
    },
    "id": "vk1tRd1cC6mL",
    "outputId": "2d02b2ea-40f6-4acd-c5ce-5fa1a458882d"
   },
   "outputs": [],
   "source": [
    "# на 1 больше ожидаемого, тк создается еще одна временная ссылка на объект из аргумента функции\n",
    "sys.getrefcount(a)"
   ]
  },
  {
   "cell_type": "code",
   "execution_count": null,
   "metadata": {
    "colab": {
     "base_uri": "https://localhost:8080/"
    },
    "id": "9_5RnjC9ED6o",
    "outputId": "b3b05e70-525d-4a63-9c34-d779e2bccfc2"
   },
   "outputs": [],
   "source": [
    "del b\n",
    "sys.getrefcount(a) "
   ]
  },
  {
   "cell_type": "markdown",
   "metadata": {
    "hide_input": false
   },
   "source": [
    "### Сборщик мусора и циклические ссылки"
   ]
  },
  {
   "cell_type": "markdown",
   "metadata": {},
   "source": [
    "Проблема - что делать в подобном случае?"
   ]
  },
  {
   "cell_type": "code",
   "execution_count": null,
   "metadata": {},
   "outputs": [],
   "source": [
    "class A:\n",
    "    pass\n",
    "\n",
    "class B:\n",
    "    pass"
   ]
  },
  {
   "cell_type": "code",
   "execution_count": null,
   "metadata": {},
   "outputs": [],
   "source": [
    "a = A()\n",
    "b = B()"
   ]
  },
  {
   "cell_type": "code",
   "execution_count": null,
   "metadata": {},
   "outputs": [],
   "source": [
    "# закрученная в замкнутый цикл ссылка: а ссылается на б, который ссылается на а, который ссылается на б\n",
    "# это значит, что счетчик ссылок никогда не будет равным 0, даже если мы удалим переменные а и б\n",
    "a.b = b\n",
    "b.a = a"
   ]
  },
  {
   "cell_type": "markdown",
   "metadata": {},
   "source": [
    "Для этого в питоне существует сборщик мусора (garbage collecor), который умеет находить циклические ссылки на объекты, к которым уже нет доступа из кода, и удалять такие объекты из памяти:"
   ]
  },
  {
   "cell_type": "code",
   "execution_count": null,
   "metadata": {},
   "outputs": [],
   "source": [
    "import ctypes\n",
    "import gc\n",
    "\n",
    "# выключаем циклический GC\n",
    "gc.disable()  \n",
    "\n",
    "# cписок ссылается сам на себя\n",
    "lst = []\n",
    "lst.append(lst)\n",
    "\n",
    "# сохраняем адрес списка lst\n",
    "lst_address = id(lst)\n",
    "\n",
    "# удаляем переменную lst\n",
    "del lst\n",
    "\n",
    "# словари ссылаются друг на друга\n",
    "object_1 = {}\n",
    "object_2 = {}\n",
    "object_1['obj2'] = object_2\n",
    "object_2['obj1'] = object_1\n",
    "\n",
    "# сохраняем адрес \n",
    "obj_address = id(object_1)\n",
    "\n",
    "# удаляем ссылки\n",
    "del object_1, object_2\n",
    "\n",
    "# раскомментируйте для запуска ручной сборки объектов с циклическими ссылками\n",
    "# gc.collect()\n",
    "\n",
    "# проверяем счетчик ссылок\n",
    "# используется from_address из ctypes для доступа к объектам по адресу памяти (по id)\n",
    "print(ctypes.c_long.from_address(obj_address).value)\n",
    "print(ctypes.c_long.from_address(lst_address).value)"
   ]
  },
  {
   "cell_type": "markdown",
   "metadata": {
    "id": "xlNgZknQ-xCn"
   },
   "source": [
    "### Деструктор"
   ]
  },
  {
   "cell_type": "markdown",
   "metadata": {
    "id": "P4Rj5Si9fKqY"
   },
   "source": [
    "Деструктор объекта - метод ***\\_\\_del\\_\\_***, вызывается, когда все ссылки на объект удалены. То есть в момент, когда объект удаляется из памяти. "
   ]
  },
  {
   "cell_type": "code",
   "execution_count": null,
   "metadata": {
    "id": "QihcCkZB_GW5"
   },
   "outputs": [],
   "source": [
    "class SomeClass:\n",
    "    \n",
    "    #конструктор, можно писать аргументы со значением по умолчанию\n",
    "    def __init__(self, name='some object'):\n",
    "        self.name = name\n",
    "        print('Constructor called, %s created!' % self.name) \n",
    "    \n",
    "    # деструктор\n",
    "    def __del__(self): \n",
    "        print('Destructor called, %s deleted!' % self.name) "
   ]
  },
  {
   "cell_type": "code",
   "execution_count": null,
   "metadata": {
    "colab": {
     "base_uri": "https://localhost:8080/"
    },
    "id": "hDLBmav9fRH0",
    "outputId": "70dfa6a3-d6c9-40a5-b0be-f555dcbb1257"
   },
   "outputs": [],
   "source": [
    "obj = SomeClass('my object')"
   ]
  },
  {
   "cell_type": "code",
   "execution_count": null,
   "metadata": {
    "id": "_wuKvD-XgXun"
   },
   "outputs": [],
   "source": [
    "obj2 = obj"
   ]
  },
  {
   "cell_type": "code",
   "execution_count": null,
   "metadata": {
    "id": "9XASMDgRgeKu"
   },
   "outputs": [],
   "source": [
    "obj3 = obj2"
   ]
  },
  {
   "cell_type": "markdown",
   "metadata": {
    "id": "K3yUfTakfdUz"
   },
   "source": [
    "**Задание:** \n",
    "+ вызовите деструктор\n",
    "+ вызовите деструктор не используя del"
   ]
  },
  {
   "cell_type": "markdown",
   "metadata": {
    "id": "V3j-XSnKafXd"
   },
   "source": [
    "**Задание**:    \n",
    "+ Нужно написать класс ***Sentence***, конструктор котрого получает на вход предложение. \n",
    "+ Атрибуты могут быть любые, подумайте, как вам удобно будет хранить данные о предложении. \n",
    "+ Возможно будет удобно написать еще и класс Word, для хранения информации о слове\n",
    "+ У этого класса должен быть метод ***replace_nouns***, который получает в качестве аргумента существительное, заменяет все встречающиеся в предложении существительные на это существительное в нужной форме (чтобы получилось грамматичное предложение), согласует по роду глаголы и прилагательные, если нужно, и печатает получившееся предложение (знаки перпинания можно игнорировать).\n",
    "\n",
    "+ [Руководство пользователя pymorphy2](https://pymorphy2.readthedocs.io/en/latest/user/guide.html)"
   ]
  },
  {
   "cell_type": "code",
   "execution_count": null,
   "metadata": {
    "id": "EUbWqsH_ayRg"
   },
   "outputs": [],
   "source": [
    "!pip install pymorphy2"
   ]
  },
  {
   "cell_type": "code",
   "execution_count": null,
   "metadata": {
    "id": "5l1dh0BWaxBR"
   },
   "outputs": [],
   "source": [
    "# поставить слово в нужную форму с помощью pymorphy\n",
    "import pymorphy2\n",
    "morph = pymorphy2.MorphAnalyzer()\n",
    "cats_parsed = morph.parse('котиков')[0]"
   ]
  },
  {
   "cell_type": "code",
   "execution_count": null,
   "metadata": {
    "id": "WvvEIPUjaxyO"
   },
   "outputs": [],
   "source": [
    "pear_parsed = morph.parse('яблоко')[0]"
   ]
  },
  {
   "cell_type": "code",
   "execution_count": null,
   "metadata": {
    "id": "yQ3G-ZoLbXNS"
   },
   "outputs": [],
   "source": [
    "pear_parsed.inflect({cats_parsed.tag.case, cats_parsed.tag.number}).word # нам нужны число и падеж"
   ]
  },
  {
   "cell_type": "code",
   "execution_count": null,
   "metadata": {
    "id": "rcgpm9BnbZpp"
   },
   "outputs": [],
   "source": [
    "# пример работы\n",
    "s = Sentence('Мама мыла раму.')\n",
    "s.replace_nouns('котик')\n",
    "# 'Котик мыл котика'"
   ]
  }
 ],
 "metadata": {
  "colab": {
   "name": "13.ipynb",
   "provenance": []
  },
  "kernelspec": {
   "display_name": "Python 3",
   "language": "python",
   "name": "python3"
  },
  "language_info": {
   "codemirror_mode": {
    "name": "ipython",
    "version": 3
   },
   "file_extension": ".py",
   "mimetype": "text/x-python",
   "name": "python",
   "nbconvert_exporter": "python",
   "pygments_lexer": "ipython3",
   "version": "3.7.4"
  }
 },
 "nbformat": 4,
 "nbformat_minor": 1
}
