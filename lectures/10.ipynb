{
 "cells": [
  {
   "cell_type": "markdown",
   "metadata": {
    "id": "mT4kV7vQX2x2"
   },
   "source": [
    "# Mock"
   ]
  },
  {
   "cell_type": "code",
   "execution_count": null,
   "metadata": {
    "id": "XCCsZ3T_jkIj"
   },
   "outputs": [],
   "source": [
    "import random\n",
    "\n",
    "class Riddler:\n",
    "\n",
    "    tries = ['попыток', 'попытка', 'попытки']\n",
    "\n",
    "    def __init__(self):\n",
    "        self.riddles = {'Маленький, серенький, на слона похож.': 'слоненок', \n",
    "                        'Над нами кверху ногами.': 'таракан', \n",
    "                        'Cиний, большой, с усами и полностью набит зайцами.': 'троллейбус'}\n",
    "\n",
    "    def add_riddle(self, riddle: str, answer: str):\n",
    "        \"\"\" Добавляет загадку в словарь \"\"\"\n",
    "        if not isinstance(riddle, str) or not isinstance(answer, str):\n",
    "            print('Wrong type!!')\n",
    "            return\n",
    "        self.riddles[riddle] = answer\n",
    "\n",
    "    def riddle(self):\n",
    "        \"\"\" Печатает текст загадки и проверяет правильность ответов \"\"\"\n",
    "        question = random.choice(list(self.riddles.keys()))\n",
    "        print('Загадка: ' + question)\n",
    "        print('У вас 3 попытки!')\n",
    "        for i in range(3,0, -1):\n",
    "            answer = input()\n",
    "            if answer == self.riddles[question]:\n",
    "                print('Правильно!!!')\n",
    "                return True\n",
    "            print(f'У вас {i-1} {self.tries[i-1]}!')\n",
    "        print('Правильный ответ: ' + self.riddles[question])\n",
    "        return False\n",
    "            "
   ]
  },
  {
   "cell_type": "code",
   "execution_count": null,
   "metadata": {
    "id": "hdeZ0pyUyxDR"
   },
   "outputs": [],
   "source": [
    "riddler = Riddler()"
   ]
  },
  {
   "cell_type": "code",
   "execution_count": null,
   "metadata": {
    "colab": {
     "base_uri": "https://localhost:8080/"
    },
    "id": "KtmhkHGiy7kA",
    "outputId": "5dcc0e65-6fa1-4a05-a25a-e685cffb92a8"
   },
   "outputs": [],
   "source": [
    "riddler.riddle()"
   ]
  },
  {
   "cell_type": "code",
   "execution_count": null,
   "metadata": {},
   "outputs": [],
   "source": [
    "from unittest.mock import call"
   ]
  },
  {
   "cell_type": "code",
   "execution_count": null,
   "metadata": {
    "colab": {
     "base_uri": "https://localhost:8080/"
    },
    "id": "wub7aKb_0TCW",
    "outputId": "3ba73244-5470-4a1d-8328-33022ca3dd08"
   },
   "outputs": [],
   "source": [
    "import unittest\n",
    "\n",
    "class RiddlerTestCase(unittest.TestCase):\n",
    "\n",
    "    def setUp(self):\n",
    "        self.riddler = Riddler()\n",
    "\n",
    "    # тестируем метод add_riddle, все довольно просто\n",
    "    def test_add_riddle_success(self):\n",
    "        self.riddler.add_riddle('test', 'test')\n",
    "        self.assertEqual(self.riddler.riddles['test'], 'test')\n",
    "\n",
    "    def test_add_riddle_wrong_type(self):\n",
    "        riddles_before = self.riddler.riddles.copy()\n",
    "        self.riddler.add_riddle(123, 123)\n",
    "        self.assertEqual(self.riddler.riddles, riddles_before)\n",
    "\n",
    "    # как тестировать метод с пользовательским вводом? принтом? и рандомом?\n",
    "    def test_riddle(self):\n",
    "        pass\n",
    "\n",
    "\n",
    "\n",
    "if __name__ == '__main__':\n",
    "#     unittest.main()  # если запускаем в нормальном месте\n",
    "    unittest.main(argv=['first-arg-is-ignored'], exit=False) # если запускаем в jupyter\n"
   ]
  },
  {
   "cell_type": "markdown",
   "metadata": {
    "id": "1psJsf4oZ9Ok"
   },
   "source": [
    "## unittest.mock.Mock"
   ]
  },
  {
   "cell_type": "markdown",
   "metadata": {
    "id": "9k45wccqDJe_"
   },
   "source": [
    "Mock - специальный объект на любой вызов, обращение к атрибуту или методу возвращающий новый объект Mock или то, что мы сами попросим. "
   ]
  },
  {
   "cell_type": "code",
   "execution_count": null,
   "metadata": {
    "id": "KoWnZKL9Cg14"
   },
   "outputs": [],
   "source": [
    "from unittest.mock import Mock"
   ]
  },
  {
   "cell_type": "code",
   "execution_count": null,
   "metadata": {
    "id": "MVBScEWUCpyc"
   },
   "outputs": [],
   "source": [
    "m = Mock()"
   ]
  },
  {
   "cell_type": "code",
   "execution_count": null,
   "metadata": {
    "colab": {
     "base_uri": "https://localhost:8080/"
    },
    "id": "Gx-Q9BF8KbwF",
    "outputId": "38865b36-e0a3-465c-c56b-06cfbe092324"
   },
   "outputs": [],
   "source": [
    "# вызов\n",
    "m()"
   ]
  },
  {
   "cell_type": "code",
   "execution_count": null,
   "metadata": {
    "colab": {
     "base_uri": "https://localhost:8080/"
    },
    "id": "qqfB-eQU_17x",
    "outputId": "76b933f4-c555-41c9-ba43-c2cfa1c26d25"
   },
   "outputs": [],
   "source": [
    "# атрибут\n",
    "m.attr"
   ]
  },
  {
   "cell_type": "code",
   "execution_count": null,
   "metadata": {
    "colab": {
     "base_uri": "https://localhost:8080/"
    },
    "id": "_-P-0WvmKXh2",
    "outputId": "301f7cd2-44f8-4b4c-9fa1-cafdc11d329c"
   },
   "outputs": [],
   "source": [
    "# метод\n",
    "m.method()"
   ]
  },
  {
   "cell_type": "markdown",
   "metadata": {
    "id": "p8gSXwPZQlqU"
   },
   "source": [
    "Можно задавать свои атрибуты и их значения"
   ]
  },
  {
   "cell_type": "code",
   "execution_count": null,
   "metadata": {
    "id": "rG18tF09Qx_V"
   },
   "outputs": [],
   "source": [
    "m = Mock(my_attr=28)"
   ]
  },
  {
   "cell_type": "code",
   "execution_count": null,
   "metadata": {
    "colab": {
     "base_uri": "https://localhost:8080/"
    },
    "id": "v-0FfThbQ5ct",
    "outputId": "196ce299-0312-4d0d-c36e-7c83ef2534e7"
   },
   "outputs": [],
   "source": [
    "m.my_attr"
   ]
  },
  {
   "cell_type": "markdown",
   "metadata": {
    "id": "_DiSDqnBJzf-"
   },
   "source": [
    "### return_value"
   ]
  },
  {
   "cell_type": "markdown",
   "metadata": {},
   "source": [
    "В параметр return_value передаем то, что хотим получить в результате вызова мок-объекта"
   ]
  },
  {
   "cell_type": "code",
   "execution_count": null,
   "metadata": {
    "id": "pXXUfOJtJ589"
   },
   "outputs": [],
   "source": [
    "m = Mock(return_value=28)"
   ]
  },
  {
   "cell_type": "code",
   "execution_count": null,
   "metadata": {
    "colab": {
     "base_uri": "https://localhost:8080/"
    },
    "id": "GjnWhJK8QiKv",
    "outputId": "492e0814-d517-4b10-c0de-9116e7e890a1"
   },
   "outputs": [],
   "source": [
    "m()"
   ]
  },
  {
   "cell_type": "markdown",
   "metadata": {
    "id": "ecIy7xfsJzon"
   },
   "source": [
    "### side_effect"
   ]
  },
  {
   "cell_type": "markdown",
   "metadata": {},
   "source": [
    "В параметр side_effect можно передать много чего: \n",
    " + любой итерируемый объект (тогда мок при каждом вызове будет возвращать следующий элемент итератора)\n",
    " + функцию, которая будет вызвана с переданными в исходную функцию парамерами вместо нее\n",
    " + или исключение (тогда оно будет поднято в процессе выполнения теста)       \n",
    " \n",
    "Подробнее в документации https://docs.python.org/3/library/unittest.mock.html#unittest.mock.Mock.side_effect\n"
   ]
  },
  {
   "cell_type": "markdown",
   "metadata": {},
   "source": [
    "Итерируемый объект:"
   ]
  },
  {
   "cell_type": "code",
   "execution_count": null,
   "metadata": {
    "id": "MSwKt9BrJ6Vr"
   },
   "outputs": [],
   "source": [
    "m = Mock(side_effect=[1,2,3,4,5])"
   ]
  },
  {
   "cell_type": "code",
   "execution_count": null,
   "metadata": {
    "colab": {
     "base_uri": "https://localhost:8080/"
    },
    "id": "Zr4-JH_2R7Kv",
    "outputId": "c20e226d-d4a8-47fa-d65b-9590cf54d685"
   },
   "outputs": [],
   "source": [
    "m()"
   ]
  },
  {
   "cell_type": "code",
   "execution_count": null,
   "metadata": {
    "colab": {
     "base_uri": "https://localhost:8080/"
    },
    "id": "drRA6SyiR9lj",
    "outputId": "fb9b4411-8dac-4b23-f164-341de40b7b49"
   },
   "outputs": [],
   "source": [
    "m()"
   ]
  },
  {
   "cell_type": "code",
   "execution_count": null,
   "metadata": {
    "colab": {
     "base_uri": "https://localhost:8080/"
    },
    "id": "woKuISsCSX4s",
    "outputId": "678d045d-4523-4c1e-f4d4-ff832a04fa9a"
   },
   "outputs": [],
   "source": [
    "m()"
   ]
  },
  {
   "cell_type": "code",
   "execution_count": null,
   "metadata": {
    "colab": {
     "base_uri": "https://localhost:8080/"
    },
    "id": "nkiKNff0SZb-",
    "outputId": "2454f3e1-4774-438b-820f-d20b65904e1f"
   },
   "outputs": [],
   "source": [
    "m = Mock(side_effect=[1,2,3,4,5])\n",
    "for i in range(5):\n",
    "    print(m())"
   ]
  },
  {
   "cell_type": "markdown",
   "metadata": {
    "id": "vABPUcYOJDfr"
   },
   "source": [
    "Функция:"
   ]
  },
  {
   "cell_type": "code",
   "execution_count": null,
   "metadata": {
    "id": "G9mwGJbTTgHX"
   },
   "outputs": [],
   "source": [
    "def side_effect_callable(arg):\n",
    "    values = {'a': 1, 'b': 2, 'c': 3}\n",
    "    if arg in values:\n",
    "        return values[arg]\n",
    "    return 0"
   ]
  },
  {
   "cell_type": "code",
   "execution_count": null,
   "metadata": {
    "id": "0c-H857mb0hE"
   },
   "outputs": [],
   "source": [
    "m = Mock(side_effect=side_effect_callable)"
   ]
  },
  {
   "cell_type": "code",
   "execution_count": null,
   "metadata": {
    "colab": {
     "base_uri": "https://localhost:8080/"
    },
    "id": "b_vwwTfkcuND",
    "outputId": "3579ef88-9e3f-4b53-9670-1b22c7932127"
   },
   "outputs": [],
   "source": [
    "m('a')"
   ]
  },
  {
   "cell_type": "code",
   "execution_count": null,
   "metadata": {
    "colab": {
     "base_uri": "https://localhost:8080/"
    },
    "id": "9-UoAMQQc626",
    "outputId": "5159d97a-e352-4912-9206-62b0c812620a"
   },
   "outputs": [],
   "source": [
    "m('c')"
   ]
  },
  {
   "cell_type": "code",
   "execution_count": null,
   "metadata": {
    "colab": {
     "base_uri": "https://localhost:8080/"
    },
    "id": "rS4C3TSjczFY",
    "outputId": "944a5352-859d-493e-ad7a-80d4f236b74e"
   },
   "outputs": [],
   "source": [
    "m('d')"
   ]
  },
  {
   "cell_type": "markdown",
   "metadata": {},
   "source": [
    "### Проверка списка вызовов"
   ]
  },
  {
   "cell_type": "markdown",
   "metadata": {
    "id": "jfPjWEGlIvEX"
   },
   "source": [
    "Можно проверять сколько раз и с какими аргументами был бызван мок-объект:"
   ]
  },
  {
   "cell_type": "code",
   "execution_count": null,
   "metadata": {
    "colab": {
     "base_uri": "https://localhost:8080/"
    },
    "id": "0y4XA7PHIuac",
    "outputId": "34f934d6-9fd2-4d3c-85d4-15bf2632bd59"
   },
   "outputs": [],
   "source": [
    "m.call_args_list # список вызовов"
   ]
  },
  {
   "cell_type": "code",
   "execution_count": null,
   "metadata": {
    "id": "uTyKbLC0JXuA"
   },
   "outputs": [],
   "source": [
    "m.assert_called() # был когда-либо вызван"
   ]
  },
  {
   "cell_type": "code",
   "execution_count": null,
   "metadata": {
    "colab": {
     "base_uri": "https://localhost:8080/",
     "height": 287
    },
    "id": "Njfq46G0JjeZ",
    "outputId": "9dfa20c1-fce5-4ef0-cc6a-d8097f1267f9"
   },
   "outputs": [],
   "source": [
    "m.assert_called_once() # вызван ровно 1 раз"
   ]
  },
  {
   "cell_type": "code",
   "execution_count": null,
   "metadata": {
    "id": "wqKUiRaqJrQk"
   },
   "outputs": [],
   "source": [
    "m.assert_called_with('d') # проверяет аргументы последнего вызова"
   ]
  },
  {
   "cell_type": "code",
   "execution_count": null,
   "metadata": {
    "id": "_yWBlFjNKA5k"
   },
   "outputs": [],
   "source": [
    "from unittest.mock import call\n",
    "# проверить, что в списке вызовов есть все нужные вызовы в заданном порядке\n",
    "m.assert_has_calls([call('a'), call('c'), call('d')]) "
   ]
  },
  {
   "cell_type": "markdown",
   "metadata": {
    "id": "dCUL4LJZDNLM"
   },
   "source": [
    "## подмена объектов с помощью patch"
   ]
  },
  {
   "cell_type": "markdown",
   "metadata": {},
   "source": [
    "+ заменить один объект дургим на время тестов можно с помощью функции ***patch***\n",
    "+ используется внутри менеджера контекстов\n",
    "```\n",
    "with patch('module.object.method', ...):\n",
    "    ...\n",
    "```\n",
    "+ или в виде декоратора - аргументы будут те же\n",
    "```\n",
    "@patch('module.object.method', ...)\n",
    "def test_something(...):\n",
    "    ...\n",
    "```\n",
    "+ первый аргумент - путь до объекта/метода который надо заменить (через точки, так же как мы импортируем объекты)\n",
    "+ следующие аргументы определяют на что и как именно заменить\n",
    "+ подробнее про аргументы: https://docs.python.org/3/library/unittest.mock.html#patch   \n"
   ]
  },
  {
   "cell_type": "markdown",
   "metadata": {},
   "source": [
    "**ВАЖНО - где именно заменять объект**\n",
    "+ То есть какой именно путь писать в ***patch*** первым аргументом?\n",
    "+ Основное правило - заменять объект нужно **там где он используется**, а не там откуда его импортировали. \n",
    "+ То есть если в модуле (***my_beautiful_module.py***), который мы хотим протестировать импортируется какой-то объект который мы хотим заменить на мок (в данном случае функция ***some_fucntion***)\n",
    "```\n",
    "from some_module import some_function\n",
    "def my_function():\n",
    "    result = some_method() + 1\n",
    "    return result\n",
    "```\n",
    "+ То в тестах нужно делать вот так, (а не *'some_module.some_function'*)\n",
    "```\n",
    "@patch('my_beautiful_module.some_function', ...)\n",
    "def test_my_function(...):\n",
    "    ...\n",
    "```\n",
    "+ Обычно все работает, даже если делать неправильно, но далеко не всегда.\n",
    "+ Подробнее про это: https://docs.python.org/3/library/unittest.mock.html#id6\n"
   ]
  },
  {
   "cell_type": "code",
   "execution_count": null,
   "metadata": {
    "id": "ePhSOuujDvaI"
   },
   "outputs": [],
   "source": [
    "def greet_user():\n",
    "    name = input('Представьтесь, пожалуйста')\n",
    "    return('Привет, %s!' % name)"
   ]
  },
  {
   "cell_type": "code",
   "execution_count": null,
   "metadata": {
    "id": "Fnjg4o-xrPGR"
   },
   "outputs": [],
   "source": [
    "import unittest\n",
    "from unittest.mock import Mock, patch\n",
    "\n",
    "class GreetUserTestCase(unittest.TestCase):\n",
    "    \n",
    "    @patch('builtins.input', Mock(return_value='Юрий'))\n",
    "    def test_greet_user(self):\n",
    "        self.assertEqual(greet_user(), 'Привет, Юрий!')\n",
    "    \n",
    "#     # эквивалентно\n",
    "#     def test_greet_user(self):\n",
    "#         with patch('builtins.input', Mock(return_value='Юрий')) as mock_input:\n",
    "#             self.assertEqual(greet_user(), 'Привет, Юрий!')\n",
    "        \n",
    "    \n",
    "if __name__ == '__main__':\n",
    "#     unittest.main()  # если запускаем в нормальном месте\n",
    "    unittest.main(argv=['first-arg-is-ignored'], exit=False) # если запускаем в jupyter"
   ]
  },
  {
   "cell_type": "markdown",
   "metadata": {
    "id": "ReMzrcShK5Wm"
   },
   "source": [
    "**Задание**: \n",
    "+ переписать тесты для метода greet_user, при условии замены ***return*** на ***print***\n",
    "+ обязательно проверить, что именно выводится на экран!"
   ]
  },
  {
   "cell_type": "code",
   "execution_count": null,
   "metadata": {
    "id": "a16JMQREK3La"
   },
   "outputs": [],
   "source": [
    "def greet_user():\n",
    "    name = input('Представьтесь, пожалуйста')\n",
    "    print('Привет, %s!' % name)"
   ]
  },
  {
   "cell_type": "code",
   "execution_count": null,
   "metadata": {
    "id": "ORs8Igtl_1zr"
   },
   "outputs": [],
   "source": [
    "import unittest\n",
    "from unittest.mock import Mock, patch\n",
    "\n",
    "class GreetUserTestCase(unittest.TestCase):\n",
    "        \n",
    "    def test_greet_user(self):\n",
    "        pass\n",
    "        \n",
    "if __name__ == '__main__':\n",
    "#     unittest.main()  # если запускаем в нормальном месте\n",
    "    unittest.main(argv=['first-arg-is-ignored'], exit=False) # если запускаем в jupyter    "
   ]
  },
  {
   "cell_type": "markdown",
   "metadata": {
    "id": "1Y-TC6n6D_y3"
   },
   "source": [
    "**Задание**:\n",
    "+ переварить все рассказанное и показанное выше и написать тесты для метода ***riddle***\n",
    "+ проверить нужно все варианты (угадывание с n-ой попытки, неугадывание) и не только возвращаемое значение, но и побочные эффекты (что печатается)\n",
    "+ добиться 100% покрытия кода тестами"
   ]
  }
 ],
 "metadata": {
  "colab": {
   "name": "27.ipynb",
   "provenance": []
  },
  "kernelspec": {
   "display_name": "Python 3",
   "language": "python",
   "name": "python3"
  },
  "language_info": {
   "codemirror_mode": {
    "name": "ipython",
    "version": 3
   },
   "file_extension": ".py",
   "mimetype": "text/x-python",
   "name": "python",
   "nbconvert_exporter": "python",
   "pygments_lexer": "ipython3",
   "version": "3.7.4"
  }
 },
 "nbformat": 4,
 "nbformat_minor": 1
}
