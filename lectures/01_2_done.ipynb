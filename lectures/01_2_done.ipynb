{
 "cells": [
  {
   "cell_type": "markdown",
   "metadata": {},
   "source": [
    "## Декораторы"
   ]
  },
  {
   "cell_type": "markdown",
   "metadata": {},
   "source": [
    "**Декоратор** - функция-обертка для другой функции, позволяющая изменить ее поведение, не меняя кода. "
   ]
  },
  {
   "cell_type": "code",
   "execution_count": 1,
   "metadata": {},
   "outputs": [],
   "source": [
    "def my_func(num):\n",
    "    for i in range(num):\n",
    "        print('Я просто функция...')"
   ]
  },
  {
   "cell_type": "code",
   "execution_count": 2,
   "metadata": {},
   "outputs": [
    {
     "name": "stdout",
     "output_type": "stream",
     "text": [
      "Я просто функция...\n",
      "Я просто функция...\n",
      "Я просто функция...\n",
      "Я просто функция...\n",
      "Я просто функция...\n"
     ]
    }
   ],
   "source": [
    "my_func(5)"
   ]
  },
  {
   "cell_type": "code",
   "execution_count": 3,
   "metadata": {},
   "outputs": [],
   "source": [
    "def my_decorator(func):\n",
    "    def wrapper(*args, **kwargs): \n",
    "        print('Я декоратор! Начинаю работу!')\n",
    "        func(*args, **kwargs)\n",
    "        print('Я декоратор! Заканчиваю работу!')\n",
    "    return wrapper"
   ]
  },
  {
   "cell_type": "code",
   "execution_count": 4,
   "metadata": {
    "scrolled": true
   },
   "outputs": [
    {
     "name": "stdout",
     "output_type": "stream",
     "text": [
      "Я декоратор! Начинаю работу!\n",
      "Я просто функция...\n",
      "Я просто функция...\n",
      "Я просто функция...\n",
      "Я просто функция...\n",
      "Я просто функция...\n",
      "Я декоратор! Заканчиваю работу!\n"
     ]
    }
   ],
   "source": [
    "# можно вызвать просто как функцию от функции\n",
    "my_decorator(my_func)(5)"
   ]
  },
  {
   "cell_type": "code",
   "execution_count": 5,
   "metadata": {},
   "outputs": [],
   "source": [
    "my_func_decorated = my_decorator(my_func)"
   ]
  },
  {
   "cell_type": "code",
   "execution_count": 6,
   "metadata": {},
   "outputs": [
    {
     "name": "stdout",
     "output_type": "stream",
     "text": [
      "Я декоратор! Начинаю работу!\n",
      "Я просто функция...\n",
      "Я декоратор! Заканчиваю работу!\n"
     ]
    }
   ],
   "source": [
    "my_func_decorated(1)"
   ]
  },
  {
   "cell_type": "code",
   "execution_count": 7,
   "metadata": {},
   "outputs": [],
   "source": [
    "# но обычно делают так \n",
    "@my_decorator\n",
    "def my_func(num):\n",
    "    for i in range(num):\n",
    "        print('Я просто функция...')"
   ]
  },
  {
   "cell_type": "code",
   "execution_count": 8,
   "metadata": {
    "scrolled": true
   },
   "outputs": [
    {
     "name": "stdout",
     "output_type": "stream",
     "text": [
      "Я декоратор! Начинаю работу!\n",
      "Я просто функция...\n",
      "Я декоратор! Заканчиваю работу!\n"
     ]
    }
   ],
   "source": [
    "my_func(1)"
   ]
  },
  {
   "cell_type": "code",
   "execution_count": 9,
   "metadata": {},
   "outputs": [
    {
     "name": "stdout",
     "output_type": "stream",
     "text": [
      "Я декоратор! Начинаю работу!\n",
      "Я просто функция...\n",
      "Я просто функция...\n",
      "Я просто функция...\n",
      "Я просто функция...\n",
      "Я просто функция...\n",
      "Я просто функция...\n",
      "Я просто функция...\n",
      "Я просто функция...\n",
      "Я просто функция...\n",
      "Я просто функция...\n",
      "Я декоратор! Заканчиваю работу!\n"
     ]
    }
   ],
   "source": [
    "my_func(10)"
   ]
  },
  {
   "cell_type": "code",
   "execution_count": 10,
   "metadata": {},
   "outputs": [],
   "source": [
    "def double(func):\n",
    "    def wrapper(*args, **kwargs): \n",
    "        result = func(*args, **kwargs) * 2\n",
    "        return result # декоратор также может возвращать какой-то результат\n",
    "    return wrapper"
   ]
  },
  {
   "cell_type": "code",
   "execution_count": 11,
   "metadata": {},
   "outputs": [],
   "source": [
    "@double\n",
    "def add_10(num):\n",
    "    return num+10"
   ]
  },
  {
   "cell_type": "code",
   "execution_count": 12,
   "metadata": {},
   "outputs": [
    {
     "data": {
      "text/plain": [
       "24"
      ]
     },
     "execution_count": 12,
     "metadata": {},
     "output_type": "execute_result"
    }
   ],
   "source": [
    "add_10(2)"
   ]
  },
  {
   "cell_type": "code",
   "execution_count": 18,
   "metadata": {},
   "outputs": [],
   "source": [
    "@my_decorator\n",
    "@double\n",
    "def add_1(num):\n",
    "    return num+1"
   ]
  },
  {
   "cell_type": "code",
   "execution_count": 19,
   "metadata": {},
   "outputs": [
    {
     "name": "stdout",
     "output_type": "stream",
     "text": [
      "Я декоратор! Начинаю работу!\n",
      "Я декоратор! Заканчиваю работу!\n"
     ]
    }
   ],
   "source": [
    "add_1(1)"
   ]
  },
  {
   "cell_type": "markdown",
   "metadata": {},
   "source": [
    "**Задание**: написать декоратор, который напечатает время работы функции и вернет ее результат"
   ]
  },
  {
   "cell_type": "code",
   "execution_count": 20,
   "metadata": {},
   "outputs": [],
   "source": [
    "import time "
   ]
  },
  {
   "cell_type": "code",
   "execution_count": 21,
   "metadata": {},
   "outputs": [
    {
     "name": "stdout",
     "output_type": "stream",
     "text": [
      "1.00147 seconds\n"
     ]
    }
   ],
   "source": [
    "start = time.time() # текущее время в секундах с начала эпохи (1 Января, 1970, 00:00:00 UTC)\n",
    "time.sleep(1) # подождать 1 секунду\n",
    "end = time.time() # текущее время в секундах \n",
    "delta = end - start \n",
    "print('%.5f seconds' % delta) # наbпечатать с округлением до 5 цифр после запятой"
   ]
  },
  {
   "cell_type": "code",
   "execution_count": 22,
   "metadata": {},
   "outputs": [],
   "source": [
    "def measure_time(func):\n",
    "    def wrapper(*args, **kwargs):\n",
    "        start = time.time()\n",
    "        result = func(*args, **kwargs)\n",
    "        end = time.time()\n",
    "        delta = end - start \n",
    "        print('%.5f seconds' % delta)\n",
    "        return result # декоратор также может возвращать какой-то результат\n",
    "    return wrapper"
   ]
  },
  {
   "cell_type": "code",
   "execution_count": 23,
   "metadata": {},
   "outputs": [],
   "source": [
    "@measure_time\n",
    "def wait(sec=1):\n",
    "    time.sleep(sec)\n",
    "    return f'waited {sec} seconds'"
   ]
  },
  {
   "cell_type": "code",
   "execution_count": 26,
   "metadata": {},
   "outputs": [
    {
     "name": "stdout",
     "output_type": "stream",
     "text": [
      "3.00279 seconds\n"
     ]
    },
    {
     "data": {
      "text/plain": [
       "'waited 3 seconds'"
      ]
     },
     "execution_count": 26,
     "metadata": {},
     "output_type": "execute_result"
    }
   ],
   "source": [
    "wait(3)"
   ]
  },
  {
   "cell_type": "markdown",
   "metadata": {},
   "source": [
    "**Задание**: написать декоратор, который делает так, что задекорированная функция принимает все свои неименованные аргументы в порядке, обратном тому, в котором их передали."
   ]
  },
  {
   "cell_type": "markdown",
   "metadata": {},
   "source": [
    "Пример работы:"
   ]
  },
  {
   "cell_type": "code",
   "execution_count": 29,
   "metadata": {},
   "outputs": [],
   "source": [
    "def revert_args(func):\n",
    "    def wrapper(*args, **kwargs):\n",
    "        result = func(*args[::-1], **kwargs)\n",
    "        return result # декоратор также может возвращать какой-то результат\n",
    "    return wrapper"
   ]
  },
  {
   "cell_type": "code",
   "execution_count": 30,
   "metadata": {},
   "outputs": [],
   "source": [
    "@revert_args \n",
    "def divide(num1, num2):\n",
    "    return num1/num2"
   ]
  },
  {
   "cell_type": "code",
   "execution_count": 32,
   "metadata": {},
   "outputs": [
    {
     "data": {
      "text/plain": [
       "5.0"
      ]
     },
     "execution_count": 32,
     "metadata": {},
     "output_type": "execute_result"
    }
   ],
   "source": [
    "divide(2, 10)\n",
    "# 5.0 "
   ]
  },
  {
   "cell_type": "markdown",
   "metadata": {},
   "source": [
    "**Задание**: написать декоратор optional_introduce, который делает так, что у задекорированной функции появляется дополнительный параметр introduce со значением False по умолчанию, если функция вызвана с introduce=True, то она перед возвращением результата напечатает своё имя, а если с introduce=False или без явного указания introduce вовсе, то она просто вернёт результат.\n",
    "\n",
    "Советы:\n",
    "+ Погуглите, как из объекта функции, получить ее имя в виде строки.\n",
    "+ Именованные аргументы со значением по умолчанию идут после \\*args, но перед \\*\\*kwargs."
   ]
  },
  {
   "cell_type": "markdown",
   "metadata": {},
   "source": [
    "Пример работы:"
   ]
  },
  {
   "cell_type": "code",
   "execution_count": 1,
   "metadata": {},
   "outputs": [],
   "source": [
    "def optional_introduce(func):\n",
    "    def wrapper(*args, introduce=False, **kwargs):\n",
    "        if introduce:\n",
    "            print(func.__name__)\n",
    "        result = func(*args, **kwargs)\n",
    "        return result \n",
    "    return wrapper"
   ]
  },
  {
   "cell_type": "code",
   "execution_count": 2,
   "metadata": {},
   "outputs": [],
   "source": [
    "@optional_introduce\n",
    "def divide(num1, num2):\n",
    "    return num1/num2"
   ]
  },
  {
   "cell_type": "code",
   "execution_count": 3,
   "metadata": {},
   "outputs": [
    {
     "name": "stdout",
     "output_type": "stream",
     "text": [
      "divide\n"
     ]
    },
    {
     "data": {
      "text/plain": [
       "5.0"
      ]
     },
     "execution_count": 3,
     "metadata": {},
     "output_type": "execute_result"
    }
   ],
   "source": [
    "divide(10, 2, introduce=True)\n",
    "# divide\n",
    "# 5.0"
   ]
  },
  {
   "cell_type": "code",
   "execution_count": 4,
   "metadata": {},
   "outputs": [
    {
     "data": {
      "text/plain": [
       "5.0"
      ]
     },
     "execution_count": 4,
     "metadata": {},
     "output_type": "execute_result"
    }
   ],
   "source": [
    "divide(10, 2)\n",
    "# 5.0"
   ]
  },
  {
   "cell_type": "code",
   "execution_count": null,
   "metadata": {},
   "outputs": [],
   "source": []
  }
 ],
 "metadata": {
  "kernelspec": {
   "display_name": "Python 3",
   "language": "python",
   "name": "python3"
  },
  "language_info": {
   "codemirror_mode": {
    "name": "ipython",
    "version": 3
   },
   "file_extension": ".py",
   "mimetype": "text/x-python",
   "name": "python",
   "nbconvert_exporter": "python",
   "pygments_lexer": "ipython3",
   "version": "3.7.4"
  }
 },
 "nbformat": 4,
 "nbformat_minor": 2
}
