{
 "cells": [
  {
   "cell_type": "markdown",
   "metadata": {},
   "source": [
    "# ООП. Продолжение"
   ]
  },
  {
   "cell_type": "markdown",
   "metadata": {
    "id": "HyX_T7OvNDRT"
   },
   "source": [
    "**Задание**: \n",
    "+ Решаем [эту задачу](https://stepik.org/lesson/24462/step/9?unit=6768) и вот [эту задачу](https://stepik.org/lesson/372017/step/2?unit=359571) \n",
    "+ Полезно будет вспомнить материал предыдущих пар \n",
    "+ Если что-то не получается, скорее всего поможет прочтение комментариев к задаче, там объяснены основные непонятные моменты\n",
    "+ Там можно отправлять на проверку код, не регистрируясь и не логинясь, по крайней мере у меня получалось "
   ]
  },
  {
   "cell_type": "code",
   "execution_count": 60,
   "metadata": {},
   "outputs": [],
   "source": [
    "# задача 1\n",
    "import time\n",
    "\n",
    "class Loggable:\n",
    "    def log(self, msg):\n",
    "        print(str(time.ctime()) + \": \" + str(msg))\n",
    "        \n",
    "class LoggableList(list, Loggable):\n",
    "    def append(self, element):\n",
    "        self.log(element)\n",
    "        super().append(element)"
   ]
  },
  {
   "cell_type": "code",
   "execution_count": 61,
   "metadata": {},
   "outputs": [],
   "source": [
    "# задача 2\n",
    "class NewInt(int):\n",
    "    def repeat(self, n=2):\n",
    "        return NewInt(str(self)*n)\n",
    "    \n",
    "    def to_bin(self):\n",
    "        return NewInt(bin(self).replace('0b', ''))"
   ]
  },
  {
   "cell_type": "code",
   "execution_count": 66,
   "metadata": {
    "scrolled": true
   },
   "outputs": [
    {
     "name": "stdout",
     "output_type": "stream",
     "text": [
      "99\n",
      "141414\n",
      "100011\n"
     ]
    }
   ],
   "source": [
    "a = NewInt(9)\n",
    "print(a.repeat())  # печатает число 99\n",
    "d = NewInt(a + 5)\n",
    "print(d.repeat(3)) # печатает число 141414\n",
    "b = NewInt(NewInt(7) * NewInt(5))\n",
    "print(b.to_bin()) # печатает 100011 - двоичное представление числа 35\n",
    "\n",
    "# Кстати, как вы думаете, что вернет данный вызов NewInt() ?\n"
   ]
  },
  {
   "cell_type": "code",
   "execution_count": 69,
   "metadata": {},
   "outputs": [],
   "source": [
    "b = int()"
   ]
  },
  {
   "cell_type": "code",
   "execution_count": 70,
   "metadata": {},
   "outputs": [
    {
     "data": {
      "text/plain": [
       "0"
      ]
     },
     "execution_count": 70,
     "metadata": {},
     "output_type": "execute_result"
    }
   ],
   "source": [
    "b"
   ]
  },
  {
   "cell_type": "code",
   "execution_count": 67,
   "metadata": {},
   "outputs": [],
   "source": [
    "a = NewInt()"
   ]
  },
  {
   "cell_type": "code",
   "execution_count": 68,
   "metadata": {},
   "outputs": [
    {
     "data": {
      "text/plain": [
       "0"
      ]
     },
     "execution_count": 68,
     "metadata": {},
     "output_type": "execute_result"
    }
   ],
   "source": [
    "a"
   ]
  },
  {
   "cell_type": "markdown",
   "metadata": {
    "id": "JI9zyZt4alTk"
   },
   "source": [
    "## Абстрактные классы"
   ]
  },
  {
   "cell_type": "markdown",
   "metadata": {
    "id": "eGsezBWDpyzp"
   },
   "source": [
    "**Абстрактный класс** - класс в котором есть хотя бы один абстрактный метод.   \n",
    "**Абстрактный метод** - объявленный, но не реализованный метод. \n",
    "\n",
    "Абстрактный класс описывает интерфейс взаимодействия с дочерними классами. "
   ]
  },
  {
   "cell_type": "markdown",
   "metadata": {},
   "source": [
    "![](https://1.bp.blogspot.com/-HR3qCiRlA_E/XkAB97uh6pI/AAAAAAAACdc/AuxyFL-rnIE4uUCmzTA5DEb9fzCB9HIwgCLcBGAsYHQ/s1600/abstractcls.png)"
   ]
  },
  {
   "cell_type": "code",
   "execution_count": 71,
   "metadata": {
    "id": "NYVLwiVtd1Th"
   },
   "outputs": [],
   "source": [
    "from abc import ABC, ABCMeta, abstractmethod"
   ]
  },
  {
   "cell_type": "code",
   "execution_count": 81,
   "metadata": {
    "id": "-8_6Gv3pd1jD"
   },
   "outputs": [],
   "source": [
    "class Animal(ABC): # наследование от ABC из модуля ABC\n",
    "#  # или так \n",
    "# class Animal(metaclass=ABCMeta):\n",
    "   \n",
    "    def __init__(self, name, legs, scariness):\n",
    "        self.name = name \n",
    "        self.legs = legs\n",
    "        self.scariness = scariness\n",
    "        \n",
    "    # общий метод, который будут использовать все наследники этого класса\n",
    "    def introduce(self): \n",
    "        print(\"Hello! My name is %s!\" % self.name)\n",
    "    \n",
    "    # абстрактный метод, который будет необходимо переопределять для каждого подкласса\n",
    "    @abstractmethod # чтобы объявить метод абстрактным используется декоратор @abstactmethod\n",
    "    def sound(self):\n",
    "        print('I am Animal!')"
   ]
  },
  {
   "cell_type": "markdown",
   "metadata": {
    "id": "AQQLU7-vrOs7"
   },
   "source": [
    "Абстрактный класс нельзя инстанциировать, обязательно нужно унаследовать и переопределить **все** абстрактные методы в дочернем классе. "
   ]
  },
  {
   "cell_type": "code",
   "execution_count": 82,
   "metadata": {
    "id": "1EbOD_R0rCAP"
   },
   "outputs": [
    {
     "ename": "TypeError",
     "evalue": "Can't instantiate abstract class Animal with abstract methods sound",
     "output_type": "error",
     "traceback": [
      "\u001b[0;31m---------------------------------------------------------------------------\u001b[0m",
      "\u001b[0;31mTypeError\u001b[0m                                 Traceback (most recent call last)",
      "\u001b[0;32m<ipython-input-82-61eb48dde361>\u001b[0m in \u001b[0;36m<module>\u001b[0;34m\u001b[0m\n\u001b[0;32m----> 1\u001b[0;31m \u001b[0manimal\u001b[0m \u001b[0;34m=\u001b[0m \u001b[0mAnimal\u001b[0m\u001b[0;34m(\u001b[0m\u001b[0;34m'Animal'\u001b[0m\u001b[0;34m,\u001b[0m \u001b[0;36m4\u001b[0m\u001b[0;34m,\u001b[0m \u001b[0;36m10\u001b[0m\u001b[0;34m)\u001b[0m\u001b[0;34m\u001b[0m\u001b[0;34m\u001b[0m\u001b[0m\n\u001b[0m",
      "\u001b[0;31mTypeError\u001b[0m: Can't instantiate abstract class Animal with abstract methods sound"
     ]
    }
   ],
   "source": [
    "animal = Animal('Animal', 4, 10)"
   ]
  },
  {
   "cell_type": "code",
   "execution_count": 74,
   "metadata": {
    "id": "g7lUQu0irUBX"
   },
   "outputs": [],
   "source": [
    "class Cat(Animal):\n",
    "    pass"
   ]
  },
  {
   "cell_type": "code",
   "execution_count": 75,
   "metadata": {
    "id": "ytJITpKKrUJp"
   },
   "outputs": [
    {
     "ename": "TypeError",
     "evalue": "Can't instantiate abstract class Cat with abstract methods sound",
     "output_type": "error",
     "traceback": [
      "\u001b[0;31m---------------------------------------------------------------------------\u001b[0m",
      "\u001b[0;31mTypeError\u001b[0m                                 Traceback (most recent call last)",
      "\u001b[0;32m<ipython-input-75-52ce08ef8d71>\u001b[0m in \u001b[0;36m<module>\u001b[0;34m\u001b[0m\n\u001b[0;32m----> 1\u001b[0;31m \u001b[0mcat\u001b[0m \u001b[0;34m=\u001b[0m \u001b[0mCat\u001b[0m\u001b[0;34m(\u001b[0m\u001b[0;34m'Cat'\u001b[0m\u001b[0;34m,\u001b[0m \u001b[0;36m4\u001b[0m\u001b[0;34m,\u001b[0m \u001b[0;36m2\u001b[0m\u001b[0;34m)\u001b[0m \u001b[0;31m# унаследовали, но не переопределили абстрактный метод\u001b[0m\u001b[0;34m\u001b[0m\u001b[0;34m\u001b[0m\u001b[0m\n\u001b[0m",
      "\u001b[0;31mTypeError\u001b[0m: Can't instantiate abstract class Cat with abstract methods sound"
     ]
    }
   ],
   "source": [
    "cat = Cat('Cat', 4, 2) # унаследовали, но не переопределили абстрактный метод"
   ]
  },
  {
   "cell_type": "code",
   "execution_count": 83,
   "metadata": {
    "id": "hcZwHsOZrUQN"
   },
   "outputs": [],
   "source": [
    "class Cat(Animal):\n",
    "    def sound(self): # переопределяем абстрактный метод\n",
    "        super().sound()\n",
    "        print('Meow!')"
   ]
  },
  {
   "cell_type": "code",
   "execution_count": 84,
   "metadata": {
    "id": "HLOf_KbSrcEd"
   },
   "outputs": [],
   "source": [
    "class Dog(Animal):\n",
    "    def sound(self): # переопределяем абстрактный метод\n",
    "        super().sound()\n",
    "        print('Woof!')"
   ]
  },
  {
   "cell_type": "code",
   "execution_count": 85,
   "metadata": {
    "id": "Us9gPWeIrcMe"
   },
   "outputs": [],
   "source": [
    "cat = Cat('Cat', 4, 2)\n",
    "dog = Dog('Dog', 4, 6)"
   ]
  },
  {
   "cell_type": "code",
   "execution_count": 86,
   "metadata": {
    "id": "D3nqbyZnriLm"
   },
   "outputs": [
    {
     "name": "stdout",
     "output_type": "stream",
     "text": [
      "I am Animal!\n",
      "Meow!\n",
      "I am Animal!\n",
      "Woof!\n"
     ]
    }
   ],
   "source": [
    "cat.sound()\n",
    "dog.sound()"
   ]
  },
  {
   "cell_type": "code",
   "execution_count": 80,
   "metadata": {
    "id": "35ZKcHfLrlAG"
   },
   "outputs": [
    {
     "name": "stdout",
     "output_type": "stream",
     "text": [
      "Hello! My name is Cat!\n",
      "Hello! My name is Dog!\n"
     ]
    }
   ],
   "source": [
    "cat.introduce()\n",
    "dog.introduce()"
   ]
  },
  {
   "cell_type": "markdown",
   "metadata": {},
   "source": [
    "**Задание:**\n",
    "+ У нас есть класс Settings для хранения набора настроек, вида ключ - значение (название параметра настройки - значение параметра настройки)\n",
    "+ Ключи (названия параметра) обязательно должны быть строками\n",
    "+ Мы не хотим,чтобы объект Settings можно было изменять после создания (добавлять и удалять ключи)"
   ]
  },
  {
   "cell_type": "code",
   "execution_count": 87,
   "metadata": {},
   "outputs": [],
   "source": [
    "class Settings:\n",
    "\n",
    "    def __init__(self, **kwargs):\n",
    "        self._data = dict(**kwargs) # от нестроковых ключей нас спасает kwargs\n",
    "\n",
    "    def get_property(self, key):\n",
    "        assert isinstance(key, str)\n",
    "        return self._data[key]"
   ]
  },
  {
   "cell_type": "code",
   "execution_count": 88,
   "metadata": {},
   "outputs": [],
   "source": [
    "settings = Settings(setting1=1, setting2=2)"
   ]
  },
  {
   "cell_type": "code",
   "execution_count": 89,
   "metadata": {},
   "outputs": [
    {
     "data": {
      "text/plain": [
       "1"
      ]
     },
     "execution_count": 89,
     "metadata": {},
     "output_type": "execute_result"
    }
   ],
   "source": [
    "settings.get_property('setting1')"
   ]
  },
  {
   "cell_type": "markdown",
   "metadata": {},
   "source": [
    "+ Допустим нам пришла в голову здравая мысль, что мы хотим вместо вызова ```settings.get_property('key')``` использовать квадратные скобки как для dict - ```settings['key']``` \n",
    "+ Ну и раз уж нас класс становится похож на readonly-dict хотелось бы чтобы он умел делать то же, что и неизменяемые словари и использоваться как словарь\n",
    "+ Здесь нам поможет класс ```Mapping``` из ```collections.abc```, он покажет, какой должен быть интерфейс у нашего класса и что мы не забыли ни про какие нужные методы\n",
    "+ Модуль ```collections.abc``` содержит множество абстрактных классов для создания объектов-контейнеров различных типов (словарь, список, множество, итератор и т.д.), [документация](https://docs.python.org/3/library/collections.abc.html)"
   ]
  },
  {
   "cell_type": "code",
   "execution_count": 93,
   "metadata": {},
   "outputs": [],
   "source": [
    "from collections.abc import Mapping"
   ]
  },
  {
   "cell_type": "code",
   "execution_count": 98,
   "metadata": {},
   "outputs": [],
   "source": [
    "# давайте отнаследуемся от класса Mapping и посмотрим, каких методов нам не хватает\n",
    "class Settings(Mapping):\n",
    "    def __init__(self, **kwargs):\n",
    "        self._data = dict(**kwargs)\n",
    "        \n",
    "    def __getitem__(self, key):\n",
    "        assert isinstance(key, str)\n",
    "        return self._data[key]\n",
    "        \n",
    "    def __iter__(self):\n",
    "        return self._data.__iter__()\n",
    "    \n",
    "    def __len__(self):\n",
    "        return len(self._data)\n",
    "    \n",
    "    def items(self):\n",
    "        return self._data.items()\n"
   ]
  },
  {
   "cell_type": "markdown",
   "metadata": {},
   "source": [
    "Нужно сделать так, чтобы все, что написано ниже заработало:"
   ]
  },
  {
   "cell_type": "code",
   "execution_count": 99,
   "metadata": {
    "scrolled": true
   },
   "outputs": [
    {
     "name": "stdout",
     "output_type": "stream",
     "text": [
      "1\n",
      "2\n",
      "setting1\n",
      "setting2\n"
     ]
    }
   ],
   "source": [
    "settings = Settings(setting1=1, setting2=2)\n",
    "\n",
    "print(settings['setting1']) # получение значения по ключу\n",
    "print(len(settings)) # длина словаря\n",
    "for setting in settings: # итерируемся по ключам\n",
    "    print(setting)"
   ]
  },
  {
   "cell_type": "code",
   "execution_count": 100,
   "metadata": {},
   "outputs": [
    {
     "name": "stdout",
     "output_type": "stream",
     "text": [
      "True\n",
      "False\n"
     ]
    }
   ],
   "source": [
    "print('setting1' in settings) # проверка наличия элемента \n",
    "print('setting3' in settings)"
   ]
  },
  {
   "cell_type": "code",
   "execution_count": 101,
   "metadata": {},
   "outputs": [
    {
     "name": "stdout",
     "output_type": "stream",
     "text": [
      "dict_items([('setting1', 1), ('setting2', 2)])\n"
     ]
    }
   ],
   "source": [
    "print(settings.items())"
   ]
  },
  {
   "cell_type": "markdown",
   "metadata": {
    "id": "2GmPBwRGd2lC"
   },
   "source": [
    "## Статические методы и методы классов"
   ]
  },
  {
   "cell_type": "markdown",
   "metadata": {
    "id": "oFkgrUNfeBn_"
   },
   "source": [
    "### @classmethod"
   ]
  },
  {
   "cell_type": "markdown",
   "metadata": {
    "id": "vRmuLHeCvv0j"
   },
   "source": [
    "Кроме полей класса, объект класса также может иметь методы класса, в которых вместо ссылки на объект экзепляра (self), передается ссылка на объект класса (cls).     \n",
    "\n",
    "+ имеют доступ только к полям класса (но не к полям экземпляра)\n",
    "+ не требуют создания экземпляра \n",
    "+ не зависят от состояния объекта"
   ]
  },
  {
   "cell_type": "code",
   "execution_count": 102,
   "metadata": {
    "id": "MW7irg1weMDA"
   },
   "outputs": [],
   "source": [
    "class Animal:\n",
    "   \n",
    "    fav_food = 'pizza' # атрибут класса \n",
    "    \n",
    "    \n",
    "    def __init__(self, name, legs, scariness):\n",
    "        self.name = name \n",
    "        self.legs = legs\n",
    "        self.scariness = scariness\n",
    "    \n",
    "    def introduce(self): \n",
    "        return \"Hello! My name is %s!\" % self.name\n",
    "    \n",
    "    \n",
    "    def sound(self):\n",
    "        return \"Sound!\"\n",
    "    \n",
    "    # нужно использовать декоратор classmethod\n",
    "    @classmethod\n",
    "    def favorite_food(cls): # cls вместо self\n",
    "        return \"My favorite food is %s!\" % cls.fav_food"
   ]
  },
  {
   "cell_type": "code",
   "execution_count": 103,
   "metadata": {
    "id": "NB0x5bfcv-CR"
   },
   "outputs": [],
   "source": [
    "animal = Animal('Doggy', 4, 1)"
   ]
  },
  {
   "cell_type": "code",
   "execution_count": 104,
   "metadata": {
    "id": "gWDNinv5wAgn"
   },
   "outputs": [
    {
     "data": {
      "text/plain": [
       "'My favorite food is pizza!'"
      ]
     },
     "execution_count": 104,
     "metadata": {},
     "output_type": "execute_result"
    }
   ],
   "source": [
    "animal.favorite_food() # из объекта экземпяра класса"
   ]
  },
  {
   "cell_type": "code",
   "execution_count": 105,
   "metadata": {
    "id": "MyUVdf16wKnm"
   },
   "outputs": [
    {
     "data": {
      "text/plain": [
       "'My favorite food is pizza!'"
      ]
     },
     "execution_count": 105,
     "metadata": {},
     "output_type": "execute_result"
    }
   ],
   "source": [
    "Animal.favorite_food() # из объекта класса"
   ]
  },
  {
   "cell_type": "markdown",
   "metadata": {
    "id": "EBclN7WU7cEx"
   },
   "source": [
    "**Задание**: \n",
    "+ Решаем [эту задачу](https://stepik.org/lesson/361905/step/2?unit=346443) \n",
    "+ С помощью нее поймем, как создавать методы класса и как динамически менять атрибуты класса, и зачем это все может быть нужно (чтобы хранить состояние класса)\n",
    "+ Метод \\_\\_del\\_\\_ прописывать в данной задаче не нужно!\n",
    "+ Там можно отправлять на проверку код, не регистрируясь и не логинясь, по крайней мере у меня получалось \n"
   ]
  },
  {
   "cell_type": "code",
   "execution_count": 115,
   "metadata": {},
   "outputs": [],
   "source": [
    "class Robot:\n",
    "    population = 0\n",
    "    \n",
    "    def __init__(self, name):\n",
    "        self.name = name\n",
    "        Robot.population += 1\n",
    "        print(\"Робот %s был создан\" % self.name)\n",
    "    \n",
    "    def destroy(self):\n",
    "        Robot.population -= 1\n",
    "        print(\"Робот %s был уничтожен\" % self.name)\n",
    "    \n",
    "    def say_hello(self):\n",
    "        print(\"Робот %s приветствует тебя, особь человеческого рода\" % self.name)\n",
    "    \n",
    "    @classmethod\n",
    "    def how_many(cls):\n",
    "        print(\"%s, вот сколько нас еще осталось\" % cls.population)"
   ]
  },
  {
   "cell_type": "code",
   "execution_count": 112,
   "metadata": {},
   "outputs": [
    {
     "name": "stdout",
     "output_type": "stream",
     "text": [
      "Робот R2-D2 был создан\n",
      "Робот R2-D2 приветствует тебя, особь человеческого рода\n",
      "1, вот сколько нас еще осталось\n",
      "Робот R2-D2 был уничтожен\n",
      "0, вот сколько нас еще осталось\n"
     ]
    }
   ],
   "source": [
    "# r2 = Robot(\"R2-D2\") # печатает \"Робот R2-D2 был создан\"\n",
    "# r2.say_hello() # печатает \"Робот R2-D2 приветствует тебя, особь человеческого рода\"\n",
    "# Robot.how_many() # печатает \"1, вот сколько нас еще осталось\"\n",
    "# r2.destroy() # печатает \"Робот R2-D2 был уничтожен\"\n",
    "# Robot.how_many()"
   ]
  },
  {
   "cell_type": "code",
   "execution_count": 113,
   "metadata": {},
   "outputs": [],
   "source": [
    "del r2"
   ]
  },
  {
   "cell_type": "code",
   "execution_count": 114,
   "metadata": {},
   "outputs": [
    {
     "name": "stdout",
     "output_type": "stream",
     "text": [
      "0, вот сколько нас еще осталось\n"
     ]
    }
   ],
   "source": [
    "# все работает несмотря на то, что экземпляров класса нет\n",
    "Robot.how_many()"
   ]
  },
  {
   "cell_type": "markdown",
   "metadata": {
    "id": "_Qc1MXTHd9JT"
   },
   "source": [
    "### @staticmethod"
   ]
  },
  {
   "cell_type": "markdown",
   "metadata": {
    "id": "UGbE3zu5w_7j"
   },
   "source": [
    "+ не требуют создания экземпляра \n",
    "+ не зависят от состояния объекта\n",
    "+ нет доступа даже к полям класаа\n",
    "+ ничего не нужно знать про класс, пользуются только переданными аргументами\n",
    "+ не нужно передавать ссылку ни на объект экземпляра, ни на объект класса"
   ]
  },
  {
   "cell_type": "code",
   "execution_count": 10,
   "metadata": {
    "id": "eCN8hoZowdcK"
   },
   "outputs": [],
   "source": [
    "class Animal:\n",
    "   \n",
    "    fav_food = 'pizza' # атрибут класса \n",
    "    \n",
    "    \n",
    "    def __init__(self, name, legs, scariness):\n",
    "        self.name = self.capitalize(name) \n",
    "        self.legs = legs\n",
    "        self.scariness = scariness\n",
    "    \n",
    "    def introduce(self): \n",
    "        return \"Hello! My name is %s!\" % self.name\n",
    "    \n",
    "    \n",
    "    def sound(self):\n",
    "        return \"Sound!\"\n",
    "    \n",
    "    # нужно использовать декоратор staticmethod\n",
    "    @staticmethod\n",
    "    def capitalize(name): # аргумент self/cls не нужен, т.к. мы не обращаемся ни к полям экземпляра, ни к полям класса\n",
    "        chars = list(name)\n",
    "        chars[0] = chars[0].upper()\n",
    "        return ''.join(chars)"
   ]
  },
  {
   "cell_type": "code",
   "execution_count": 11,
   "metadata": {},
   "outputs": [],
   "source": [
    "animal = Animal('name', 4, 10)"
   ]
  },
  {
   "cell_type": "code",
   "execution_count": 12,
   "metadata": {},
   "outputs": [
    {
     "data": {
      "text/plain": [
       "'Name'"
      ]
     },
     "execution_count": 12,
     "metadata": {},
     "output_type": "execute_result"
    }
   ],
   "source": [
    "animal.capitalize('name')"
   ]
  },
  {
   "cell_type": "code",
   "execution_count": 13,
   "metadata": {},
   "outputs": [
    {
     "name": "stdout",
     "output_type": "stream",
     "text": [
      "<__main__.Animal object at 0x7f3d203e88d0>\n"
     ]
    }
   ],
   "source": [
    "print(animal)"
   ]
  },
  {
   "cell_type": "markdown",
   "metadata": {},
   "source": [
    "## Классы данных - dataclasses"
   ]
  },
  {
   "cell_type": "markdown",
   "metadata": {},
   "source": [
    "+ python 3.7+\n",
    "+ автоматизируют генерацию кода классов, использующихся для хранения данных\n",
    "+ без использования метклассов\n",
    "+ лучше использовать классы данных чем кортеж, словарь и т.д, удобнее получать доступ к атрибутам, код красивее, понятнее и проще для тестирования и отладки\n",
    "+ [документация](https://docs.python.org/3/library/dataclasses.html)"
   ]
  },
  {
   "cell_type": "code",
   "execution_count": 6,
   "metadata": {},
   "outputs": [],
   "source": [
    "from dataclasses import dataclass"
   ]
  },
  {
   "cell_type": "code",
   "execution_count": 7,
   "metadata": {},
   "outputs": [],
   "source": [
    "# создаем класс игральной карты\n",
    "\n",
    "@dataclass\n",
    "class Card:\n",
    "    rank: str\n",
    "    suit: str"
   ]
  },
  {
   "cell_type": "markdown",
   "metadata": {},
   "source": [
    "Допишет за нас по умолчанию:\n",
    "+ ***init*** с заданными нами аргументами\n",
    "+ красивый ***repr***\n",
    "+ ***eq*** (элементы равны, если равны значения всех атрибутов)"
   ]
  },
  {
   "cell_type": "code",
   "execution_count": 8,
   "metadata": {},
   "outputs": [],
   "source": [
    "# init\n",
    "queen_of_hearts = Card(rank='Q', suit='heart')"
   ]
  },
  {
   "cell_type": "code",
   "execution_count": 9,
   "metadata": {},
   "outputs": [
    {
     "data": {
      "text/plain": [
       "Card(rank='Q', suit='heart')"
      ]
     },
     "execution_count": 9,
     "metadata": {},
     "output_type": "execute_result"
    }
   ],
   "source": [
    "# красивый repr\n",
    "queen_of_hearts"
   ]
  },
  {
   "cell_type": "code",
   "execution_count": 14,
   "metadata": {},
   "outputs": [],
   "source": [
    "another_queen_of_hearts = Card(rank='Q', suit='heart')"
   ]
  },
  {
   "cell_type": "code",
   "execution_count": 15,
   "metadata": {},
   "outputs": [
    {
     "data": {
      "text/plain": [
       "True"
      ]
     },
     "execution_count": 15,
     "metadata": {},
     "output_type": "execute_result"
    }
   ],
   "source": [
    "# равенство\n",
    "another_queen_of_hearts == queen_of_hearts"
   ]
  },
  {
   "cell_type": "markdown",
   "metadata": {},
   "source": [
    "Без использования dataclass все то же самое выглядело бы вот так:"
   ]
  },
  {
   "cell_type": "code",
   "execution_count": null,
   "metadata": {},
   "outputs": [],
   "source": [
    "class RegularCard:\n",
    "    def __init__(self, rank, suit):\n",
    "        self.rank = rank\n",
    "        self.suit = suit\n",
    "\n",
    "    def __repr__(self):\n",
    "        return (f'{self.__class__.__name__}'\n",
    "                f'(rank={self.rank!r}, suit={self.suit!r})')\n",
    "\n",
    "    def __eq__(self, other):\n",
    "        if other.__class__ is not self.__class__:\n",
    "            return NotImplemented\n",
    "        return (self.rank, self.suit) == (other.rank, other.suit)"
   ]
  },
  {
   "cell_type": "markdown",
   "metadata": {},
   "source": [
    "Параметры с их значениями по умолчанию (подробнее можно почитать в документации):"
   ]
  },
  {
   "cell_type": "code",
   "execution_count": 16,
   "metadata": {},
   "outputs": [],
   "source": [
    "@dataclass(init=True, # добавить init  \n",
    "           repr=True, # добавить repr\n",
    "           eq=True, # добавить eq\n",
    "           order=False, # добавить методы для сравнения и сортировки (__le__, __ge__ и т.д.)\n",
    "           unsafe_hash=False, # настройщик добавления метода __hash__\n",
    "           frozen=False) # сделать класс неизменяемым\n",
    "class Card:\n",
    "    rank: str\n",
    "    suit: str"
   ]
  },
  {
   "cell_type": "markdown",
   "metadata": {},
   "source": [
    "Order - по умолчанию объекты сравниваются как кортежи из всех их атрибутов:"
   ]
  },
  {
   "cell_type": "code",
   "execution_count": 17,
   "metadata": {},
   "outputs": [],
   "source": [
    "@dataclass(order=True, frozen=True)\n",
    "class Card:\n",
    "    rank: str\n",
    "    suit: str"
   ]
  },
  {
   "cell_type": "code",
   "execution_count": 18,
   "metadata": {},
   "outputs": [],
   "source": [
    "queen_hearts = Card('Q', 'hearts')\n",
    "queen_spades = Card('Q', 'spades')\n",
    "ten_hearts = Card('10', 'hearts')\n",
    "ten_spades = Card('10', 'spades')\n",
    "king_hearts = Card('K', 'hearts')\n",
    "king_spades = Card('K', 'spades')"
   ]
  },
  {
   "cell_type": "code",
   "execution_count": 19,
   "metadata": {
    "scrolled": true
   },
   "outputs": [
    {
     "ename": "FrozenInstanceError",
     "evalue": "cannot assign to field 'new_attr'",
     "output_type": "error",
     "traceback": [
      "\u001b[0;31m---------------------------------------------------------------------------\u001b[0m",
      "\u001b[0;31mFrozenInstanceError\u001b[0m                       Traceback (most recent call last)",
      "\u001b[0;32m<ipython-input-19-cc4c725f5f95>\u001b[0m in \u001b[0;36m<module>\u001b[0;34m\u001b[0m\n\u001b[0;32m----> 1\u001b[0;31m \u001b[0mqueen_hearts\u001b[0m\u001b[0;34m.\u001b[0m\u001b[0mnew_attr\u001b[0m \u001b[0;34m=\u001b[0m \u001b[0;36m10\u001b[0m\u001b[0;34m\u001b[0m\u001b[0;34m\u001b[0m\u001b[0m\n\u001b[0m",
      "\u001b[0;32m<string>\u001b[0m in \u001b[0;36m__setattr__\u001b[0;34m(self, name, value)\u001b[0m\n",
      "\u001b[0;31mFrozenInstanceError\u001b[0m: cannot assign to field 'new_attr'"
     ]
    }
   ],
   "source": [
    "queen_hearts.new_attr = 10"
   ]
  },
  {
   "cell_type": "markdown",
   "metadata": {},
   "source": [
    "Вот так работает в варианте по умолчанию, но для полноценного представления колоды карт придется переписать:"
   ]
  },
  {
   "cell_type": "code",
   "execution_count": 20,
   "metadata": {},
   "outputs": [
    {
     "data": {
      "text/plain": [
       "True"
      ]
     },
     "execution_count": 20,
     "metadata": {},
     "output_type": "execute_result"
    }
   ],
   "source": [
    "queen_hearts > ten_spades"
   ]
  },
  {
   "cell_type": "code",
   "execution_count": 21,
   "metadata": {},
   "outputs": [
    {
     "data": {
      "text/plain": [
       "True"
      ]
     },
     "execution_count": 21,
     "metadata": {},
     "output_type": "execute_result"
    }
   ],
   "source": [
    "queen_spades > ten_hearts"
   ]
  },
  {
   "cell_type": "code",
   "execution_count": 22,
   "metadata": {},
   "outputs": [
    {
     "data": {
      "text/plain": [
       "False"
      ]
     },
     "execution_count": 22,
     "metadata": {},
     "output_type": "execute_result"
    }
   ],
   "source": [
    "queen_spades < king_spades # неправильно"
   ]
  },
  {
   "cell_type": "code",
   "execution_count": 23,
   "metadata": {},
   "outputs": [
    {
     "name": "stdout",
     "output_type": "stream",
     "text": [
      "Card(rank='10', suit='hearts')\n",
      "Card(rank='10', suit='spades')\n",
      "Card(rank='K', suit='hearts')\n",
      "Card(rank='K', suit='spades')\n",
      "Card(rank='Q', suit='hearts')\n",
      "Card(rank='Q', suit='spades')\n"
     ]
    }
   ],
   "source": [
    "for card in sorted([queen_hearts, queen_spades, ten_hearts, ten_spades, \n",
    "                    king_hearts, king_spades]):\n",
    "    print(card)"
   ]
  },
  {
   "cell_type": "markdown",
   "metadata": {},
   "source": [
    "Также легко добавить \n",
    "+ значение атрибута по умолчанию\n",
    "+ атрибуты класса"
   ]
  },
  {
   "cell_type": "code",
   "execution_count": 24,
   "metadata": {},
   "outputs": [],
   "source": [
    "from typing import ClassVar\n",
    "\n",
    "@dataclass\n",
    "class Animal:\n",
    "    fav_food: ClassVar = 'pizza' # переменная класса\n",
    "        \n",
    "    name: str\n",
    "    # значения по умолчанию\n",
    "    species: str = 'unknown'\n",
    "    scariness: int = 0 \n",
    "    legs: int = 4\n",
    "    "
   ]
  },
  {
   "cell_type": "code",
   "execution_count": 25,
   "metadata": {},
   "outputs": [],
   "source": [
    "cat = Animal('Kitty','Cat')"
   ]
  },
  {
   "cell_type": "code",
   "execution_count": 26,
   "metadata": {},
   "outputs": [
    {
     "data": {
      "text/plain": [
       "4"
      ]
     },
     "execution_count": 26,
     "metadata": {},
     "output_type": "execute_result"
    }
   ],
   "source": [
    "cat.legs"
   ]
  },
  {
   "cell_type": "code",
   "execution_count": 27,
   "metadata": {},
   "outputs": [
    {
     "data": {
      "text/plain": [
       "'pizza'"
      ]
     },
     "execution_count": 27,
     "metadata": {},
     "output_type": "execute_result"
    }
   ],
   "source": [
    "Animal.fav_food"
   ]
  },
  {
   "cell_type": "markdown",
   "metadata": {},
   "source": [
    "**Задание:**\n",
    "   + сделать рабочий датакласс карт, чтобы можно было играть в пьяницу например\n",
    "   + нормальное сравнение карт\n",
    "   + карты разной масти, но одинакового достоинства равны\n",
    "   + порядок возможных номиналов по возрастанию: ['6', '7', '8', '9', '10', 'J', 'Q', 'K', 'A']\n",
    "   + класс должен быть неизменяемым"
   ]
  },
  {
   "cell_type": "code",
   "execution_count": 28,
   "metadata": {},
   "outputs": [],
   "source": [
    "@dataclass(frozen=True, eq=False)\n",
    "class Card:\n",
    "    card_ranks: ClassVar = ['6', '7', '8', '9', '10', 'J', 'Q', 'K', 'A']\n",
    "        \n",
    "    rank: str\n",
    "    suit: str\n",
    "        \n",
    "    def __eq__(self, other):\n",
    "        return sefl.rank == other.rank\n",
    "    \n",
    "    def __gt__(self, other):\n",
    "        return self.card_ranks.index(self.rank) > self.card_ranks.index(other.rank)\n",
    "        "
   ]
  },
  {
   "cell_type": "code",
   "execution_count": 29,
   "metadata": {},
   "outputs": [],
   "source": [
    "ranks = ['6', '7', '8', '9', '10', 'J', 'Q', 'K', 'A']\n",
    "suits = ['hearts', 'diamonds', 'spades', 'clubs']\n",
    "deck = []\n",
    "\n",
    "for suit in suits:\n",
    "    for rank in ranks:\n",
    "        deck.append(Card(rank=rank,suit=suit))"
   ]
  },
  {
   "cell_type": "code",
   "execution_count": 30,
   "metadata": {},
   "outputs": [
    {
     "data": {
      "text/plain": [
       "[Card(rank='6', suit='hearts'),\n",
       " Card(rank='7', suit='hearts'),\n",
       " Card(rank='8', suit='hearts'),\n",
       " Card(rank='9', suit='hearts'),\n",
       " Card(rank='10', suit='hearts'),\n",
       " Card(rank='J', suit='hearts'),\n",
       " Card(rank='Q', suit='hearts'),\n",
       " Card(rank='K', suit='hearts'),\n",
       " Card(rank='A', suit='hearts'),\n",
       " Card(rank='6', suit='diamonds'),\n",
       " Card(rank='7', suit='diamonds'),\n",
       " Card(rank='8', suit='diamonds'),\n",
       " Card(rank='9', suit='diamonds'),\n",
       " Card(rank='10', suit='diamonds'),\n",
       " Card(rank='J', suit='diamonds'),\n",
       " Card(rank='Q', suit='diamonds'),\n",
       " Card(rank='K', suit='diamonds'),\n",
       " Card(rank='A', suit='diamonds'),\n",
       " Card(rank='6', suit='spades'),\n",
       " Card(rank='7', suit='spades'),\n",
       " Card(rank='8', suit='spades'),\n",
       " Card(rank='9', suit='spades'),\n",
       " Card(rank='10', suit='spades'),\n",
       " Card(rank='J', suit='spades'),\n",
       " Card(rank='Q', suit='spades'),\n",
       " Card(rank='K', suit='spades'),\n",
       " Card(rank='A', suit='spades'),\n",
       " Card(rank='6', suit='clubs'),\n",
       " Card(rank='7', suit='clubs'),\n",
       " Card(rank='8', suit='clubs'),\n",
       " Card(rank='9', suit='clubs'),\n",
       " Card(rank='10', suit='clubs'),\n",
       " Card(rank='J', suit='clubs'),\n",
       " Card(rank='Q', suit='clubs'),\n",
       " Card(rank='K', suit='clubs'),\n",
       " Card(rank='A', suit='clubs')]"
      ]
     },
     "execution_count": 30,
     "metadata": {},
     "output_type": "execute_result"
    }
   ],
   "source": [
    "deck"
   ]
  },
  {
   "cell_type": "code",
   "execution_count": 31,
   "metadata": {},
   "outputs": [
    {
     "data": {
      "text/plain": [
       "[Card(rank='6', suit='hearts'),\n",
       " Card(rank='6', suit='diamonds'),\n",
       " Card(rank='6', suit='spades'),\n",
       " Card(rank='6', suit='clubs'),\n",
       " Card(rank='7', suit='hearts'),\n",
       " Card(rank='7', suit='diamonds'),\n",
       " Card(rank='7', suit='spades'),\n",
       " Card(rank='7', suit='clubs'),\n",
       " Card(rank='8', suit='hearts'),\n",
       " Card(rank='8', suit='diamonds'),\n",
       " Card(rank='8', suit='spades'),\n",
       " Card(rank='8', suit='clubs'),\n",
       " Card(rank='9', suit='hearts'),\n",
       " Card(rank='9', suit='diamonds'),\n",
       " Card(rank='9', suit='spades'),\n",
       " Card(rank='9', suit='clubs'),\n",
       " Card(rank='10', suit='hearts'),\n",
       " Card(rank='10', suit='diamonds'),\n",
       " Card(rank='10', suit='spades'),\n",
       " Card(rank='10', suit='clubs'),\n",
       " Card(rank='J', suit='hearts'),\n",
       " Card(rank='J', suit='diamonds'),\n",
       " Card(rank='J', suit='spades'),\n",
       " Card(rank='J', suit='clubs'),\n",
       " Card(rank='Q', suit='hearts'),\n",
       " Card(rank='Q', suit='diamonds'),\n",
       " Card(rank='Q', suit='spades'),\n",
       " Card(rank='Q', suit='clubs'),\n",
       " Card(rank='K', suit='hearts'),\n",
       " Card(rank='K', suit='diamonds'),\n",
       " Card(rank='K', suit='spades'),\n",
       " Card(rank='K', suit='clubs'),\n",
       " Card(rank='A', suit='hearts'),\n",
       " Card(rank='A', suit='diamonds'),\n",
       " Card(rank='A', suit='spades'),\n",
       " Card(rank='A', suit='clubs')]"
      ]
     },
     "execution_count": 31,
     "metadata": {},
     "output_type": "execute_result"
    }
   ],
   "source": [
    "sorted(deck)"
   ]
  },
  {
   "cell_type": "code",
   "execution_count": null,
   "metadata": {},
   "outputs": [],
   "source": []
  }
 ],
 "metadata": {
  "colab": {
   "name": "18.ipynb",
   "provenance": []
  },
  "kernelspec": {
   "display_name": "Python 3",
   "language": "python",
   "name": "python3"
  },
  "language_info": {
   "codemirror_mode": {
    "name": "ipython",
    "version": 3
   },
   "file_extension": ".py",
   "mimetype": "text/x-python",
   "name": "python",
   "nbconvert_exporter": "python",
   "pygments_lexer": "ipython3",
   "version": "3.7.4"
  }
 },
 "nbformat": 4,
 "nbformat_minor": 1
}
