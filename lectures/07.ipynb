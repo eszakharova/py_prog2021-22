{
 "cells": [
  {
   "cell_type": "markdown",
   "metadata": {
    "id": "27dQs-ZTA-VP"
   },
   "source": [
    "# Метаклассы"
   ]
  },
  {
   "cell_type": "markdown",
   "metadata": {
    "id": "oTJYobiuBCyk"
   },
   "source": [
    "## Объекты"
   ]
  },
  {
   "cell_type": "markdown",
   "metadata": {
    "id": "ZuT3QudbJY85"
   },
   "source": [
    "Вспоминаем, что в питоне все является объектом. В том числе классы. "
   ]
  },
  {
   "cell_type": "code",
   "execution_count": null,
   "metadata": {
    "id": "lCRgs5VOBIH4"
   },
   "outputs": [],
   "source": [
    "class MyClass: # этот код создает в памяти объект на который ссылается переменная MyClass\n",
    "    def __init__(self, a):\n",
    "        print('Created instance of MyClass!')\n",
    "        self.a = a"
   ]
  },
  {
   "cell_type": "markdown",
   "metadata": {
    "id": "_q4fsdKVJhmv"
   },
   "source": [
    "Объект `MyClass` может сам порождать объекты --> является классом"
   ]
  },
  {
   "cell_type": "code",
   "execution_count": null,
   "metadata": {
    "id": "w1CC4UsRJh9R"
   },
   "outputs": [],
   "source": [
    "my_obj = MyClass(1)"
   ]
  },
  {
   "cell_type": "markdown",
   "metadata": {
    "id": "2BKq-im6W9qx"
   },
   "source": [
    "Объект ```my_obj``` уже не может порождать объекты, потому что является экземпляром класса, но не классом!"
   ]
  },
  {
   "cell_type": "markdown",
   "metadata": {
    "id": "pFbkVGfYXR0Z"
   },
   "source": [
    "При этом с классом можно делать все то же самое, что и с любым объектом:"
   ]
  },
  {
   "cell_type": "code",
   "execution_count": null,
   "metadata": {
    "id": "6ZBoNa2XXXA2"
   },
   "outputs": [],
   "source": [
    "# записать в переменную\n",
    "class_to_make = MyClass\n",
    "my_obj = class_to_make(1)"
   ]
  },
  {
   "cell_type": "code",
   "execution_count": null,
   "metadata": {
    "id": "bgudpI1bXbXC"
   },
   "outputs": [],
   "source": [
    "my_obj.a"
   ]
  },
  {
   "cell_type": "code",
   "execution_count": null,
   "metadata": {
    "id": "kw4gtVA9Xd4o"
   },
   "outputs": [],
   "source": [
    "# передать в функцию \n",
    "def create_instance(class_object, a=1):\n",
    "    print(a)\n",
    "    return class_object(a)"
   ]
  },
  {
   "cell_type": "code",
   "execution_count": null,
   "metadata": {
    "id": "hWq4nNTpXiMO"
   },
   "outputs": [],
   "source": [
    "my_obj = create_instance(MyClass, 1)"
   ]
  },
  {
   "cell_type": "code",
   "execution_count": null,
   "metadata": {
    "id": "5qX__hFaXk_8"
   },
   "outputs": [],
   "source": [
    "my_obj.a"
   ]
  },
  {
   "cell_type": "code",
   "execution_count": null,
   "metadata": {
    "id": "liAiyGD1XlMR"
   },
   "outputs": [],
   "source": [
    "# добавить или изменить атрибут (это будет атрибут класса)\n",
    "MyClass.new_class_attr = 10\n",
    "my_obj1 = MyClass(1)"
   ]
  },
  {
   "cell_type": "code",
   "execution_count": null,
   "metadata": {
    "id": "_WFLvy8VXla0"
   },
   "outputs": [],
   "source": [
    "my_obj1.new_class_attr"
   ]
  },
  {
   "cell_type": "code",
   "execution_count": null,
   "metadata": {
    "id": "tiKL0oBoXlks"
   },
   "outputs": [],
   "source": [
    "MyClass.new_class_attr = 20"
   ]
  },
  {
   "cell_type": "code",
   "execution_count": null,
   "metadata": {
    "id": "mC3OXLMnXwkT"
   },
   "outputs": [],
   "source": [
    "my_obj1.new_class_attr"
   ]
  },
  {
   "cell_type": "markdown",
   "metadata": {},
   "source": [
    "## Что происходит при создании экземпляра класса?"
   ]
  },
  {
   "cell_type": "markdown",
   "metadata": {
    "id": "F1NbD50iv-h1"
   },
   "source": [
    "#### \\_\\_new\\_\\_ и \\_\\_init\\_\\_ "
   ]
  },
  {
   "cell_type": "markdown",
   "metadata": {
    "id": "z0av1JsZwd6S"
   },
   "source": [
    "![](https://i.stack.imgur.com/MgRbx.png)\n",
    "+ `__new__()` - отвечает за создание нового экземпляра класса, возвращает новый объект (**должен быть return**)\n",
    "+ `__init__()` - отвечает за инициализацию нового экземпляра класса - объявить какие у него есть атрибуты, какие у них значения (**без returna**)\n"
   ]
  },
  {
   "cell_type": "code",
   "execution_count": null,
   "metadata": {
    "id": "PiUUSCk4zAcW"
   },
   "outputs": [],
   "source": [
    "class MyClass:\n",
    "\n",
    "    def __init__(self):\n",
    "        self.my_attr = 1\n",
    "        print('init called')\n",
    "\n",
    "    def __new__(cls, *args, **kwargs):\n",
    "        print('new called')\n",
    "        return super().__new__(cls, *args, **kwargs)\n"
   ]
  },
  {
   "cell_type": "code",
   "execution_count": null,
   "metadata": {
    "colab": {
     "base_uri": "https://localhost:8080/"
    },
    "id": "t_bgY5XJy_4r",
    "outputId": "1828ef0a-67af-4abe-e1f0-5789ce722f8c"
   },
   "outputs": [],
   "source": [
    "new_instance = MyClass()\n",
    "print(new_instance.my_attr)"
   ]
  },
  {
   "cell_type": "markdown",
   "metadata": {
    "id": "clAyNwwS2NWd"
   },
   "source": [
    "### Что такое меткласс?"
   ]
  },
  {
   "cell_type": "markdown",
   "metadata": {
    "id": "yaitDifCv7Yw"
   },
   "source": [
    "   **Метакласс** - класс, экземпляры которого сами являются классами (могут порождать свои экземпляры). \n",
    "![](https://blog.ionelmc.ro/2015/02/09/understanding-python-metaclasses/instance-of.png)"
   ]
  },
  {
   "cell_type": "markdown",
   "metadata": {
    "id": "0WV6c6640cUs"
   },
   "source": [
    "Создаем метакласс, который будет порождать классы \"студент Х-го курса\":"
   ]
  },
  {
   "cell_type": "code",
   "execution_count": null,
   "metadata": {
    "id": "w065pSABwEQq"
   },
   "outputs": [],
   "source": [
    "# переопределим конструктор, чтобы атрибут name передавался в качестве аргумента\n",
    "def __init__(self, name):\n",
    "    self.name = name"
   ]
  },
  {
   "cell_type": "code",
   "execution_count": null,
   "metadata": {},
   "outputs": [],
   "source": [
    "# создадим метод introduce\n",
    "def introduce(self):\n",
    "    return \"Hello I am %s, %s year student!\" % (self.name, str(self.year))"
   ]
  },
  {
   "cell_type": "code",
   "execution_count": null,
   "metadata": {
    "id": "7iAG6K9uwJxJ"
   },
   "outputs": [],
   "source": [
    "# допустим мы хотим отдельно передавать методы в виде списка\n",
    "# и так, чтобы они автоматически добавлялись с нужным именем\n",
    "student_methods = [introduce, __init__]"
   ]
  },
  {
   "cell_type": "code",
   "execution_count": null,
   "metadata": {
    "id": "4eFxXPz5yozy"
   },
   "outputs": [],
   "source": [
    "class StudentMetaClass(type): # обязательно наследуемся от type \n",
    "    def __new__(cls, name, bases, attrs):\n",
    "        for method in attrs['methods']:\n",
    "            attrs[method.__name__] = method # добавляем пары ключ - название метода, значение -  метод\n",
    "        attrs.pop('methods') # удаляем methods из словаря атрибутов \n",
    "        return super().__new__(cls, name, bases, attrs)"
   ]
  },
  {
   "cell_type": "markdown",
   "metadata": {
    "id": "-cLO6iBO1ND3"
   },
   "source": [
    "`type` на самом деле тоже является метаклассом, который Python внутренне использует для создания всех классов"
   ]
  },
  {
   "cell_type": "code",
   "execution_count": null,
   "metadata": {},
   "outputs": [],
   "source": [
    "# показывает, экземпляром какого класса явлется объект\n",
    "type(object)"
   ]
  },
  {
   "cell_type": "code",
   "execution_count": null,
   "metadata": {
    "id": "dEJRdtpv1R0H"
   },
   "outputs": [],
   "source": [
    "new_classes = []\n",
    "for i in range(1,5):\n",
    "    new_classes.append(StudentMetaClass('Student%sYear'%str(i), (object, ), {'year': i, 'methods': student_methods})) "
   ]
  },
  {
   "cell_type": "code",
   "execution_count": null,
   "metadata": {
    "colab": {
     "base_uri": "https://localhost:8080/"
    },
    "id": "zNxOt-bF1dNU",
    "outputId": "96f6b170-9da2-4c3d-eb15-1643432e4189"
   },
   "outputs": [],
   "source": [
    "names = ['Vasya', 'Masha', 'Petya', 'Dasha']\n",
    "for i, class_ in enumerate(new_classes):\n",
    "    obj = class_(name=names[i])\n",
    "    print(obj)\n",
    "    print(obj.year)\n",
    "    print(obj.introduce()+'\\n')"
   ]
  },
  {
   "cell_type": "code",
   "execution_count": null,
   "metadata": {},
   "outputs": [],
   "source": [
    "type(obj)"
   ]
  },
  {
   "cell_type": "code",
   "execution_count": null,
   "metadata": {},
   "outputs": [],
   "source": [
    "type(new_classes[-1])"
   ]
  },
  {
   "cell_type": "markdown",
   "metadata": {
    "id": "2j3Bvqes2y83"
   },
   "source": [
    "### Аргумент metaclass"
   ]
  },
  {
   "cell_type": "markdown",
   "metadata": {
    "id": "uK9rCYhG23Lz"
   },
   "source": [
    "При написании класса можно добавить аргумент  metaclass, тогда питон при создании класса будет использовать указанный метакласс, а не type  \n",
    "При указании metaclass питон \n",
    "+ перехватывает создание класса\n",
    "+ изменяет класс\n",
    "+ возвращает модифицированный объект класса"
   ]
  },
  {
   "cell_type": "code",
   "execution_count": null,
   "metadata": {
    "id": "9ftNFyx720Sd"
   },
   "outputs": [],
   "source": [
    "class Student1Year(metaclass=StudentMetaClass):\n",
    "    # задаем атрибуты, такие же как в словаре переданном StudentMetaClass последним аргументом\n",
    "    year = 1 \n",
    "    methods = student_methods"
   ]
  },
  {
   "cell_type": "code",
   "execution_count": null,
   "metadata": {
    "id": "GmPZ4rk2_6md"
   },
   "outputs": [],
   "source": [
    "student = Student1Year('Boris')"
   ]
  },
  {
   "cell_type": "code",
   "execution_count": null,
   "metadata": {
    "colab": {
     "base_uri": "https://localhost:8080/",
     "height": 35
    },
    "id": "IG53HwoT_7XB",
    "outputId": "8ed78c4a-7d9c-45e4-adf0-1a8c49d9ed23"
   },
   "outputs": [],
   "source": [
    "student.introduce()"
   ]
  },
  {
   "cell_type": "code",
   "execution_count": null,
   "metadata": {
    "colab": {
     "base_uri": "https://localhost:8080/"
    },
    "id": "CxWdyaMt_-ks",
    "outputId": "1dd23371-89bc-4688-8bf8-a908c72cb2e7"
   },
   "outputs": [],
   "source": [
    "student.year"
   ]
  },
  {
   "cell_type": "code",
   "execution_count": null,
   "metadata": {},
   "outputs": [],
   "source": [
    "type(student)"
   ]
  },
  {
   "cell_type": "code",
   "execution_count": null,
   "metadata": {
    "colab": {
     "base_uri": "https://localhost:8080/"
    },
    "id": "fj_wVwVVe2Iv",
    "outputId": "c586d5c7-4a25-4bb9-b1e0-c316fa671a51"
   },
   "outputs": [],
   "source": [
    "type(Student1Year)"
   ]
  },
  {
   "cell_type": "markdown",
   "metadata": {
    "id": "8mmtZo2-he8g"
   },
   "source": [
    "### Что происходит при создании экземпляра класса (теперь еще и с метаклассами)?"
   ]
  },
  {
   "cell_type": "markdown",
   "metadata": {
    "id": "M_vYk3FvmSI3"
   },
   "source": [
    "+ ```__call__()``` - определяет поведение, когда экземпляр класса вызывают (как функцию - со скобочками)"
   ]
  },
  {
   "cell_type": "code",
   "execution_count": null,
   "metadata": {
    "id": "I_554mPFmRgG"
   },
   "outputs": [],
   "source": [
    "class MyClass:\n",
    "\n",
    "    def __call__(cls, *args, **kwargs):\n",
    "        print('called method call')\n",
    "\n",
    "my_class_instance = MyClass()"
   ]
  },
  {
   "cell_type": "code",
   "execution_count": null,
   "metadata": {},
   "outputs": [],
   "source": [
    "my_class_instance()"
   ]
  },
  {
   "cell_type": "markdown",
   "metadata": {
    "id": "Bi1QfExBhjJP"
   },
   "source": [
    "![](https://i.stack.imgur.com/YVB4Q.png)"
   ]
  },
  {
   "cell_type": "code",
   "execution_count": null,
   "metadata": {
    "colab": {
     "base_uri": "https://localhost:8080/"
    },
    "id": "dqzDA1xmhnAH",
    "outputId": "912a0ade-99bb-4d98-b514-daf7a899d608"
   },
   "outputs": [],
   "source": [
    "class MyMeta(type):\n",
    "    def __new__(cls, *args, **kwargs):\n",
    "        print('called new of metaclass')\n",
    "        return super().__new__(cls, *args, **kwargs)\n",
    "\n",
    "    def __call__(cls, *args, **kwargs):\n",
    "        print('called call of metaclass')\n",
    "        return super().__call__(*args, **kwargs)\n",
    "\n",
    "class MyClass(metaclass=MyMeta):\n",
    "    def __init__(self):\n",
    "        self.my_attr = 1\n",
    "        print('init called')\n",
    "\n",
    "    def __new__(cls, *args, **kwargs):\n",
    "        print('new called')\n",
    "        return super().__new__(cls, *args, **kwargs)\n",
    "\n",
    "# MyClass() - тот самый __call__, мы вызываем экземпляр класса MyMeta (объект MyClass) как функцию\n",
    "# my_class = MyClass() "
   ]
  },
  {
   "cell_type": "markdown",
   "metadata": {
    "id": "odBcjxZlAB3q"
   },
   "source": [
    "**Задание**: \n",
    "   + написать метакласс, который переводит названия всех атрибутов и методов (кроме служебных) в верхний регистр\n",
    "   + служебный = начинается и заканчивается на два нижих подчеркивания"
   ]
  },
  {
   "cell_type": "code",
   "execution_count": null,
   "metadata": {
    "id": "9-WuOZNuAHON"
   },
   "outputs": [],
   "source": [
    "# пример работы\n",
    "class MyClass(metaclass=UpperCaseMetaclass):\n",
    "    attr1 = 1\n",
    "    \n",
    "    def method1(self):\n",
    "        print('method 1')"
   ]
  },
  {
   "cell_type": "code",
   "execution_count": null,
   "metadata": {
    "colab": {
     "base_uri": "https://localhost:8080/"
    },
    "id": "iMLbk1DwAKWI",
    "outputId": "3f36fd77-de7c-443f-f2c3-15f1adb5868c"
   },
   "outputs": [],
   "source": [
    "my_object = MyClass()\n",
    "my_object.ATTR1\n",
    "my_object.METHOD1()\n",
    "# 1"
   ]
  },
  {
   "cell_type": "markdown",
   "metadata": {
    "id": "VZbiYO1zA8xM"
   },
   "source": [
    "## Зачем нужны метаклассы - примеры"
   ]
  },
  {
   "cell_type": "markdown",
   "metadata": {
    "id": "ZnQ9dg9dBd2W"
   },
   "source": [
    "### Синглтон"
   ]
  },
  {
   "cell_type": "markdown",
   "metadata": {
    "id": "SkLDNI_dC50t"
   },
   "source": [
    "Паттерн синглтон:\n",
    "+ создание одного и только одного экземпляра класса\n",
    "+ предоставление глобальной точки доступа к нему"
   ]
  },
  {
   "cell_type": "markdown",
   "metadata": {
    "id": "Wdfggra9DeMK"
   },
   "source": [
    "Пример в питоне - None:"
   ]
  },
  {
   "cell_type": "code",
   "execution_count": null,
   "metadata": {
    "id": "XGAGa0ISDA1m"
   },
   "outputs": [],
   "source": [
    "a = None"
   ]
  },
  {
   "cell_type": "code",
   "execution_count": null,
   "metadata": {
    "id": "-cP7jY9gDCuI"
   },
   "outputs": [],
   "source": [
    "b = None"
   ]
  },
  {
   "cell_type": "code",
   "execution_count": null,
   "metadata": {
    "colab": {
     "base_uri": "https://localhost:8080/"
    },
    "id": "0vbNcFwCDE_k",
    "outputId": "c5cfc94b-2b28-41f2-af1b-3335f5ee06f5"
   },
   "outputs": [],
   "source": [
    "a is b"
   ]
  },
  {
   "cell_type": "code",
   "execution_count": null,
   "metadata": {
    "colab": {
     "base_uri": "https://localhost:8080/"
    },
    "id": "DC9XXqdcDGlx",
    "outputId": "181f2cbb-eb16-48c8-c449-69da141bbb2a"
   },
   "outputs": [],
   "source": [
    "print(id(a), id(b), id(None))"
   ]
  },
  {
   "cell_type": "code",
   "execution_count": null,
   "metadata": {
    "colab": {
     "base_uri": "https://localhost:8080/"
    },
    "id": "dr8gJZ_WY4xt",
    "outputId": "a74235fe-18ea-4e53-c8ee-f298788ad91a"
   },
   "outputs": [],
   "source": [
    "# можно делать так и наследоваться от него\n",
    "class SingletonBase:\n",
    "    def __new__(cls):\n",
    "        if not hasattr(cls, 'instance'): # проверяем что существует только один экземпляр\n",
    "            cls.instance = super().__new__(cls) # сохраняем в атрибуте класса информацию о созданном экземпляре\n",
    "        return cls.instance\n",
    "s = SingletonBase()\n",
    "print(\"Object created\", s)\n",
    "s1 = SingletonBase() # точка доступа через создание экземпляра\n",
    "print(\"Object created\", s1)"
   ]
  },
  {
   "cell_type": "code",
   "execution_count": null,
   "metadata": {
    "colab": {
     "base_uri": "https://localhost:8080/"
    },
    "id": "B8Y07L4-ZaFL",
    "outputId": "d11e32b8-46da-4d4e-aa59-9081b488f955"
   },
   "outputs": [],
   "source": [
    "s is s1"
   ]
  },
  {
   "cell_type": "code",
   "execution_count": null,
   "metadata": {},
   "outputs": [],
   "source": [
    "class Singleton1(SingletonBase):\n",
    "    pass"
   ]
  },
  {
   "cell_type": "code",
   "execution_count": null,
   "metadata": {},
   "outputs": [],
   "source": [
    "class Singleton2(SingletonBase):\n",
    "    pass"
   ]
  },
  {
   "cell_type": "code",
   "execution_count": null,
   "metadata": {},
   "outputs": [],
   "source": [
    "s1 = Singleton1()\n",
    "s1_also = Singleton1()"
   ]
  },
  {
   "cell_type": "code",
   "execution_count": null,
   "metadata": {},
   "outputs": [],
   "source": [
    "s2 = Singleton2()\n",
    "s2_also = Singleton2()"
   ]
  },
  {
   "cell_type": "code",
   "execution_count": null,
   "metadata": {
    "scrolled": true
   },
   "outputs": [],
   "source": [
    "s1 is s1_also"
   ]
  },
  {
   "cell_type": "code",
   "execution_count": null,
   "metadata": {},
   "outputs": [],
   "source": [
    "# но\n",
    "s1 is s2"
   ]
  },
  {
   "cell_type": "code",
   "execution_count": null,
   "metadata": {},
   "outputs": [],
   "source": [
    "# но\n",
    "print(type(s1))\n",
    "print(type(s2))"
   ]
  },
  {
   "cell_type": "markdown",
   "metadata": {
    "id": "nIPfJITAZ3fP"
   },
   "source": [
    "Метакласс для создания синглтона:"
   ]
  },
  {
   "cell_type": "code",
   "execution_count": null,
   "metadata": {
    "colab": {
     "base_uri": "https://localhost:8080/"
    },
    "id": "DNg9VPBFZusR",
    "outputId": "dc4ede85-7a62-48c1-b9b3-d7680b0fab4f"
   },
   "outputs": [],
   "source": [
    "# можно создать метакласс\n",
    "class MetaSingleton(type):\n",
    "    _instances = {} # храним set созданных экземпляров всех классов \n",
    "    def __call__(cls, *args, **kwargs):\n",
    "        if cls not in cls._instances:\n",
    "            cls._instances[cls] = super().__call__(*args, **kwargs)\n",
    "        return cls._instances[cls]\n",
    "    \n",
    "class Logger(metaclass=MetaSingleton):\n",
    "    pass\n",
    "\n",
    "class Something(metaclass=MetaSingleton):\n",
    "    some_attr = 0\n",
    "\n",
    "logger1 = Logger()\n",
    "print(len(MetaSingleton._instances))\n",
    "logger2 = Logger()\n",
    "print(len(MetaSingleton._instances))\n",
    "something1 = Something()\n",
    "print(len(MetaSingleton._instances))\n",
    "something2 = Something()\n",
    "print(len(MetaSingleton._instances))"
   ]
  },
  {
   "cell_type": "code",
   "execution_count": null,
   "metadata": {
    "colab": {
     "base_uri": "https://localhost:8080/"
    },
    "id": "Jihx7OZWcK1T",
    "outputId": "e0b7f3a6-ced9-478c-b0d1-aabec5b59922",
    "scrolled": true
   },
   "outputs": [],
   "source": [
    "print(logger1 is logger2)\n",
    "print(something1 is something2)"
   ]
  },
  {
   "cell_type": "code",
   "execution_count": null,
   "metadata": {},
   "outputs": [],
   "source": [
    "print(logger1 is something2) "
   ]
  },
  {
   "cell_type": "code",
   "execution_count": null,
   "metadata": {},
   "outputs": [],
   "source": [
    "print(type(logger1))\n",
    "print(type(something1))"
   ]
  },
  {
   "cell_type": "code",
   "execution_count": null,
   "metadata": {},
   "outputs": [],
   "source": [
    "class ParentLogger:\n",
    "    is_parent = True\n",
    "\n",
    "# наследуемся как обычно\n",
    "class Logger(ParentLogger, metaclass=MetaSingleton):\n",
    "    pass"
   ]
  },
  {
   "cell_type": "code",
   "execution_count": null,
   "metadata": {},
   "outputs": [],
   "source": [
    "logger1 = Logger()"
   ]
  },
  {
   "cell_type": "code",
   "execution_count": null,
   "metadata": {
    "scrolled": false
   },
   "outputs": [],
   "source": [
    "Logger.__bases__"
   ]
  },
  {
   "cell_type": "code",
   "execution_count": null,
   "metadata": {},
   "outputs": [],
   "source": [
    "type(logger1)"
   ]
  },
  {
   "cell_type": "code",
   "execution_count": null,
   "metadata": {},
   "outputs": [],
   "source": [
    "type(Logger)"
   ]
  },
  {
   "cell_type": "markdown",
   "metadata": {
    "id": "Ib-4UU8Kfx5t"
   },
   "source": [
    "**Задание:**\n",
    "+ выяснить и рассказать мне, наследуется ли принадлежность к метаклассу\n",
    "+ то есть будут ли дочерние классы например Logger иметь тот же метакласс"
   ]
  },
  {
   "cell_type": "markdown",
   "metadata": {
    "id": "_Wp9q_3ZBFLm"
   },
   "source": [
    "### ORM"
   ]
  },
  {
   "cell_type": "markdown",
   "metadata": {
    "id": "0fNn9I16szR2"
   },
   "source": [
    "**Object Relational Mapping** - отображение отношений реляционной бд в классы и объекты\n",
    "![](https://www.fullstackpython.com/img/visuals/orms-bridge.png)"
   ]
  },
  {
   "cell_type": "markdown",
   "metadata": {
    "id": "WCSLdT4-tmVP"
   },
   "source": [
    "Примеры:\n",
    "+ SQLAlchemy\n",
    "+ DjangoORM\n",
    "+ SQLObject\n",
    "+ ClickhouseORM\n",
    "+ PonyORM\n",
    "+ и т.д. "
   ]
  },
  {
   "cell_type": "markdown",
   "metadata": {
    "id": "w0Q7WjhHt6pE"
   },
   "source": [
    "Зачем нужно:\n",
    "+ упрощает написание запросов и работу с их результатами\n",
    "    ![](https://www.dropbox.com/s/em0e38etaqmopgr/Screenshot%20from%202021-01-20%2001-38-55.png?dl=1)\n",
    "+ более абстрактный и универсальный интерфейс\n",
    "+ проще дебажить и тестировать\n",
    "+ многие вещи автоматизированы\n"
   ]
  }
 ],
 "metadata": {
  "colab": {
   "name": "20.ipynb",
   "provenance": []
  },
  "kernelspec": {
   "display_name": "Python 3",
   "language": "python",
   "name": "python3"
  },
  "language_info": {
   "codemirror_mode": {
    "name": "ipython",
    "version": 3
   },
   "file_extension": ".py",
   "mimetype": "text/x-python",
   "name": "python",
   "nbconvert_exporter": "python",
   "pygments_lexer": "ipython3",
   "version": "3.7.4"
  }
 },
 "nbformat": 4,
 "nbformat_minor": 1
}
