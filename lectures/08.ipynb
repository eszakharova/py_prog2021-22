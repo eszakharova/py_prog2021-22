{
 "cells": [
  {
   "cell_type": "markdown",
   "id": "4b8dea35",
   "metadata": {},
   "source": [
    "# Метаклассы, наследование, абстрактные классы"
   ]
  },
  {
   "cell_type": "markdown",
   "id": "e6bca474",
   "metadata": {},
   "source": [
    "## Metaclass vs class vs instance"
   ]
  },
  {
   "cell_type": "markdown",
   "id": "cd47d402",
   "metadata": {},
   "source": [
    "![](https://python.astrotech.io/_images/oop-metaclass-inheritance.png)"
   ]
  },
  {
   "cell_type": "markdown",
   "id": "8dfc08c4",
   "metadata": {},
   "source": [
    "## Instance vs Inheritance"
   ]
  },
  {
   "cell_type": "markdown",
   "id": "07d52010",
   "metadata": {},
   "source": [
    "![](https://drive.google.com/uc?export=view&id=1E71wN2w20hZRGfocaaeguwDUd_TJpi7G)"
   ]
  },
  {
   "cell_type": "markdown",
   "id": "3b147dcf",
   "metadata": {},
   "source": [
    "**Абстрактный класс**  \n",
    "   + НАСЛЕДОВАНИЕ\n",
    "   + НЕЛЬЗЯ создать экземпляр\n",
    "   + хотя бы один абстрактный метод (@abstactmethod)\n",
    "   + наследуется от ABC\n",
    "   + нужен для описания интерфейса дочерних классов\n"
   ]
  },
  {
   "cell_type": "markdown",
   "id": "b57f7e6c",
   "metadata": {},
   "source": [
    "**Метакласс**\n",
    "   + СОЗДАНИЕ ЭКЗЕМПЛЯРА\n",
    "   + вот тут нужно обязательно осознать разницу между **объектом класса** и **объектом экземпляра класса**\n",
    "   + экземпляры - КЛАССЫ (объекты класса)\n",
    "   + type - метакласс, по умолчанию участвует в создании всех классов в питоне, все классы в питоне являются экземплярами type (или его наследников)\n",
    "   + пользовательский - наследуется от type\n",
    "   + нужен для динамического создания классов и всяких хитрых дел связанных с созданием классов"
   ]
  },
  {
   "cell_type": "code",
   "execution_count": 79,
   "id": "2c28a240",
   "metadata": {},
   "outputs": [],
   "source": [
    "# метакласс\n",
    "class MyMeta(type):\n",
    "    def __new__(cls, *args, **kwargs):\n",
    "        print('Called MyMeta.__new__()')\n",
    "        return super().__new__(cls, *args, **kwargs)"
   ]
  },
  {
   "cell_type": "code",
   "execution_count": 80,
   "id": "1ebbec06",
   "metadata": {},
   "outputs": [
    {
     "name": "stdout",
     "output_type": "stream",
     "text": [
      "Called MyMeta.__new__()\n"
     ]
    }
   ],
   "source": [
    "# объект класса\n",
    "class MyClass(metaclass=MyMeta):\n",
    "    def __init__(self):\n",
    "        print('Called MyClass.__init__()')"
   ]
  },
  {
   "cell_type": "code",
   "execution_count": 83,
   "id": "10f4db24",
   "metadata": {},
   "outputs": [
    {
     "data": {
      "text/plain": [
       "__main__.MyMeta"
      ]
     },
     "execution_count": 83,
     "metadata": {},
     "output_type": "execute_result"
    }
   ],
   "source": [
    "# объект класса\n",
    "type(MyClass) # MyClass - экземпляр класса MyMeta"
   ]
  },
  {
   "cell_type": "code",
   "execution_count": 81,
   "id": "8a4320a9",
   "metadata": {},
   "outputs": [
    {
     "name": "stdout",
     "output_type": "stream",
     "text": [
      "Called MyClass.__init__()\n"
     ]
    }
   ],
   "source": [
    "# объект экзмепляра класса\n",
    "my_instance = MyClass()"
   ]
  },
  {
   "cell_type": "code",
   "execution_count": 85,
   "id": "21e1ec52",
   "metadata": {},
   "outputs": [
    {
     "data": {
      "text/plain": [
       "__main__.MyClass"
      ]
     },
     "execution_count": 85,
     "metadata": {},
     "output_type": "execute_result"
    }
   ],
   "source": [
    "# объект экзмепляра класса\n",
    "type(my_instance) # my_instance - экземпляр класса MyClass"
   ]
  },
  {
   "cell_type": "code",
   "execution_count": 86,
   "id": "91b471a5",
   "metadata": {
    "scrolled": true
   },
   "outputs": [
    {
     "name": "stdout",
     "output_type": "stream",
     "text": [
      "Called MyMeta.__new__()\n"
     ]
    }
   ],
   "source": [
    "# наследование\n",
    "# объект класса\n",
    "class MyChildClass(MyClass):\n",
    "    pass"
   ]
  },
  {
   "cell_type": "code",
   "execution_count": 88,
   "id": "da58f51a",
   "metadata": {},
   "outputs": [
    {
     "data": {
      "text/plain": [
       "__main__.MyMeta"
      ]
     },
     "execution_count": 88,
     "metadata": {},
     "output_type": "execute_result"
    }
   ],
   "source": [
    "# объект класса\n",
    "type(MyChildClass) # MyChildClass - тоже экземпляр класса MyMeta"
   ]
  },
  {
   "cell_type": "code",
   "execution_count": 89,
   "id": "ed4eaeda",
   "metadata": {},
   "outputs": [
    {
     "data": {
      "text/plain": [
       "(__main__.MyClass,)"
      ]
     },
     "execution_count": 89,
     "metadata": {},
     "output_type": "execute_result"
    }
   ],
   "source": [
    "# родительские классы объекта класса\n",
    "MyChildClass.__bases__ # MyChildClass - наследник/подкласс класса MyClass"
   ]
  },
  {
   "cell_type": "code",
   "execution_count": 87,
   "id": "84785fa1",
   "metadata": {},
   "outputs": [
    {
     "name": "stdout",
     "output_type": "stream",
     "text": [
      "Called MyClass.__init__()\n"
     ]
    }
   ],
   "source": [
    "# объект экземпляра класса\n",
    "my_child_instance = MyChildClass()"
   ]
  },
  {
   "cell_type": "code",
   "execution_count": 90,
   "id": "8cbb7451",
   "metadata": {},
   "outputs": [
    {
     "data": {
      "text/plain": [
       "__main__.MyChildClass"
      ]
     },
     "execution_count": 90,
     "metadata": {},
     "output_type": "execute_result"
    }
   ],
   "source": [
    "# объект экземпляра класса\n",
    "type(my_child_instance)"
   ]
  },
  {
   "cell_type": "markdown",
   "id": "344b2288",
   "metadata": {},
   "source": [
    "## ДЗ-3, задача B"
   ]
  },
  {
   "cell_type": "markdown",
   "id": "a7a73e3f",
   "metadata": {},
   "source": [
    "Вам нужно создать класс GoodInt, который ведет себя так же, как и обычный int, за искючением того, что при создании объекта из ﬂoat или строки с дробным числом не отрезает дробную часть (как int), а округляет число до ближайшего целого (подойдет встроенный round).\n",
    "Пример использования:\n",
    "```\n",
    "    print(GoodInt(5.5))  # 6  \n",
    "    print(GoodInt(5.6))  # 6  \n",
    "    print(GoodInt(5.4))  # 5  \n",
    "    print(GoodInt(5))  # 5  \n",
    "    print(GoodInt(’5.5’))  # 6  \n",
    "    print(GoodInt(5.6) + GoodInt(’5.6’))  # 12\n",
    "```"
   ]
  },
  {
   "cell_type": "markdown",
   "id": "031932e4",
   "metadata": {},
   "source": [
    "Почему нельзя просто переписать init у потомка int?"
   ]
  },
  {
   "cell_type": "code",
   "execution_count": 108,
   "id": "20c5ff3c",
   "metadata": {
    "scrolled": true
   },
   "outputs": [
    {
     "name": "stdout",
     "output_type": "stream",
     "text": [
      "Calling GoodInt.__new__() with args (5.5,), kwargs {}\n",
      "Calling GoodInt.__init__()\n",
      "5\n"
     ]
    }
   ],
   "source": [
    "class GoodInt(int):\n",
    "    def __init__(self, x):\n",
    "        print('Calling GoodInt.__init__()')\n",
    "        super().__init__()\n",
    "        \n",
    "        \n",
    "    def __new__(cls, *args, **kwargs):\n",
    "        print(f'Calling GoodInt.__new__() with args {args}, kwargs {kwargs}')\n",
    "        return super().__new__(cls, *args, **kwargs)\n",
    "        \n",
    "print(GoodInt(5.5))  # 6  "
   ]
  },
  {
   "cell_type": "code",
   "execution_count": 109,
   "id": "73a65cfb",
   "metadata": {},
   "outputs": [
    {
     "name": "stdout",
     "output_type": "stream",
     "text": [
      "Calling GoodInt.__new__() with arg 6\n",
      "Calling GoodInt.__init__()\n",
      "6\n"
     ]
    }
   ],
   "source": [
    "class GoodInt(int):\n",
    "     def __new__(cls, x):\n",
    "        x = round(float(x))\n",
    "        print(f'Calling GoodInt.__new__() with arg {x}')\n",
    "        return super().__new__(cls, x)\n",
    "    \n",
    "     def __init__(self, *args, **kwargs):\n",
    "        print('Calling GoodInt.__init__()')\n",
    "        super().__init__()\n",
    "        \n",
    "print(GoodInt(5.5))  # 6  "
   ]
  },
  {
   "cell_type": "markdown",
   "id": "5799c29d",
   "metadata": {},
   "source": [
    "**\\_\\_new\\_\\_()** is intended mainly to allow subclasses of immutable types (like int, str, or tuple) to customize instance creation. It is also commonly overridden in custom metaclasses in order to customize class creation."
   ]
  },
  {
   "cell_type": "markdown",
   "id": "eb75306b",
   "metadata": {},
   "source": [
    "Как делаются неизменяемые типы данных в питоне?"
   ]
  },
  {
   "cell_type": "code",
   "execution_count": 25,
   "id": "45aaa947",
   "metadata": {},
   "outputs": [],
   "source": [
    "class Immutable:\n",
    "    def __init__(self, a, b):\n",
    "        self.a = a\n",
    "        self.b = b\n",
    "\n",
    "    # переопределением __setattr__\n",
    "    def __setattr__(self, key, value):\n",
    "        raise AttributeError(\"LOL nope.\")"
   ]
  },
  {
   "cell_type": "code",
   "execution_count": 26,
   "id": "38640b79",
   "metadata": {
    "scrolled": true
   },
   "outputs": [
    {
     "ename": "AttributeError",
     "evalue": "LOL nope.",
     "output_type": "error",
     "traceback": [
      "\u001b[0;31m---------------------------------------------------------------------------\u001b[0m",
      "\u001b[0;31mAttributeError\u001b[0m                            Traceback (most recent call last)",
      "\u001b[0;32m<ipython-input-26-b327c5610bdf>\u001b[0m in \u001b[0;36m<module>\u001b[0;34m\u001b[0m\n\u001b[0;32m----> 1\u001b[0;31m \u001b[0mim\u001b[0m \u001b[0;34m=\u001b[0m \u001b[0mImmutable\u001b[0m\u001b[0;34m(\u001b[0m\u001b[0;36m2\u001b[0m\u001b[0;34m,\u001b[0m \u001b[0;36m3\u001b[0m\u001b[0;34m)\u001b[0m\u001b[0;34m\u001b[0m\u001b[0;34m\u001b[0m\u001b[0m\n\u001b[0m\u001b[1;32m      2\u001b[0m \u001b[0mprint\u001b[0m\u001b[0;34m(\u001b[0m\u001b[0mim\u001b[0m\u001b[0;34m)\u001b[0m\u001b[0;34m\u001b[0m\u001b[0;34m\u001b[0m\u001b[0m\n",
      "\u001b[0;32m<ipython-input-25-0f9839dac6d3>\u001b[0m in \u001b[0;36m__init__\u001b[0;34m(self, a, b)\u001b[0m\n\u001b[1;32m      1\u001b[0m \u001b[0;32mclass\u001b[0m \u001b[0mImmutable\u001b[0m\u001b[0;34m:\u001b[0m\u001b[0;34m\u001b[0m\u001b[0;34m\u001b[0m\u001b[0m\n\u001b[1;32m      2\u001b[0m     \u001b[0;32mdef\u001b[0m \u001b[0m__init__\u001b[0m\u001b[0;34m(\u001b[0m\u001b[0mself\u001b[0m\u001b[0;34m,\u001b[0m \u001b[0ma\u001b[0m\u001b[0;34m,\u001b[0m \u001b[0mb\u001b[0m\u001b[0;34m)\u001b[0m\u001b[0;34m:\u001b[0m\u001b[0;34m\u001b[0m\u001b[0;34m\u001b[0m\u001b[0m\n\u001b[0;32m----> 3\u001b[0;31m         \u001b[0mself\u001b[0m\u001b[0;34m.\u001b[0m\u001b[0ma\u001b[0m \u001b[0;34m=\u001b[0m \u001b[0ma\u001b[0m\u001b[0;34m\u001b[0m\u001b[0;34m\u001b[0m\u001b[0m\n\u001b[0m\u001b[1;32m      4\u001b[0m         \u001b[0mself\u001b[0m\u001b[0;34m.\u001b[0m\u001b[0mb\u001b[0m \u001b[0;34m=\u001b[0m \u001b[0mb\u001b[0m\u001b[0;34m\u001b[0m\u001b[0;34m\u001b[0m\u001b[0m\n\u001b[1;32m      5\u001b[0m \u001b[0;34m\u001b[0m\u001b[0m\n",
      "\u001b[0;32m<ipython-input-25-0f9839dac6d3>\u001b[0m in \u001b[0;36m__setattr__\u001b[0;34m(self, key, value)\u001b[0m\n\u001b[1;32m      6\u001b[0m     \u001b[0;31m# переопределением __setattr__\u001b[0m\u001b[0;34m\u001b[0m\u001b[0;34m\u001b[0m\u001b[0;34m\u001b[0m\u001b[0m\n\u001b[1;32m      7\u001b[0m     \u001b[0;32mdef\u001b[0m \u001b[0m__setattr__\u001b[0m\u001b[0;34m(\u001b[0m\u001b[0mself\u001b[0m\u001b[0;34m,\u001b[0m \u001b[0mkey\u001b[0m\u001b[0;34m,\u001b[0m \u001b[0mvalue\u001b[0m\u001b[0;34m)\u001b[0m\u001b[0;34m:\u001b[0m\u001b[0;34m\u001b[0m\u001b[0;34m\u001b[0m\u001b[0m\n\u001b[0;32m----> 8\u001b[0;31m         \u001b[0;32mraise\u001b[0m \u001b[0mAttributeError\u001b[0m\u001b[0;34m(\u001b[0m\u001b[0;34m\"LOL nope.\"\u001b[0m\u001b[0;34m)\u001b[0m\u001b[0;34m\u001b[0m\u001b[0;34m\u001b[0m\u001b[0m\n\u001b[0m",
      "\u001b[0;31mAttributeError\u001b[0m: LOL nope."
     ]
    }
   ],
   "source": [
    "im = Immutable(2, 3)\n",
    "print(im)"
   ]
  },
  {
   "cell_type": "code",
   "execution_count": 110,
   "id": "4c73bb64",
   "metadata": {},
   "outputs": [
    {
     "name": "stdout",
     "output_type": "stream",
     "text": [
      "Immutable.__new__() called\n",
      "Immutable instance created\n",
      "Immutable.__init__() called\n",
      "Calling Immutable.__setattr__ for key a, value 2\n"
     ]
    },
    {
     "ename": "AttributeError",
     "evalue": "LOL nope.",
     "output_type": "error",
     "traceback": [
      "\u001b[0;31m---------------------------------------------------------------------------\u001b[0m",
      "\u001b[0;31mAttributeError\u001b[0m                            Traceback (most recent call last)",
      "\u001b[0;32m<ipython-input-110-a665700c6cc5>\u001b[0m in \u001b[0;36m<module>\u001b[0;34m\u001b[0m\n\u001b[1;32m     17\u001b[0m         \u001b[0;32mraise\u001b[0m \u001b[0mAttributeError\u001b[0m\u001b[0;34m(\u001b[0m\u001b[0;34m\"LOL nope.\"\u001b[0m\u001b[0;34m)\u001b[0m\u001b[0;34m\u001b[0m\u001b[0;34m\u001b[0m\u001b[0m\n\u001b[1;32m     18\u001b[0m \u001b[0;34m\u001b[0m\u001b[0m\n\u001b[0;32m---> 19\u001b[0;31m \u001b[0mim\u001b[0m \u001b[0;34m=\u001b[0m \u001b[0mImmutable\u001b[0m\u001b[0;34m(\u001b[0m\u001b[0;36m2\u001b[0m\u001b[0;34m,\u001b[0m \u001b[0;36m3\u001b[0m\u001b[0;34m)\u001b[0m\u001b[0;34m\u001b[0m\u001b[0;34m\u001b[0m\u001b[0m\n\u001b[0m\u001b[1;32m     20\u001b[0m \u001b[0mprint\u001b[0m\u001b[0;34m(\u001b[0m\u001b[0mim\u001b[0m\u001b[0;34m)\u001b[0m\u001b[0;34m\u001b[0m\u001b[0;34m\u001b[0m\u001b[0m\n",
      "\u001b[0;32m<ipython-input-110-a665700c6cc5>\u001b[0m in \u001b[0;36m__init__\u001b[0;34m(self, a, b)\u001b[0m\n\u001b[1;32m      3\u001b[0m     \u001b[0;32mdef\u001b[0m \u001b[0m__init__\u001b[0m\u001b[0;34m(\u001b[0m\u001b[0mself\u001b[0m\u001b[0;34m,\u001b[0m \u001b[0ma\u001b[0m\u001b[0;34m,\u001b[0m \u001b[0mb\u001b[0m\u001b[0;34m)\u001b[0m\u001b[0;34m:\u001b[0m\u001b[0;34m\u001b[0m\u001b[0;34m\u001b[0m\u001b[0m\n\u001b[1;32m      4\u001b[0m         \u001b[0mprint\u001b[0m\u001b[0;34m(\u001b[0m\u001b[0;34m'Immutable.__init__() called'\u001b[0m\u001b[0;34m)\u001b[0m\u001b[0;34m\u001b[0m\u001b[0;34m\u001b[0m\u001b[0m\n\u001b[0;32m----> 5\u001b[0;31m         \u001b[0mself\u001b[0m\u001b[0;34m.\u001b[0m\u001b[0ma\u001b[0m \u001b[0;34m=\u001b[0m \u001b[0ma\u001b[0m\u001b[0;34m\u001b[0m\u001b[0;34m\u001b[0m\u001b[0m\n\u001b[0m\u001b[1;32m      6\u001b[0m         \u001b[0mself\u001b[0m\u001b[0;34m.\u001b[0m\u001b[0mb\u001b[0m \u001b[0;34m=\u001b[0m \u001b[0mb\u001b[0m\u001b[0;34m\u001b[0m\u001b[0;34m\u001b[0m\u001b[0m\n\u001b[1;32m      7\u001b[0m \u001b[0;34m\u001b[0m\u001b[0m\n",
      "\u001b[0;32m<ipython-input-110-a665700c6cc5>\u001b[0m in \u001b[0;36m__setattr__\u001b[0;34m(self, key, value)\u001b[0m\n\u001b[1;32m     15\u001b[0m     \u001b[0;32mdef\u001b[0m \u001b[0m__setattr__\u001b[0m\u001b[0;34m(\u001b[0m\u001b[0mself\u001b[0m\u001b[0;34m,\u001b[0m \u001b[0mkey\u001b[0m\u001b[0;34m,\u001b[0m \u001b[0mvalue\u001b[0m\u001b[0;34m)\u001b[0m\u001b[0;34m:\u001b[0m\u001b[0;34m\u001b[0m\u001b[0;34m\u001b[0m\u001b[0m\n\u001b[1;32m     16\u001b[0m         \u001b[0mprint\u001b[0m\u001b[0;34m(\u001b[0m\u001b[0;34mf'Calling Immutable.__setattr__ for key {key}, value {value}'\u001b[0m\u001b[0;34m)\u001b[0m\u001b[0;34m\u001b[0m\u001b[0;34m\u001b[0m\u001b[0m\n\u001b[0;32m---> 17\u001b[0;31m         \u001b[0;32mraise\u001b[0m \u001b[0mAttributeError\u001b[0m\u001b[0;34m(\u001b[0m\u001b[0;34m\"LOL nope.\"\u001b[0m\u001b[0;34m)\u001b[0m\u001b[0;34m\u001b[0m\u001b[0;34m\u001b[0m\u001b[0m\n\u001b[0m\u001b[1;32m     18\u001b[0m \u001b[0;34m\u001b[0m\u001b[0m\n\u001b[1;32m     19\u001b[0m \u001b[0mim\u001b[0m \u001b[0;34m=\u001b[0m \u001b[0mImmutable\u001b[0m\u001b[0;34m(\u001b[0m\u001b[0;36m2\u001b[0m\u001b[0;34m,\u001b[0m \u001b[0;36m3\u001b[0m\u001b[0;34m)\u001b[0m\u001b[0;34m\u001b[0m\u001b[0;34m\u001b[0m\u001b[0m\n",
      "\u001b[0;31mAttributeError\u001b[0m: LOL nope."
     ]
    }
   ],
   "source": [
    "# давайте выясним, что пошло не так\n",
    "class Immutable:\n",
    "    def __init__(self, a, b):\n",
    "        print('Immutable.__init__() called')\n",
    "        self.a = a\n",
    "        self.b = b\n",
    "        \n",
    "    def __new__(cls, *args, **kwargs):\n",
    "        print('Immutable.__new__() called')\n",
    "        new_instance = super().__new__(cls)\n",
    "        print('Immutable instance created')\n",
    "        return new_instance\n",
    "\n",
    "    # переопределением __setattr__\n",
    "    def __setattr__(self, key, value):\n",
    "        print(f'Calling Immutable.__setattr__ for key {key}, value {value}')\n",
    "        raise AttributeError(\"LOL nope.\")\n",
    "        \n",
    "im = Immutable(2, 3)\n",
    "print(im)"
   ]
  },
  {
   "cell_type": "markdown",
   "id": "b918fdda",
   "metadata": {},
   "source": [
    "Чтобы сделать неизменяемый тип данных (с атрибутами) нам нужно как-то задать их до момента создания экземпляра неизменямого типа (до вызова new), как правило это делается с помощью наследования от изменяемого типа"
   ]
  },
  {
   "cell_type": "code",
   "execution_count": 111,
   "id": "af3ef854",
   "metadata": {},
   "outputs": [],
   "source": [
    "class Mutable:\n",
    "    def __init__(self, a, b):\n",
    "        print(\"Mutable.__init__() called.\")\n",
    "        self.a = a\n",
    "        self.b = b\n",
    "\n",
    "\n",
    "class ActuallyImmutable(Mutable):\n",
    "    def __new__(cls, a, b):\n",
    "        # создаем сначала изменяемый экзмепляр, которому можно задать атрибуты \n",
    "        thing = Mutable(a, b)\n",
    "        # меняем тип объекта\n",
    "        thing.__class__ = cls\n",
    "        return thing\n",
    "\n",
    "    # переопределаем __init__, чтобы родительский не вызывался\n",
    "    def __init__(self, *args, **kwargs):\n",
    "        print(\"ActuallyImmutable.__init__() called.\")\n",
    "\n",
    "    def __setattr__(self, key, value):\n",
    "        raise AttributeError(\"LOL nope srsly.\")"
   ]
  },
  {
   "cell_type": "code",
   "execution_count": 112,
   "id": "eba43de8",
   "metadata": {
    "scrolled": true
   },
   "outputs": [
    {
     "name": "stdout",
     "output_type": "stream",
     "text": [
      "Mutable.__init__() called.\n",
      "ActuallyImmutable.__init__() called.\n"
     ]
    }
   ],
   "source": [
    "im = ActuallyImmutable(2, 3)"
   ]
  },
  {
   "cell_type": "code",
   "execution_count": 113,
   "id": "03065bd3",
   "metadata": {},
   "outputs": [
    {
     "data": {
      "text/plain": [
       "__main__.ActuallyImmutable"
      ]
     },
     "execution_count": 113,
     "metadata": {},
     "output_type": "execute_result"
    }
   ],
   "source": [
    "type(im)"
   ]
  },
  {
   "cell_type": "code",
   "execution_count": 114,
   "id": "54efb419",
   "metadata": {},
   "outputs": [
    {
     "name": "stdout",
     "output_type": "stream",
     "text": [
      "<__main__.ActuallyImmutable object at 0x7fdc95f4ff50>\n",
      "2\n",
      "3\n"
     ]
    }
   ],
   "source": [
    "print(im)\n",
    "print(im.a)\n",
    "print(im.b)\n"
   ]
  },
  {
   "cell_type": "code",
   "execution_count": 116,
   "id": "4a8efca6",
   "metadata": {
    "scrolled": true
   },
   "outputs": [
    {
     "ename": "AttributeError",
     "evalue": "LOL nope srsly.",
     "output_type": "error",
     "traceback": [
      "\u001b[0;31m---------------------------------------------------------------------------\u001b[0m",
      "\u001b[0;31mAttributeError\u001b[0m                            Traceback (most recent call last)",
      "\u001b[0;32m<ipython-input-116-2f8cb8cb8bfe>\u001b[0m in \u001b[0;36m<module>\u001b[0;34m\u001b[0m\n\u001b[0;32m----> 1\u001b[0;31m \u001b[0mim\u001b[0m\u001b[0;34m.\u001b[0m\u001b[0ma\u001b[0m \u001b[0;34m=\u001b[0m \u001b[0;36m23\u001b[0m\u001b[0;34m\u001b[0m\u001b[0;34m\u001b[0m\u001b[0m\n\u001b[0m",
      "\u001b[0;32m<ipython-input-111-07a789a58e45>\u001b[0m in \u001b[0;36m__setattr__\u001b[0;34m(self, key, value)\u001b[0m\n\u001b[1;32m     19\u001b[0m \u001b[0;34m\u001b[0m\u001b[0m\n\u001b[1;32m     20\u001b[0m     \u001b[0;32mdef\u001b[0m \u001b[0m__setattr__\u001b[0m\u001b[0;34m(\u001b[0m\u001b[0mself\u001b[0m\u001b[0;34m,\u001b[0m \u001b[0mkey\u001b[0m\u001b[0;34m,\u001b[0m \u001b[0mvalue\u001b[0m\u001b[0;34m)\u001b[0m\u001b[0;34m:\u001b[0m\u001b[0;34m\u001b[0m\u001b[0;34m\u001b[0m\u001b[0m\n\u001b[0;32m---> 21\u001b[0;31m         \u001b[0;32mraise\u001b[0m \u001b[0mAttributeError\u001b[0m\u001b[0;34m(\u001b[0m\u001b[0;34m\"LOL nope srsly.\"\u001b[0m\u001b[0;34m)\u001b[0m\u001b[0;34m\u001b[0m\u001b[0;34m\u001b[0m\u001b[0m\n\u001b[0m",
      "\u001b[0;31mAttributeError\u001b[0m: LOL nope srsly."
     ]
    }
   ],
   "source": [
    "im.a = 23"
   ]
  }
 ],
 "metadata": {
  "kernelspec": {
   "display_name": "Python 3",
   "language": "python",
   "name": "python3"
  },
  "language_info": {
   "codemirror_mode": {
    "name": "ipython",
    "version": 3
   },
   "file_extension": ".py",
   "mimetype": "text/x-python",
   "name": "python",
   "nbconvert_exporter": "python",
   "pygments_lexer": "ipython3",
   "version": "3.7.4"
  }
 },
 "nbformat": 4,
 "nbformat_minor": 5
}
