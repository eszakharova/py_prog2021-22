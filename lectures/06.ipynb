{
 "cells": [
  {
   "cell_type": "markdown",
   "metadata": {},
   "source": [
    "# ООП. Продолжение"
   ]
  },
  {
   "cell_type": "markdown",
   "metadata": {
    "id": "HyX_T7OvNDRT"
   },
   "source": [
    "**Задание**: \n",
    "+ Решаем [эту задачу](https://stepik.org/lesson/24462/step/9?unit=6768) и вот [эту задачу](https://stepik.org/lesson/372017/step/2?unit=359571) \n",
    "+ Полезно будет вспомнить материал предыдущих пар \n",
    "+ Если что-то не получается, скорее всего поможет прочтение комментариев к задаче, там объяснены основные непонятные моменты\n",
    "+ Там можно отправлять на проверку код, не регистрируясь и не логинясь, по крайней мере у меня получалось "
   ]
  },
  {
   "cell_type": "markdown",
   "metadata": {
    "id": "JI9zyZt4alTk"
   },
   "source": [
    "## Абстрактные классы"
   ]
  },
  {
   "cell_type": "markdown",
   "metadata": {
    "id": "eGsezBWDpyzp"
   },
   "source": [
    "**Абстрактный класс** - класс в котором есть хотя бы один абстрактный метод.   \n",
    "**Абстрактный метод** - объявленный, но не реализованный метод. \n",
    "\n",
    "Абстрактный класс описывает интерфейс взаимодействия с дочерними классами. "
   ]
  },
  {
   "cell_type": "markdown",
   "metadata": {},
   "source": [
    "![](https://1.bp.blogspot.com/-HR3qCiRlA_E/XkAB97uh6pI/AAAAAAAACdc/AuxyFL-rnIE4uUCmzTA5DEb9fzCB9HIwgCLcBGAsYHQ/s1600/abstractcls.png)"
   ]
  },
  {
   "cell_type": "code",
   "execution_count": null,
   "metadata": {
    "id": "NYVLwiVtd1Th"
   },
   "outputs": [],
   "source": [
    "from abc import ABC, ABCMeta, abstractmethod"
   ]
  },
  {
   "cell_type": "code",
   "execution_count": null,
   "metadata": {
    "id": "-8_6Gv3pd1jD"
   },
   "outputs": [],
   "source": [
    "class Animal(ABC): # наследование от ABC из модуля ABC\n",
    "#  # или так \n",
    "# class Animal(metaclass=ABCMeta):\n",
    "   \n",
    "    def __init__(self, name, legs, scariness):\n",
    "        self.name = name \n",
    "        self.legs = legs\n",
    "        self.scariness = scariness\n",
    "        \n",
    "    # общий метод, который будут использовать все наследники этого класса\n",
    "    def introduce(self): \n",
    "        print(\"Hello! My name is %s!\" % self.name)\n",
    "    \n",
    "    # абстрактный метод, который будет необходимо переопределять для каждого подкласса\n",
    "    @abstractmethod # чтобы объявить метод абстрактным используется декоратор @abstactmethod\n",
    "    def sound(self):\n",
    "        pass"
   ]
  },
  {
   "cell_type": "markdown",
   "metadata": {
    "id": "AQQLU7-vrOs7"
   },
   "source": [
    "Абстрактный класс нельзя инстанциировать, обязательно нужно унаследовать и переопределить **все** абстрактные методы в дочернем классе. "
   ]
  },
  {
   "cell_type": "code",
   "execution_count": null,
   "metadata": {
    "id": "1EbOD_R0rCAP"
   },
   "outputs": [],
   "source": [
    "animal = Animal('Animal', 4, 10)"
   ]
  },
  {
   "cell_type": "code",
   "execution_count": null,
   "metadata": {
    "id": "g7lUQu0irUBX"
   },
   "outputs": [],
   "source": [
    "class Cat(Animal):\n",
    "    pass"
   ]
  },
  {
   "cell_type": "code",
   "execution_count": null,
   "metadata": {
    "id": "ytJITpKKrUJp"
   },
   "outputs": [],
   "source": [
    "cat = Cat('Cat', 4, 2) # унаследовали, но не переопределили абстрактный метод"
   ]
  },
  {
   "cell_type": "code",
   "execution_count": null,
   "metadata": {
    "id": "hcZwHsOZrUQN"
   },
   "outputs": [],
   "source": [
    "class Cat(Animal):\n",
    "    def sound(self): # переопределяем абстрактный метод\n",
    "        print('Meow!')"
   ]
  },
  {
   "cell_type": "code",
   "execution_count": null,
   "metadata": {
    "id": "HLOf_KbSrcEd"
   },
   "outputs": [],
   "source": [
    "class Dog(Animal):\n",
    "    def sound(self): # переопределяем абстрактный метод\n",
    "        print('Woof!')"
   ]
  },
  {
   "cell_type": "code",
   "execution_count": null,
   "metadata": {
    "id": "Us9gPWeIrcMe"
   },
   "outputs": [],
   "source": [
    "cat = Cat('Cat', 4, 2)\n",
    "dog = Dog('Dog', 4, 6)"
   ]
  },
  {
   "cell_type": "code",
   "execution_count": null,
   "metadata": {
    "id": "D3nqbyZnriLm"
   },
   "outputs": [],
   "source": [
    "cat.sound()\n",
    "dog.sound()"
   ]
  },
  {
   "cell_type": "code",
   "execution_count": null,
   "metadata": {
    "id": "35ZKcHfLrlAG"
   },
   "outputs": [],
   "source": [
    "cat.introduce()\n",
    "dog.introduce()"
   ]
  },
  {
   "cell_type": "markdown",
   "metadata": {},
   "source": [
    "**Задание:**\n",
    "+ У нас есть класс Settings для хранения набора настроек, вида ключ - значение (название параметра настройки - значение параметра настройки)\n",
    "+ Ключи (названия параметра) обязательно должны быть строками\n",
    "+ Мы не хотим,чтобы объект Settings можно было изменять после создания (добавлять и удалять ключи)"
   ]
  },
  {
   "cell_type": "code",
   "execution_count": null,
   "metadata": {},
   "outputs": [],
   "source": [
    "class Settings:\n",
    "\n",
    "    def __init__(self, **kwargs):\n",
    "        self._data = dict(**kwargs) # от нестроковых ключей нас спасает kwargs\n",
    "\n",
    "    def get_property(self, key):\n",
    "        assert isinstance(key, str)\n",
    "        return self._data[key]"
   ]
  },
  {
   "cell_type": "code",
   "execution_count": null,
   "metadata": {},
   "outputs": [],
   "source": [
    "settings = Settings(setting1=1, setting2=2)"
   ]
  },
  {
   "cell_type": "code",
   "execution_count": null,
   "metadata": {},
   "outputs": [],
   "source": [
    "settings.get_property('setting1')"
   ]
  },
  {
   "cell_type": "markdown",
   "metadata": {},
   "source": [
    "+ Допустим нам пришла в голову здравая мысль, что мы хотим вместо вызова ```settings.get_property('key')``` использовать квадратные скобки как для dict - ```settings['key']``` \n",
    "+ Ну и раз уж нас класс становится похож на readonly-dict хотелось бы чтобы он умел делать то же, что и неизменяемые словари и использоваться как словарь\n",
    "+ Здесь нам поможет класс ```Mapping``` из ```collections.abc```, он покажет, какой должен быть интерфейс у нашего класса и что мы не забыли ни про какие нужные методы\n",
    "+ Модуль ```collections.abc``` содержит множество абстрактных классов для создания объектов-контейнеров различных типов (словарь, список, множество, итератор и т.д.), [документация](https://docs.python.org/3/library/collections.abc.html)"
   ]
  },
  {
   "cell_type": "code",
   "execution_count": null,
   "metadata": {},
   "outputs": [],
   "source": [
    "from collections.abc import Mapping"
   ]
  },
  {
   "cell_type": "code",
   "execution_count": null,
   "metadata": {},
   "outputs": [],
   "source": [
    "# давайте отнаследуемся от класса Mapping и посмотрим, каких методов нам не хватает\n",
    "class Settings(Mapping):\n",
    "    def __init__(self, **kwargs):\n",
    "        self._data = dict(**kwargs)"
   ]
  },
  {
   "cell_type": "markdown",
   "metadata": {},
   "source": [
    "Нужно сделать так, чтобы все, что написано ниже заработало:"
   ]
  },
  {
   "cell_type": "code",
   "execution_count": null,
   "metadata": {
    "scrolled": true
   },
   "outputs": [],
   "source": [
    "settings = Settings(setting1=1, setting2=2)\n",
    "\n",
    "print(settings['setting1']) # получение значения по ключу\n",
    "print(len(settings)) # длина словаря\n",
    "for setting in settings: # итерируемся по ключам\n",
    "    print(setting)"
   ]
  },
  {
   "cell_type": "code",
   "execution_count": null,
   "metadata": {},
   "outputs": [],
   "source": [
    "print('setting1' in settings) # проверка наличия элемента \n",
    "print('setting3' in settings)"
   ]
  },
  {
   "cell_type": "code",
   "execution_count": null,
   "metadata": {},
   "outputs": [],
   "source": [
    "print(settings.items())"
   ]
  },
  {
   "cell_type": "markdown",
   "metadata": {
    "id": "2GmPBwRGd2lC"
   },
   "source": [
    "## Статические методы и методы классов"
   ]
  },
  {
   "cell_type": "markdown",
   "metadata": {
    "id": "oFkgrUNfeBn_"
   },
   "source": [
    "### @classmethod"
   ]
  },
  {
   "cell_type": "markdown",
   "metadata": {
    "id": "vRmuLHeCvv0j"
   },
   "source": [
    "Кроме полей класса, объект класса также может иметь методы класса, в которых вместо ссылки на объект экзепляра (self), передается ссылка на объект класса (cls).     \n",
    "\n",
    "+ имеют доступ только к полям класса (но не к полям экземпляра)\n",
    "+ не требуют создания экземпляра \n",
    "+ не зависят от состояния объекта"
   ]
  },
  {
   "cell_type": "code",
   "execution_count": null,
   "metadata": {
    "id": "MW7irg1weMDA"
   },
   "outputs": [],
   "source": [
    "class Animal:\n",
    "   \n",
    "    fav_food = 'pizza' # атрибут класса \n",
    "    \n",
    "    \n",
    "    def __init__(self, name, legs, scariness):\n",
    "        self.name = name \n",
    "        self.legs = legs\n",
    "        self.scariness = scariness\n",
    "    \n",
    "    def introduce(self): \n",
    "        return \"Hello! My name is %s!\" % self.name\n",
    "    \n",
    "    \n",
    "    def sound(self):\n",
    "        return \"Sound!\"\n",
    "    \n",
    "    # нужно использовать декоратор classmethod\n",
    "    @classmethod\n",
    "    def favorite_food(cls): # cls вместо self\n",
    "        return \"My favorite food is %s!\" % cls.fav_food"
   ]
  },
  {
   "cell_type": "code",
   "execution_count": null,
   "metadata": {
    "id": "NB0x5bfcv-CR"
   },
   "outputs": [],
   "source": [
    "animal = Animal('Doggy', 4, 1)"
   ]
  },
  {
   "cell_type": "code",
   "execution_count": null,
   "metadata": {
    "id": "gWDNinv5wAgn"
   },
   "outputs": [],
   "source": [
    "animal.favorite_food() # из объекта экземпяра класса"
   ]
  },
  {
   "cell_type": "code",
   "execution_count": null,
   "metadata": {
    "id": "MyUVdf16wKnm"
   },
   "outputs": [],
   "source": [
    "Animal.favorite_food() # из объекта класса"
   ]
  },
  {
   "cell_type": "markdown",
   "metadata": {
    "id": "EBclN7WU7cEx"
   },
   "source": [
    "**Задание**: \n",
    "+ Решаем [эту задачу](https://stepik.org/lesson/361905/step/2?unit=346443) \n",
    "+ С помощью нее поймем, как создавать методы класса и как динамически менять атрибуты класса, и зачем это все может быть нужно (чтобы хранить состояние класса)\n",
    "+ Метод \\_\\_del\\_\\_ прописывать в данной задаче не нужно!\n",
    "+ Там можно отправлять на проверку код, не регистрируясь и не логинясь, по крайней мере у меня получалось \n"
   ]
  },
  {
   "cell_type": "markdown",
   "metadata": {
    "id": "_Qc1MXTHd9JT"
   },
   "source": [
    "### @staticmethod"
   ]
  },
  {
   "cell_type": "markdown",
   "metadata": {
    "id": "UGbE3zu5w_7j"
   },
   "source": [
    "+ не требуют создания экземпляра \n",
    "+ не зависят от состояния объекта\n",
    "+ нет доступа даже к полям класаа\n",
    "+ ничего не нужно знать про класс, пользуются только переданными аргументами\n",
    "+ не нужно передавать ссылку ни на объект экземпляра, ни на объект класса"
   ]
  },
  {
   "cell_type": "code",
   "execution_count": null,
   "metadata": {
    "id": "eCN8hoZowdcK"
   },
   "outputs": [],
   "source": [
    "class Animal:\n",
    "   \n",
    "    fav_food = 'pizza' # атрибут класса \n",
    "    \n",
    "    \n",
    "    def __init__(self, name, legs, scariness):\n",
    "        self.name = self.capitalize(name) \n",
    "        self.legs = legs\n",
    "        self.scariness = scariness\n",
    "    \n",
    "    def introduce(self): \n",
    "        return \"Hello! My name is %s!\" % self.name\n",
    "    \n",
    "    \n",
    "    def sound(self):\n",
    "        return \"Sound!\"\n",
    "    \n",
    "    # нужно использовать декоратор staticmethod\n",
    "    @staticmethod\n",
    "    def capitalize(name): # аргумент self/cls не нужен, т.к. мы не обращаемся ни к полям экземпляра, ни к полям класса\n",
    "        chars = list(name)\n",
    "        chars[0] = chars[0].upper()\n",
    "        return ''.join(chars)"
   ]
  },
  {
   "cell_type": "markdown",
   "metadata": {},
   "source": [
    "## Классы данных - dataclasses"
   ]
  },
  {
   "cell_type": "markdown",
   "metadata": {},
   "source": [
    "+ python 3.7+\n",
    "+ автоматизируют генерацию кода классов, использующихся для хранения данных\n",
    "+ без использования метклассов\n",
    "+ лучше использовать классы данных чем кортеж, словарь и т.д, удобнее получать доступ к атрибутам, код красивее, понятнее и проще для тестирования и отладки\n",
    "+ [документация](https://docs.python.org/3/library/dataclasses.html)"
   ]
  },
  {
   "cell_type": "code",
   "execution_count": null,
   "metadata": {},
   "outputs": [],
   "source": [
    "from dataclasses import dataclass"
   ]
  },
  {
   "cell_type": "code",
   "execution_count": null,
   "metadata": {},
   "outputs": [],
   "source": [
    "# создаем класс игральной карты\n",
    "\n",
    "@dataclass\n",
    "class Card:\n",
    "    rank: str\n",
    "    suit: str"
   ]
  },
  {
   "cell_type": "markdown",
   "metadata": {},
   "source": [
    "Допишет за нас по умолчанию:\n",
    "+ ***init*** с заданными нами аргументами\n",
    "+ красивый ***repr***\n",
    "+ ***eq*** (элементы равны, если равны значения всех атрибутов)"
   ]
  },
  {
   "cell_type": "code",
   "execution_count": null,
   "metadata": {},
   "outputs": [],
   "source": [
    "# init\n",
    "queen_of_hearts = Card(rank='Q', suit='heart')"
   ]
  },
  {
   "cell_type": "code",
   "execution_count": null,
   "metadata": {},
   "outputs": [],
   "source": [
    "# красивый repr\n",
    "queen_of_hearts"
   ]
  },
  {
   "cell_type": "code",
   "execution_count": null,
   "metadata": {},
   "outputs": [],
   "source": [
    "another_queen_of_hearts = Card(rank='Q', suit='heart')"
   ]
  },
  {
   "cell_type": "code",
   "execution_count": null,
   "metadata": {},
   "outputs": [],
   "source": [
    "# равенство\n",
    "another_queen_of_hearts == queen_of_hearts"
   ]
  },
  {
   "cell_type": "markdown",
   "metadata": {},
   "source": [
    "Без использования dataclass все то же самое выглядело бы вот так:"
   ]
  },
  {
   "cell_type": "code",
   "execution_count": null,
   "metadata": {},
   "outputs": [],
   "source": [
    "class RegularCard:\n",
    "    def __init__(self, rank, suit):\n",
    "        self.rank = rank\n",
    "        self.suit = suit\n",
    "\n",
    "    def __repr__(self):\n",
    "        return (f'{self.__class__.__name__}'\n",
    "                f'(rank={self.rank!r}, suit={self.suit!r})')\n",
    "\n",
    "    def __eq__(self, other):\n",
    "        if other.__class__ is not self.__class__:\n",
    "            return NotImplemented\n",
    "        return (self.rank, self.suit) == (other.rank, other.suit)"
   ]
  },
  {
   "cell_type": "markdown",
   "metadata": {},
   "source": [
    "Параметры с их значениями по умолчанию (подробнее можно почитать в документации):"
   ]
  },
  {
   "cell_type": "code",
   "execution_count": null,
   "metadata": {},
   "outputs": [],
   "source": [
    "@dataclass(init=True, # добавить init  \n",
    "           repr=True, # добавить repr\n",
    "           eq=True, # добавить eq\n",
    "           order=False, # добавить методы для сравнения и сортировки (__le__, __ge__ и т.д.)\n",
    "           unsafe_hash=False, # настройщик добавления метода __hash__\n",
    "           frozen=False) # сделать класс неизменяемым\n",
    "class Card:\n",
    "    rank: str\n",
    "    suit: str"
   ]
  },
  {
   "cell_type": "markdown",
   "metadata": {},
   "source": [
    "Order - по умолчанию объекты сравниваются как кортежи из всех их атрибутов:"
   ]
  },
  {
   "cell_type": "code",
   "execution_count": null,
   "metadata": {},
   "outputs": [],
   "source": [
    "@dataclass(order=True, frozen=True)\n",
    "class Card:\n",
    "    rank: str\n",
    "    suit: str"
   ]
  },
  {
   "cell_type": "code",
   "execution_count": null,
   "metadata": {},
   "outputs": [],
   "source": [
    "queen_hearts = Card('Q', 'hearts')\n",
    "queen_spades = Card('Q', 'spades')\n",
    "ten_hearts = Card('10', 'hearts')\n",
    "ten_spades = Card('10', 'spades')\n",
    "king_hearts = Card('K', 'hearts')\n",
    "king_spades = Card('K', 'spades')"
   ]
  },
  {
   "cell_type": "code",
   "execution_count": null,
   "metadata": {},
   "outputs": [],
   "source": [
    "queen_hearts.new_attr = 10"
   ]
  },
  {
   "cell_type": "markdown",
   "metadata": {},
   "source": [
    "Вот так работает в варианте по умолчанию, но для полноценного представления колоды карт придется переписать:"
   ]
  },
  {
   "cell_type": "code",
   "execution_count": null,
   "metadata": {},
   "outputs": [],
   "source": [
    "queen_hearts > ten_spades"
   ]
  },
  {
   "cell_type": "code",
   "execution_count": null,
   "metadata": {},
   "outputs": [],
   "source": [
    "queen_spades > ten_hearts"
   ]
  },
  {
   "cell_type": "code",
   "execution_count": null,
   "metadata": {},
   "outputs": [],
   "source": [
    "queen_spades < king_spades # неправильно"
   ]
  },
  {
   "cell_type": "code",
   "execution_count": null,
   "metadata": {},
   "outputs": [],
   "source": [
    "for card in sorted([queen_hearts, queen_spades, ten_hearts, ten_spades, \n",
    "                    king_hearts, king_spades]):\n",
    "    print(card)"
   ]
  },
  {
   "cell_type": "markdown",
   "metadata": {},
   "source": [
    "Также легко добавить \n",
    "+ значение атрибута по умолчанию\n",
    "+ атрибуты класса"
   ]
  },
  {
   "cell_type": "code",
   "execution_count": null,
   "metadata": {},
   "outputs": [],
   "source": [
    "from typing import ClassVar\n",
    "\n",
    "@dataclass\n",
    "class Animal:\n",
    "    fav_food: ClassVar = 'pizza' # переменная класса\n",
    "        \n",
    "    name: str\n",
    "    # значения по умолчанию\n",
    "    species: str = 'unknown'\n",
    "    scariness: int = 0 \n",
    "    legs: int = 4\n",
    "    "
   ]
  },
  {
   "cell_type": "code",
   "execution_count": null,
   "metadata": {},
   "outputs": [],
   "source": [
    "cat = Animal('Kitty','Cat')"
   ]
  },
  {
   "cell_type": "code",
   "execution_count": null,
   "metadata": {},
   "outputs": [],
   "source": [
    "cat.legs"
   ]
  },
  {
   "cell_type": "code",
   "execution_count": null,
   "metadata": {},
   "outputs": [],
   "source": [
    "Animal.fav_food"
   ]
  },
  {
   "cell_type": "markdown",
   "metadata": {},
   "source": [
    "**Задание:**\n",
    "   + сделать рабочий датакласс карт, чтобы можно было играть в пьяницу например\n",
    "   + нормальное сравнение карт\n",
    "   + карты разной масти, но одинакового достоинства равны\n",
    "   + порядок возможных номиналов по возрастанию: ['6', '7', '8', '9', '10', 'J', 'Q', 'K', 'A']\n",
    "   + класс должен быть неизменяемым"
   ]
  },
  {
   "cell_type": "code",
   "execution_count": null,
   "metadata": {},
   "outputs": [],
   "source": [
    "@dataclass\n",
    "class Card:\n",
    "    pass"
   ]
  },
  {
   "cell_type": "code",
   "execution_count": null,
   "metadata": {},
   "outputs": [],
   "source": [
    "ranks = ['6', '7', '8', '9', '10', 'J', 'Q', 'K', 'A']\n",
    "suits = ['hearts', 'diamonds', 'spades', 'clubs']\n",
    "deck = []\n",
    "\n",
    "for suit in suits:\n",
    "    for rank in ranks:\n",
    "        deck.append(Card(rank=rank,suit=suit))"
   ]
  },
  {
   "cell_type": "code",
   "execution_count": null,
   "metadata": {},
   "outputs": [],
   "source": [
    "deck"
   ]
  },
  {
   "cell_type": "code",
   "execution_count": null,
   "metadata": {},
   "outputs": [],
   "source": [
    "sorted(deck)"
   ]
  },
  {
   "cell_type": "code",
   "execution_count": null,
   "metadata": {},
   "outputs": [],
   "source": []
  }
 ],
 "metadata": {
  "colab": {
   "name": "18.ipynb",
   "provenance": []
  },
  "kernelspec": {
   "display_name": "Python 3",
   "language": "python",
   "name": "python3"
  },
  "language_info": {
   "codemirror_mode": {
    "name": "ipython",
    "version": 3
   },
   "file_extension": ".py",
   "mimetype": "text/x-python",
   "name": "python",
   "nbconvert_exporter": "python",
   "pygments_lexer": "ipython3",
   "version": "3.7.4"
  }
 },
 "nbformat": 4,
 "nbformat_minor": 1
}
