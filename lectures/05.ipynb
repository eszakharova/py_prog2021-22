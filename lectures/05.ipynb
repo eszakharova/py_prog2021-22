{
 "cells": [
  {
   "cell_type": "markdown",
   "metadata": {
    "id": "VD8ZEW7c6EbU"
   },
   "source": [
    "# Продолжение в ООП"
   ]
  },
  {
   "cell_type": "markdown",
   "metadata": {
    "id": "M6w6IwJC6Iag"
   },
   "source": [
    "## Diamond Inheritance"
   ]
  },
  {
   "cell_type": "markdown",
   "metadata": {
    "id": "rk3NKfLDcfLj"
   },
   "source": [
    "![](https://images1.programmersought.com/131/dd/dd1ae4a8ace8d6e298212bb82087bdd3.png)"
   ]
  },
  {
   "cell_type": "code",
   "execution_count": null,
   "metadata": {
    "id": "tVO74R1f6z7z"
   },
   "outputs": [],
   "source": [
    "class A:\n",
    "    def hi(self):\n",
    "        print(\"A\")\n",
    "        \n",
    "class B(A):\n",
    "    pass\n",
    "\n",
    "class C(A):\n",
    "    def hi(self):\n",
    "        print(\"C\")\n",
    "        \n",
    "class D(B, C):\n",
    "    pass\n",
    " "
   ]
  },
  {
   "cell_type": "code",
   "execution_count": null,
   "metadata": {
    "colab": {
     "base_uri": "https://localhost:8080/"
    },
    "id": "EuvqSsdaSTlQ",
    "outputId": "07d4d1d9-2152-4b17-db4a-e2bbe6b4a668"
   },
   "outputs": [],
   "source": [
    "# что выведет код? почему? всегда ли так будет?\n",
    "d = D()\n",
    "d.hi()"
   ]
  },
  {
   "cell_type": "markdown",
   "metadata": {
    "id": "6kLxWCiucoMk"
   },
   "source": [
    "Порядок разрешения методов можно посмотреть с помощью метода ***mro()*** или в атрибуте ***\\_\\_mro\\_\\_***"
   ]
  },
  {
   "cell_type": "code",
   "execution_count": null,
   "metadata": {
    "colab": {
     "base_uri": "https://localhost:8080/"
    },
    "id": "LPo_nrliVk4l",
    "outputId": "7c43b8a2-5a1a-4dad-a26c-c5befa1765b0"
   },
   "outputs": [],
   "source": [
    "D.__mro__"
   ]
  },
  {
   "cell_type": "code",
   "execution_count": null,
   "metadata": {
    "colab": {
     "base_uri": "https://localhost:8080/"
    },
    "id": "JSaF274XrAt3",
    "outputId": "fad48750-df59-4867-c31f-53abc899a5c9"
   },
   "outputs": [],
   "source": [
    "D.mro()"
   ]
  },
  {
   "cell_type": "markdown",
   "metadata": {
    "id": "7Yl_Y4DuCRWZ"
   },
   "source": [
    "### Спойлеры"
   ]
  },
  {
   "cell_type": "markdown",
   "metadata": {
    "id": "JHtxiIrmeftv"
   },
   "source": [
    "+ **Python 3** - при разрешении методов использует поиск в ширину (смотрит сначала во всех родительских классах по порядку, потом в родителях родителей и т.д.)\n",
    "+ **Python 2** - поиск в глубину (смотрит в первом родительском классе, потом в его родительском классе и т.д.)"
   ]
  },
  {
   "cell_type": "markdown",
   "metadata": {
    "id": "aRQzc_qWfHNe"
   },
   "source": [
    "## Подробнее про super()"
   ]
  },
  {
   "cell_type": "markdown",
   "metadata": {
    "id": "LB8dq8QlEH7a"
   },
   "source": [
    "***super()*** - returns a proxy object that delegates method calls to a parent or sibling class. "
   ]
  },
  {
   "cell_type": "markdown",
   "metadata": {
    "id": "xrDIR0lcEt38"
   },
   "source": [
    "При одиночном наследовании - сослаться на родительский объект, не называя его эксплицитно. "
   ]
  },
  {
   "cell_type": "code",
   "execution_count": null,
   "metadata": {
    "id": "TWOe9X9OEs_e"
   },
   "outputs": [],
   "source": [
    "class Animal:\n",
    "   \n",
    "    fav_food = 'pizza' # атрибут класса \n",
    "    \n",
    "    def __init__(self, name, legs, scariness):\n",
    "        self.name = name \n",
    "        self.legs = legs\n",
    "        self.scariness = scariness\n",
    "    \n",
    "    def introduce(self): \n",
    "        print(\"Hello! My name is %s!\" % self.name)\n",
    "    \n",
    "    \n",
    "    def sound(self):\n",
    "        print(\"Sound!\")\n",
    "\n",
    "class Mammal(Animal): # имя родительского класса пишется в скобках \n",
    "    \n",
    "    def __init__(self, name, scariness): \n",
    "        # обращаемся к классу-родителю с помощью super() и вызываем его метод __init__\n",
    "        super().__init__(name=name, legs=4, scariness=scariness) # пусть у всех млекопитающих должно быть 4 ноги"
   ]
  },
  {
   "cell_type": "markdown",
   "metadata": {
    "id": "plKP32lDE-GC"
   },
   "source": [
    "При множественном наследовании все интереснее:"
   ]
  },
  {
   "cell_type": "code",
   "execution_count": null,
   "metadata": {
    "colab": {
     "base_uri": "https://localhost:8080/"
    },
    "id": "k6eh7KxYO8em",
    "outputId": "a7aa76b6-3c32-418a-d668-9398034e357a"
   },
   "outputs": [],
   "source": [
    "class A:\n",
    "    def __init__(self):\n",
    "        print('A')\n",
    "\n",
    "class B(A):\n",
    "    def __init__(self):\n",
    "        print('B')\n",
    "\n",
    "class C(A):\n",
    "    def __init__(self):\n",
    "        print('C')\n",
    "\n",
    "class D(B, C):\n",
    "    pass\n",
    "\n",
    "d = D() # вызывается метод из B"
   ]
  },
  {
   "cell_type": "markdown",
   "metadata": {
    "id": "py5snX-9PppN"
   },
   "source": [
    "Если нам нужно, чтобы были вызваны методы обоих родительских классов:"
   ]
  },
  {
   "cell_type": "code",
   "execution_count": null,
   "metadata": {
    "colab": {
     "base_uri": "https://localhost:8080/"
    },
    "id": "j9dSN0yDPeeo",
    "outputId": "2b69deb0-9f67-4fd8-f474-2bba1de52832"
   },
   "outputs": [],
   "source": [
    "class A:\n",
    "    def __init__(self):\n",
    "        print('A')\n",
    "\n",
    "class B(A):\n",
    "    def __init__(self):\n",
    "        print('B')\n",
    "\n",
    "class C(A):\n",
    "    def __init__(self):\n",
    "        print('C')\n",
    "\n",
    "class D(B, C):\n",
    "    def __init__(self):\n",
    "        B.__init__(B)\n",
    "        C.__init__(C)\n",
    "        print('D')\n",
    "\n",
    "d = D() # вызываются методы из B и C"
   ]
  },
  {
   "cell_type": "code",
   "execution_count": null,
   "metadata": {
    "colab": {
     "base_uri": "https://localhost:8080/"
    },
    "id": "pHaAMBCOQjij",
    "outputId": "3b8e7860-b7b5-45d9-9122-98d13f760e06"
   },
   "outputs": [],
   "source": [
    "class A:\n",
    "    def __init__(self):\n",
    "        print('A')\n",
    "\n",
    "class B(A):\n",
    "    def __init__(self):\n",
    "        super().__init__() # идет в сестринский класс C и на этом останавливается!\n",
    "        print('B')\n",
    "\n",
    "class C(A):\n",
    "    def __init__(self):\n",
    "        print('C')\n",
    "\n",
    "class D(B, C):\n",
    "    def __init__(self):\n",
    "        super().__init__() # идет в первый родительский класс B\n",
    "        print('D')\n",
    "\n",
    "d = D() # вызываются методы из B и C"
   ]
  },
  {
   "cell_type": "code",
   "execution_count": null,
   "metadata": {
    "colab": {
     "base_uri": "https://localhost:8080/"
    },
    "id": "oUhSvXf0kcHy",
    "outputId": "211055c6-80dc-44df-dad4-52b23bc0df0d"
   },
   "outputs": [],
   "source": [
    "# порядок разрешения методов\n",
    "# почему печатается сначала C потом B\n",
    "D.__mro__"
   ]
  },
  {
   "cell_type": "markdown",
   "metadata": {
    "id": "ic2kZSdTRIss"
   },
   "source": [
    "Если мы хотим, чтобы при инициализации объекта каждого из классов вызывались все методы родительских классов по одному разу:"
   ]
  },
  {
   "cell_type": "code",
   "execution_count": null,
   "metadata": {
    "colab": {
     "base_uri": "https://localhost:8080/"
    },
    "id": "25eCZr8TRHHC",
    "outputId": "fad021f5-9505-45f1-ea83-60364945e6b0"
   },
   "outputs": [],
   "source": [
    "class A:\n",
    "    def __init__(self):\n",
    "        print('A')\n",
    "\n",
    "class B(A):\n",
    "    def __init__(self):\n",
    "        A.__init__(A)\n",
    "        print('B')\n",
    "\n",
    "class C(A):\n",
    "    def __init__(self):\n",
    "        A.__init__(A)\n",
    "        print('C')\n",
    "\n",
    "class D(B, C):\n",
    "    def __init__(self):\n",
    "        B.__init__(B)\n",
    "        C.__init__(C)\n",
    "        print('D')\n",
    "\n",
    "a = A()\n",
    "print('')\n",
    "b = B()\n",
    "print('')\n",
    "c = C()\n",
    "print('')\n",
    "d = D() # работает, но метод из A вызывается 2 раза"
   ]
  },
  {
   "cell_type": "code",
   "execution_count": null,
   "metadata": {
    "colab": {
     "base_uri": "https://localhost:8080/"
    },
    "id": "XeokolAXSAft",
    "outputId": "b4de69fd-0c4d-48f3-dc59-5a66a79936f9"
   },
   "outputs": [],
   "source": [
    "class A:\n",
    "    def __init__(self):\n",
    "        print('A')\n",
    "\n",
    "class B(A):\n",
    "    def __init__(self):\n",
    "        super().__init__() # идет в сестринский класс C\n",
    "        print('B')\n",
    "\n",
    "class C(A):\n",
    "    def __init__(self):\n",
    "        super().__init__() #идет в родительский класс A\n",
    "        print('C')\n",
    "\n",
    "class D(B, C):\n",
    "    def __init__(self):\n",
    "        super().__init__() # идет в первый родительский класс В\n",
    "        print('D')\n",
    "\n",
    "a = A()\n",
    "print('')\n",
    "b = B()\n",
    "print('')\n",
    "c = C()\n",
    "print('')\n",
    "d = D()"
   ]
  },
  {
   "cell_type": "code",
   "execution_count": null,
   "metadata": {
    "colab": {
     "base_uri": "https://localhost:8080/"
    },
    "id": "HgQIY2RvEHND",
    "outputId": "975d83b0-1b8f-4696-a4aa-6b5cd8342f10"
   },
   "outputs": [],
   "source": [
    "class Animal:\n",
    "    def __init__(self, name):\n",
    "        print(name, 'is an animal.')\n",
    "\n",
    "class Mammal(Animal):\n",
    "    def __init__(self, name):\n",
    "        print(name, 'is a warm-blooded animal.')\n",
    "    \n",
    "class NonWingedMammal(Mammal):\n",
    "    def __init__(self, name):\n",
    "        print(name, \"can't fly.\")\n",
    "\n",
    "class NonMarineMammal(Mammal):\n",
    "    def __init__(self, name):\n",
    "        print(name, \"can't swim.\")\n",
    "\n",
    "class Dog(NonMarineMammal, NonWingedMammal):\n",
    "    def __init__(self):\n",
    "        print('Dog can bark!')\n",
    "    \n",
    "d = Dog()\n",
    "print('')\n",
    "bat = NonMarineMammal('Bat')"
   ]
  },
  {
   "cell_type": "markdown",
   "metadata": {
    "id": "tVuOVX7ILGm7"
   },
   "source": [
    "**Задание:** сделать так, чтобы при создании экземпляра класса выводились сообщения от самого класса и всех его родителей по одному разу в порядке от низа иерархии наследования до верха (сообщение от Animal должно быть напечатано последним)."
   ]
  },
  {
   "cell_type": "markdown",
   "metadata": {
    "id": "rMyLhvWhVl0N"
   },
   "source": [
    "## @property"
   ]
  },
  {
   "cell_type": "code",
   "execution_count": null,
   "metadata": {
    "id": "Ebvq-Vx1gCGV"
   },
   "outputs": [],
   "source": [
    "class Animal:  \n",
    "    def __init__(self, name, legs, scariness):\n",
    "        self.name = name\n",
    "        self.legs = legs\n",
    "        self.scariness = scariness\n",
    "        self.long_name = '%s-legged %s' % (str(self.legs), self.name)"
   ]
  },
  {
   "cell_type": "code",
   "execution_count": null,
   "metadata": {
    "id": "jwmeUMsIEGDj"
   },
   "outputs": [],
   "source": [
    "animal = Animal('Doggy', 4, 2)"
   ]
  },
  {
   "cell_type": "code",
   "execution_count": null,
   "metadata": {
    "colab": {
     "base_uri": "https://localhost:8080/",
     "height": 35
    },
    "id": "YOJkc36ZEG0A",
    "outputId": "cf730922-34c5-4ac7-ad8d-99891cdf20cb"
   },
   "outputs": [],
   "source": [
    "animal.long_name"
   ]
  },
  {
   "cell_type": "code",
   "execution_count": null,
   "metadata": {
    "id": "sCYkInYZGHJR"
   },
   "outputs": [],
   "source": [
    "animal.name = 'Spidy'\n",
    "animal.legs = 8"
   ]
  },
  {
   "cell_type": "code",
   "execution_count": null,
   "metadata": {
    "colab": {
     "base_uri": "https://localhost:8080/",
     "height": 35
    },
    "id": "_SVQE-iyGHWH",
    "outputId": "a57f4591-f07f-4730-e22f-e390b9d8fbdd"
   },
   "outputs": [],
   "source": [
    "animal.long_name # имя и количество ног в атрибуте long_name не изменились!"
   ]
  },
  {
   "cell_type": "code",
   "execution_count": null,
   "metadata": {
    "id": "DRoWXExfGPIq"
   },
   "outputs": [],
   "source": [
    "class Animal:  \n",
    "    def __init__(self, name, legs, scariness):\n",
    "        self.name = name\n",
    "        self.legs = legs\n",
    "        self.scariness = scariness\n",
    "        \n",
    "    @property # пишем функцию с декоратором property, которая вернет нужное нам значение атрибута\n",
    "    def long_name(self):\n",
    "        return '%s-legged %s' % (str(self.legs), self.name)"
   ]
  },
  {
   "cell_type": "code",
   "execution_count": null,
   "metadata": {
    "colab": {
     "base_uri": "https://localhost:8080/",
     "height": 35
    },
    "id": "U6fcbgDjGPRI",
    "outputId": "3ef19af6-9456-47da-e088-677fd43859de"
   },
   "outputs": [],
   "source": [
    "animal = Animal(name='Doggy', legs=4, scariness=11)\n",
    "animal.long_name"
   ]
  },
  {
   "cell_type": "code",
   "execution_count": null,
   "metadata": {
    "id": "dpFGJDmHGT0K"
   },
   "outputs": [],
   "source": [
    "animal.name = 'Spidy'\n",
    "animal.legs = 8"
   ]
  },
  {
   "cell_type": "code",
   "execution_count": null,
   "metadata": {
    "colab": {
     "base_uri": "https://localhost:8080/",
     "height": 35
    },
    "id": "t5sPTOe8GZUu",
    "outputId": "8280df58-8813-404d-c58c-690f11ef8d20"
   },
   "outputs": [],
   "source": [
    "animal.long_name # имя и количество ног изменились!"
   ]
  },
  {
   "cell_type": "markdown",
   "metadata": {
    "id": "r2imS03-GvzQ"
   },
   "source": [
    "А как менять атрибут long_name?"
   ]
  },
  {
   "cell_type": "code",
   "execution_count": null,
   "metadata": {
    "colab": {
     "base_uri": "https://localhost:8080/",
     "height": 166
    },
    "id": "B93f5eap8ktT",
    "outputId": "28c469ab-514c-414c-a38a-a51013fd8840"
   },
   "outputs": [],
   "source": [
    "animal.long_name = '4-legged Doggy' #  просто так это сделать не получится"
   ]
  },
  {
   "cell_type": "code",
   "execution_count": null,
   "metadata": {
    "id": "uJD1g5SCGxIb"
   },
   "outputs": [],
   "source": [
    "class Animal:  \n",
    "    def __init__(self, name, legs, scariness):\n",
    "        self.name = name\n",
    "        self.legs = legs\n",
    "        self.scariness = scariness\n",
    "        \n",
    "    @property \n",
    "    def long_name(self):\n",
    "        return '%s-legged %s' % (str(self.legs), self.name)\n",
    "    \n",
    "    # название функции и декоратора должно совпадать с названием атрибута\n",
    "    @long_name.setter\n",
    "    def long_name(self, text):\n",
    "        words = text.split()\n",
    "        self.legs = int(words[0].replace('-legged', ''))\n",
    "        self.name = ' '.join(words[1:])"
   ]
  },
  {
   "cell_type": "code",
   "execution_count": null,
   "metadata": {
    "colab": {
     "base_uri": "https://localhost:8080/",
     "height": 35
    },
    "id": "Ls59hveZG0Kd",
    "outputId": "2da4bf08-54c7-4ae2-ba0a-c45df0fef60c"
   },
   "outputs": [],
   "source": [
    "animal = Animal(name='Doggy', legs=4, scariness=11)\n",
    "animal.long_name"
   ]
  },
  {
   "cell_type": "code",
   "execution_count": null,
   "metadata": {
    "id": "USPRco6lG2uF"
   },
   "outputs": [],
   "source": [
    "animal.long_name = '8-legged Spidy'"
   ]
  },
  {
   "cell_type": "code",
   "execution_count": null,
   "metadata": {
    "colab": {
     "base_uri": "https://localhost:8080/",
     "height": 35
    },
    "id": "bRCGoEDzG5FT",
    "outputId": "2fa118e9-6e5b-4d74-dc77-0f0d589eb36f"
   },
   "outputs": [],
   "source": [
    "animal.name"
   ]
  },
  {
   "cell_type": "code",
   "execution_count": null,
   "metadata": {
    "colab": {
     "base_uri": "https://localhost:8080/"
    },
    "id": "1cKmsQZBG8iy",
    "outputId": "1f5eecfd-579a-43ff-8f37-5d414511d8b9"
   },
   "outputs": [],
   "source": [
    "animal.legs"
   ]
  },
  {
   "cell_type": "markdown",
   "metadata": {},
   "source": [
    "С помощью приватных атрибутов и @property удобно защищать атрибуты от перезаписи:"
   ]
  },
  {
   "cell_type": "code",
   "execution_count": null,
   "metadata": {},
   "outputs": [],
   "source": [
    "class Animal:  \n",
    "    def __init__(self, name, legs, scariness):\n",
    "        self.name = name\n",
    "        self.__legs = legs # делаем атрибут приватным\n",
    "        self.scariness = scariness\n",
    "        \n",
    "        \n",
    "    @property\n",
    "    def legs(self):\n",
    "        return self.__legs"
   ]
  },
  {
   "cell_type": "code",
   "execution_count": null,
   "metadata": {},
   "outputs": [],
   "source": [
    "animal = Animal(name='Doggy', legs=4, scariness=11)"
   ]
  },
  {
   "cell_type": "code",
   "execution_count": null,
   "metadata": {},
   "outputs": [],
   "source": [
    "animal.legs = 8.5"
   ]
  },
  {
   "cell_type": "markdown",
   "metadata": {},
   "source": [
    "А с помощью setter контролировать, что в них записывается:"
   ]
  },
  {
   "cell_type": "code",
   "execution_count": null,
   "metadata": {},
   "outputs": [],
   "source": [
    "class Animal:  \n",
    "    def __init__(self, name, legs, scariness):\n",
    "        self.name = name\n",
    "        self.__legs = legs # делаем атрибут приватным\n",
    "        self.scariness = scariness\n",
    "        \n",
    "        \n",
    "    @property\n",
    "    def legs(self):\n",
    "        return self.__legs\n",
    "    \n",
    "    @legs.setter\n",
    "    def legs(self, num):\n",
    "        # пусть может быть только целое положительное число ног\n",
    "        if int(num) != num:\n",
    "            raise ValueError(f\"{num} is not integer\")\n",
    "            \n",
    "        if num <= 0:\n",
    "            raise ValueError(f\"{num} is not positive\")\n",
    "            \n",
    "        self.__legs = num"
   ]
  },
  {
   "cell_type": "code",
   "execution_count": null,
   "metadata": {},
   "outputs": [],
   "source": [
    "animal = Animal(name='Monster', legs=4, scariness=1111)"
   ]
  },
  {
   "cell_type": "code",
   "execution_count": null,
   "metadata": {},
   "outputs": [],
   "source": [
    "animal.legs = 8.5"
   ]
  },
  {
   "cell_type": "code",
   "execution_count": null,
   "metadata": {
    "scrolled": true
   },
   "outputs": [],
   "source": [
    "animal.legs = -5"
   ]
  },
  {
   "cell_type": "code",
   "execution_count": null,
   "metadata": {},
   "outputs": [],
   "source": [
    "animal.legs = 1000"
   ]
  },
  {
   "cell_type": "code",
   "execution_count": null,
   "metadata": {},
   "outputs": [],
   "source": [
    "animal.legs"
   ]
  },
  {
   "cell_type": "markdown",
   "metadata": {},
   "source": [
    "### \\_\\_slots__"
   ]
  },
  {
   "cell_type": "markdown",
   "metadata": {},
   "source": [
    "+ эксплицитно задаем ожидаемые атрибуты, делаем структуру неизменяемой\n",
    "+ ускоряет доступ к атрибутам, уменьшает потребление RAM\n",
    "+ нет доступа к \\__dict__, нельзя задать новые атрибуты"
   ]
  },
  {
   "cell_type": "markdown",
   "metadata": {},
   "source": [
    "Подробнее в документации https://docs.python.org/3/reference/datamodel.html#slots"
   ]
  },
  {
   "cell_type": "code",
   "execution_count": null,
   "metadata": {},
   "outputs": [],
   "source": [
    "# у экземпляра могут быть только атрибуты из slots и методы перечисленные в классе, плюс все унаследованные\n",
    "class Animal:\n",
    "    __slots__ = 'name', '__legs', 'scariness'\n",
    "    \n",
    "    def __init__(self, name, legs, scariness):\n",
    "        self.name = name\n",
    "        self.__legs = legs # делаем атрибут приватным\n",
    "        self.scariness = scariness\n",
    "        \n",
    "        \n",
    "    @property\n",
    "    def legs(self):\n",
    "        return self.__legs\n",
    "    \n",
    "    def sound(self):\n",
    "        return 'Sound!'"
   ]
  },
  {
   "cell_type": "code",
   "execution_count": null,
   "metadata": {},
   "outputs": [],
   "source": [
    "animal = Animal(name='Monster', legs=4, scariness=1111)"
   ]
  },
  {
   "cell_type": "code",
   "execution_count": null,
   "metadata": {},
   "outputs": [],
   "source": [
    "animal.legs"
   ]
  },
  {
   "cell_type": "code",
   "execution_count": null,
   "metadata": {},
   "outputs": [],
   "source": [
    "animal.sound()"
   ]
  },
  {
   "cell_type": "code",
   "execution_count": null,
   "metadata": {
    "scrolled": false
   },
   "outputs": [],
   "source": [
    "animal.new_attr = 10"
   ]
  },
  {
   "cell_type": "code",
   "execution_count": null,
   "metadata": {},
   "outputs": [],
   "source": [
    "dir(Animal)"
   ]
  },
  {
   "cell_type": "code",
   "execution_count": 51,
   "metadata": {},
   "outputs": [
    {
     "ename": "AttributeError",
     "evalue": "'Animal' object has no attribute '__bool__'",
     "output_type": "error",
     "traceback": [
      "\u001b[0;31m---------------------------------------------------------------------------\u001b[0m",
      "\u001b[0;31mAttributeError\u001b[0m                            Traceback (most recent call last)",
      "\u001b[0;32m<ipython-input-51-22b5c8e488e9>\u001b[0m in \u001b[0;36m<module>\u001b[0;34m\u001b[0m\n\u001b[0;32m----> 1\u001b[0;31m \u001b[0manimal\u001b[0m\u001b[0;34m.\u001b[0m\u001b[0m__bool__\u001b[0m\u001b[0;34m\u001b[0m\u001b[0;34m\u001b[0m\u001b[0m\n\u001b[0m",
      "\u001b[0;31mAttributeError\u001b[0m: 'Animal' object has no attribute '__bool__'"
     ]
    }
   ],
   "source": [
    "animal.__bool__"
   ]
  },
  {
   "cell_type": "code",
   "execution_count": null,
   "metadata": {},
   "outputs": [],
   "source": [
    "class Mammal(Animal):\n",
    "    # slots если задан, то еще подцепляется из родительского класса,\n",
    "    # заново перечислять name', '__legs', 'scariness' не надо\n",
    "    # а если не задан?\n",
    "    # а если не задан у родителя?\n",
    "    __slots__ = ('is_mammal',)\n",
    "    \n",
    "    def __init__(self, name, scariness):\n",
    "        self.is_mammal = True\n",
    "        super().__init__(name, 4, scariness)"
   ]
  },
  {
   "cell_type": "code",
   "execution_count": 60,
   "metadata": {},
   "outputs": [
    {
     "data": {
      "text/plain": [
       "(object,)"
      ]
     },
     "execution_count": 60,
     "metadata": {},
     "output_type": "execute_result"
    }
   ],
   "source": [
    "Animal.__bases__"
   ]
  },
  {
   "cell_type": "code",
   "execution_count": null,
   "metadata": {},
   "outputs": [],
   "source": [
    "cat = Mammal('Cat', 10)"
   ]
  },
  {
   "cell_type": "code",
   "execution_count": null,
   "metadata": {},
   "outputs": [],
   "source": [
    "cat.legs"
   ]
  },
  {
   "cell_type": "code",
   "execution_count": null,
   "metadata": {},
   "outputs": [],
   "source": [
    "cat.scariness"
   ]
  },
  {
   "cell_type": "code",
   "execution_count": null,
   "metadata": {},
   "outputs": [],
   "source": [
    "cat.is_mammal"
   ]
  },
  {
   "cell_type": "code",
   "execution_count": null,
   "metadata": {},
   "outputs": [],
   "source": [
    "cat.new_attr = True"
   ]
  },
  {
   "cell_type": "code",
   "execution_count": null,
   "metadata": {},
   "outputs": [],
   "source": [
    "dir(cat)"
   ]
  },
  {
   "cell_type": "code",
   "execution_count": 144,
   "metadata": {},
   "outputs": [
    {
     "data": {
      "text/plain": [
       "True"
      ]
     },
     "execution_count": 144,
     "metadata": {},
     "output_type": "execute_result"
    }
   ],
   "source": [
    "cat.new_attr"
   ]
  },
  {
   "cell_type": "markdown",
   "metadata": {
    "id": "lV_CRqsZ8y5o"
   },
   "source": [
    "**Задание**\n",
    "+ Написать класс Sentence, конструктор получает на вход предложение \n",
    "+ Токенизация на ваш вкус\n",
    "+ У класса должен быть атрибуты \n",
    "     * text - текст предложения, обязательно строка, иначе TypeError\n",
    "     * words - список токенов, обязательно list строк, иначе TypeError    \n",
    "     \n",
    "\n",
    "При изменении одного из них, другой должен изменяться соответственно. Должно быть нельзя создать другие атрибуты. \n",
    "Должно быть нельзя менять токены по отдельности: ```st.words[0] = 'a'```"
   ]
  },
  {
   "cell_type": "code",
   "execution_count": null,
   "metadata": {},
   "outputs": [],
   "source": [
    "st = Sentence('Мама, папа и Вася мыли сине-зеленую раму!!!')\n",
    "st.words\n",
    "# ['Мама,', 'папа', 'и', 'Вася', 'мыли', 'сине-зеленую', 'раму!!!']"
   ]
  },
  {
   "cell_type": "code",
   "execution_count": null,
   "metadata": {},
   "outputs": [],
   "source": [
    "st.text = 12345\n",
    "# TypeError"
   ]
  },
  {
   "cell_type": "code",
   "execution_count": null,
   "metadata": {},
   "outputs": [],
   "source": [
    "st.text = 'Кошка спит'\n",
    "st.words\n",
    "# ['Кошка', 'спит']"
   ]
  },
  {
   "cell_type": "code",
   "execution_count": null,
   "metadata": {},
   "outputs": [],
   "source": [
    "st.words = ['Котик', 'спит']\n",
    "st.text\n",
    "# 'Котик спит'"
   ]
  },
  {
   "cell_type": "code",
   "execution_count": null,
   "metadata": {},
   "outputs": [],
   "source": [
    "st.new_attr = 10\n",
    "# AttributeError: 'Sentence' object has no attribute 'new_attr'"
   ]
  }
 ],
 "metadata": {
  "colab": {
   "name": "12.ipynb",
   "provenance": []
  },
  "kernelspec": {
   "display_name": "Python 3",
   "language": "python",
   "name": "python3"
  },
  "language_info": {
   "codemirror_mode": {
    "name": "ipython",
    "version": 3
   },
   "file_extension": ".py",
   "mimetype": "text/x-python",
   "name": "python",
   "nbconvert_exporter": "python",
   "pygments_lexer": "ipython3",
   "version": "3.7.4"
  }
 },
 "nbformat": 4,
 "nbformat_minor": 1
}
