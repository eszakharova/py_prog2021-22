{
 "cells": [
  {
   "cell_type": "markdown",
   "id": "a3126865",
   "metadata": {},
   "source": [
    "# Метаклассы, наследование, абстрактные классы"
   ]
  },
  {
   "cell_type": "markdown",
   "id": "9214d27f",
   "metadata": {},
   "source": [
    "## Metaclass vs class vs instance"
   ]
  },
  {
   "cell_type": "markdown",
   "id": "89310017",
   "metadata": {},
   "source": [
    "![](https://python.astrotech.io/_images/oop-metaclass-inheritance.png)"
   ]
  },
  {
   "cell_type": "code",
   "execution_count": 117,
   "id": "1b0d1af1",
   "metadata": {},
   "outputs": [
    {
     "data": {
      "text/plain": [
       "type"
      ]
     },
     "execution_count": 117,
     "metadata": {},
     "output_type": "execute_result"
    }
   ],
   "source": [
    "type(type)"
   ]
  },
  {
   "cell_type": "markdown",
   "id": "6eecb5a9",
   "metadata": {},
   "source": [
    "## Instance vs Inheritance"
   ]
  },
  {
   "cell_type": "markdown",
   "id": "f815a8f2",
   "metadata": {},
   "source": [
    "![](https://drive.google.com/uc?export=view&id=1E71wN2w20hZRGfocaaeguwDUd_TJpi7G)"
   ]
  },
  {
   "cell_type": "markdown",
   "id": "d2ebe094",
   "metadata": {},
   "source": [
    "**Абстрактный класс**  \n",
    "   + НАСЛЕДОВАНИЕ\n",
    "   + НЕЛЬЗЯ создать экземпляр\n",
    "   + хотя бы один абстрактный метод (@abstactmethod)\n",
    "   + наследуется от ABC\n",
    "   + нужен для описания интерфейса дочерних классов\n"
   ]
  },
  {
   "cell_type": "markdown",
   "id": "be761e84",
   "metadata": {},
   "source": [
    "**Метакласс**\n",
    "   + СОЗДАНИЕ ЭКЗЕМПЛЯРА\n",
    "   + вот тут нужно обязательно осознать разницу между **объектом класса** и **объектом экземпляра класса**\n",
    "   + экземпляры - КЛАССЫ (объекты класса)\n",
    "   + type - метакласс, по умолчанию участвует в создании всех классов в питоне, все классы в питоне являются экземплярами type (или его наследников)\n",
    "   + пользовательский - наследуется от type\n",
    "   + нужен для динамического создания классов и всяких хитрых дел связанных с созданием классов"
   ]
  },
  {
   "cell_type": "code",
   "execution_count": 118,
   "id": "95234395",
   "metadata": {},
   "outputs": [],
   "source": [
    "# метакласс\n",
    "class MyMeta(type):\n",
    "    def __new__(cls, *args, **kwargs):\n",
    "        print('Called MyMeta.__new__()')\n",
    "        return super().__new__(cls, *args, **kwargs)"
   ]
  },
  {
   "cell_type": "code",
   "execution_count": 119,
   "id": "66e63121",
   "metadata": {},
   "outputs": [
    {
     "name": "stdout",
     "output_type": "stream",
     "text": [
      "Called MyMeta.__new__()\n"
     ]
    }
   ],
   "source": [
    "# объект класса\n",
    "class MyClass(metaclass=MyMeta):\n",
    "    def __init__(self):\n",
    "        print('Called MyClass.__init__()')"
   ]
  },
  {
   "cell_type": "code",
   "execution_count": 120,
   "id": "45a8e9fd",
   "metadata": {},
   "outputs": [
    {
     "data": {
      "text/plain": [
       "__main__.MyMeta"
      ]
     },
     "execution_count": 120,
     "metadata": {},
     "output_type": "execute_result"
    }
   ],
   "source": [
    "# объект класса\n",
    "type(MyClass) # MyClass - экземпляр класса MyMeta"
   ]
  },
  {
   "cell_type": "code",
   "execution_count": 121,
   "id": "d309099c",
   "metadata": {},
   "outputs": [
    {
     "name": "stdout",
     "output_type": "stream",
     "text": [
      "Called MyClass.__init__()\n"
     ]
    }
   ],
   "source": [
    "# объект экзмепляра класса\n",
    "my_instance = MyClass()"
   ]
  },
  {
   "cell_type": "code",
   "execution_count": 122,
   "id": "cf8ba725",
   "metadata": {},
   "outputs": [
    {
     "data": {
      "text/plain": [
       "__main__.MyClass"
      ]
     },
     "execution_count": 122,
     "metadata": {},
     "output_type": "execute_result"
    }
   ],
   "source": [
    "# объект экзмепляра класса\n",
    "type(my_instance) # my_instance - экземпляр класса MyClass"
   ]
  },
  {
   "cell_type": "code",
   "execution_count": 123,
   "id": "3c1dc287",
   "metadata": {
    "scrolled": true
   },
   "outputs": [
    {
     "name": "stdout",
     "output_type": "stream",
     "text": [
      "Called MyMeta.__new__()\n"
     ]
    }
   ],
   "source": [
    "# наследование\n",
    "# объект класса\n",
    "class MyChildClass(MyClass):\n",
    "    pass"
   ]
  },
  {
   "cell_type": "code",
   "execution_count": 124,
   "id": "1cb2fbb3",
   "metadata": {},
   "outputs": [
    {
     "data": {
      "text/plain": [
       "__main__.MyMeta"
      ]
     },
     "execution_count": 124,
     "metadata": {},
     "output_type": "execute_result"
    }
   ],
   "source": [
    "# объект класса\n",
    "type(MyChildClass) # MyChildClass - тоже экземпляр класса MyMeta"
   ]
  },
  {
   "cell_type": "code",
   "execution_count": 125,
   "id": "7f1d8135",
   "metadata": {},
   "outputs": [
    {
     "data": {
      "text/plain": [
       "(__main__.MyClass,)"
      ]
     },
     "execution_count": 125,
     "metadata": {},
     "output_type": "execute_result"
    }
   ],
   "source": [
    "# родительские классы объекта класса\n",
    "MyChildClass.__bases__ # MyChildClass - наследник/подкласс класса MyClass"
   ]
  },
  {
   "cell_type": "code",
   "execution_count": 126,
   "id": "585ce28b",
   "metadata": {},
   "outputs": [
    {
     "name": "stdout",
     "output_type": "stream",
     "text": [
      "Called MyClass.__init__()\n"
     ]
    }
   ],
   "source": [
    "# объект экземпляра класса\n",
    "my_child_instance = MyChildClass()"
   ]
  },
  {
   "cell_type": "code",
   "execution_count": 127,
   "id": "8115eb19",
   "metadata": {},
   "outputs": [
    {
     "data": {
      "text/plain": [
       "__main__.MyChildClass"
      ]
     },
     "execution_count": 127,
     "metadata": {},
     "output_type": "execute_result"
    }
   ],
   "source": [
    "# объект экземпляра класса\n",
    "type(my_child_instance)"
   ]
  },
  {
   "cell_type": "markdown",
   "id": "55d6c8de",
   "metadata": {},
   "source": [
    "## ДЗ-3, задача B"
   ]
  },
  {
   "cell_type": "markdown",
   "id": "568bd54a",
   "metadata": {},
   "source": [
    "Вам нужно создать класс GoodInt, который ведет себя так же, как и обычный int, за искючением того, что при создании объекта из ﬂoat или строки с дробным числом не отрезает дробную часть (как int), а округляет число до ближайшего целого (подойдет встроенный round).\n",
    "Пример использования:\n",
    "```\n",
    "    print(GoodInt(5.5))  # 6  \n",
    "    print(GoodInt(5.6))  # 6  \n",
    "    print(GoodInt(5.4))  # 5  \n",
    "    print(GoodInt(5))  # 5  \n",
    "    print(GoodInt(’5.5’))  # 6  \n",
    "    print(GoodInt(5.6) + GoodInt(’5.6’))  # 12\n",
    "```"
   ]
  },
  {
   "cell_type": "markdown",
   "id": "726438d4",
   "metadata": {},
   "source": [
    "Почему нельзя просто переписать init у потомка int?"
   ]
  },
  {
   "cell_type": "code",
   "execution_count": 131,
   "id": "3ad1175d",
   "metadata": {
    "scrolled": true
   },
   "outputs": [
    {
     "name": "stdout",
     "output_type": "stream",
     "text": [
      "Calling GoodInt.__new__() with args (5.5,), kwargs {}\n",
      "Calling GoodInt.__init__()\n",
      "5\n"
     ]
    }
   ],
   "source": [
    "class GoodInt(int):\n",
    "    def __init__(self, x):\n",
    "        print('Calling GoodInt.__init__()')\n",
    "        x = round(float(x))\n",
    "        int.__init__(x)\n",
    "        \n",
    "        \n",
    "    def __new__(cls, *args, **kwargs):\n",
    "        print(f'Calling GoodInt.__new__() with args {args}, kwargs {kwargs}')\n",
    "        return super().__new__(cls, *args, **kwargs)\n",
    "        \n",
    "print(GoodInt(5.5))  # 6  "
   ]
  },
  {
   "cell_type": "code",
   "execution_count": 133,
   "id": "61463dc6",
   "metadata": {},
   "outputs": [
    {
     "name": "stdout",
     "output_type": "stream",
     "text": [
      "Calling GoodInt.__new__() with arg 6\n",
      "Calling GoodInt.__init__()\n",
      "6\n"
     ]
    }
   ],
   "source": [
    "class GoodInt(int):\n",
    "     def __new__(cls, x):\n",
    "        x = round(float(x))\n",
    "        print(f'Calling GoodInt.__new__() with arg {x}')\n",
    "        return super().__new__(cls, x)\n",
    "    \n",
    "     def __init__(self, *args, **kwargs):\n",
    "        print('Calling GoodInt.__init__()')\n",
    "        super().__init__()\n",
    "        \n",
    "print(GoodInt(5.5))  # 6  "
   ]
  },
  {
   "cell_type": "code",
   "execution_count": 142,
   "id": "6e892b86",
   "metadata": {},
   "outputs": [
    {
     "name": "stdout",
     "output_type": "stream",
     "text": [
      "Calling GoodInt.__new__() with arg 6\n",
      "Calling GoodInt.__init__()\n"
     ]
    }
   ],
   "source": [
    "gi = GoodInt(5.5)"
   ]
  },
  {
   "cell_type": "code",
   "execution_count": 143,
   "id": "e74f8a72",
   "metadata": {},
   "outputs": [],
   "source": [
    "gi.d = 2"
   ]
  },
  {
   "cell_type": "code",
   "execution_count": 144,
   "id": "ea821481",
   "metadata": {},
   "outputs": [
    {
     "data": {
      "text/plain": [
       "2"
      ]
     },
     "execution_count": 144,
     "metadata": {},
     "output_type": "execute_result"
    }
   ],
   "source": [
    "gi.d"
   ]
  },
  {
   "cell_type": "code",
   "execution_count": 145,
   "id": "1af55e41",
   "metadata": {},
   "outputs": [],
   "source": [
    "a = 6"
   ]
  },
  {
   "cell_type": "code",
   "execution_count": 146,
   "id": "4be8f2bb",
   "metadata": {},
   "outputs": [
    {
     "ename": "AttributeError",
     "evalue": "'int' object has no attribute 'd'",
     "output_type": "error",
     "traceback": [
      "\u001b[0;31m---------------------------------------------------------------------------\u001b[0m",
      "\u001b[0;31mAttributeError\u001b[0m                            Traceback (most recent call last)",
      "\u001b[0;32m<ipython-input-146-a41dfb0b9253>\u001b[0m in \u001b[0;36m<module>\u001b[0;34m\u001b[0m\n\u001b[0;32m----> 1\u001b[0;31m \u001b[0ma\u001b[0m\u001b[0;34m.\u001b[0m\u001b[0md\u001b[0m \u001b[0;34m=\u001b[0m \u001b[0;36m10\u001b[0m\u001b[0;34m\u001b[0m\u001b[0;34m\u001b[0m\u001b[0m\n\u001b[0m",
      "\u001b[0;31mAttributeError\u001b[0m: 'int' object has no attribute 'd'"
     ]
    }
   ],
   "source": [
    "a.d = 10"
   ]
  },
  {
   "cell_type": "markdown",
   "id": "2aad8e68",
   "metadata": {},
   "source": [
    "**\\_\\_new\\_\\_()** is intended mainly to allow subclasses of immutable types (like int, str, or tuple) to customize instance creation. It is also commonly overridden in custom metaclasses in order to customize class creation."
   ]
  },
  {
   "cell_type": "markdown",
   "id": "e04bf4f0",
   "metadata": {},
   "source": [
    "Как делаются неизменяемые типы данных в питоне?"
   ]
  },
  {
   "cell_type": "code",
   "execution_count": 134,
   "id": "595b348a",
   "metadata": {},
   "outputs": [],
   "source": [
    "class Immutable:\n",
    "    def __init__(self, a, b):\n",
    "        self.a = a\n",
    "        self.b = b\n",
    "\n",
    "    # переопределением __setattr__\n",
    "    def __setattr__(self, key, value):\n",
    "        raise AttributeError(\"LOL nope.\")"
   ]
  },
  {
   "cell_type": "code",
   "execution_count": 135,
   "id": "732ce234",
   "metadata": {
    "scrolled": true
   },
   "outputs": [
    {
     "ename": "AttributeError",
     "evalue": "LOL nope.",
     "output_type": "error",
     "traceback": [
      "\u001b[0;31m---------------------------------------------------------------------------\u001b[0m",
      "\u001b[0;31mAttributeError\u001b[0m                            Traceback (most recent call last)",
      "\u001b[0;32m<ipython-input-135-b327c5610bdf>\u001b[0m in \u001b[0;36m<module>\u001b[0;34m\u001b[0m\n\u001b[0;32m----> 1\u001b[0;31m \u001b[0mim\u001b[0m \u001b[0;34m=\u001b[0m \u001b[0mImmutable\u001b[0m\u001b[0;34m(\u001b[0m\u001b[0;36m2\u001b[0m\u001b[0;34m,\u001b[0m \u001b[0;36m3\u001b[0m\u001b[0;34m)\u001b[0m\u001b[0;34m\u001b[0m\u001b[0;34m\u001b[0m\u001b[0m\n\u001b[0m\u001b[1;32m      2\u001b[0m \u001b[0mprint\u001b[0m\u001b[0;34m(\u001b[0m\u001b[0mim\u001b[0m\u001b[0;34m)\u001b[0m\u001b[0;34m\u001b[0m\u001b[0;34m\u001b[0m\u001b[0m\n",
      "\u001b[0;32m<ipython-input-134-0f9839dac6d3>\u001b[0m in \u001b[0;36m__init__\u001b[0;34m(self, a, b)\u001b[0m\n\u001b[1;32m      1\u001b[0m \u001b[0;32mclass\u001b[0m \u001b[0mImmutable\u001b[0m\u001b[0;34m:\u001b[0m\u001b[0;34m\u001b[0m\u001b[0;34m\u001b[0m\u001b[0m\n\u001b[1;32m      2\u001b[0m     \u001b[0;32mdef\u001b[0m \u001b[0m__init__\u001b[0m\u001b[0;34m(\u001b[0m\u001b[0mself\u001b[0m\u001b[0;34m,\u001b[0m \u001b[0ma\u001b[0m\u001b[0;34m,\u001b[0m \u001b[0mb\u001b[0m\u001b[0;34m)\u001b[0m\u001b[0;34m:\u001b[0m\u001b[0;34m\u001b[0m\u001b[0;34m\u001b[0m\u001b[0m\n\u001b[0;32m----> 3\u001b[0;31m         \u001b[0mself\u001b[0m\u001b[0;34m.\u001b[0m\u001b[0ma\u001b[0m \u001b[0;34m=\u001b[0m \u001b[0ma\u001b[0m\u001b[0;34m\u001b[0m\u001b[0;34m\u001b[0m\u001b[0m\n\u001b[0m\u001b[1;32m      4\u001b[0m         \u001b[0mself\u001b[0m\u001b[0;34m.\u001b[0m\u001b[0mb\u001b[0m \u001b[0;34m=\u001b[0m \u001b[0mb\u001b[0m\u001b[0;34m\u001b[0m\u001b[0;34m\u001b[0m\u001b[0m\n\u001b[1;32m      5\u001b[0m \u001b[0;34m\u001b[0m\u001b[0m\n",
      "\u001b[0;32m<ipython-input-134-0f9839dac6d3>\u001b[0m in \u001b[0;36m__setattr__\u001b[0;34m(self, key, value)\u001b[0m\n\u001b[1;32m      6\u001b[0m     \u001b[0;31m# переопределением __setattr__\u001b[0m\u001b[0;34m\u001b[0m\u001b[0;34m\u001b[0m\u001b[0;34m\u001b[0m\u001b[0m\n\u001b[1;32m      7\u001b[0m     \u001b[0;32mdef\u001b[0m \u001b[0m__setattr__\u001b[0m\u001b[0;34m(\u001b[0m\u001b[0mself\u001b[0m\u001b[0;34m,\u001b[0m \u001b[0mkey\u001b[0m\u001b[0;34m,\u001b[0m \u001b[0mvalue\u001b[0m\u001b[0;34m)\u001b[0m\u001b[0;34m:\u001b[0m\u001b[0;34m\u001b[0m\u001b[0;34m\u001b[0m\u001b[0m\n\u001b[0;32m----> 8\u001b[0;31m         \u001b[0;32mraise\u001b[0m \u001b[0mAttributeError\u001b[0m\u001b[0;34m(\u001b[0m\u001b[0;34m\"LOL nope.\"\u001b[0m\u001b[0;34m)\u001b[0m\u001b[0;34m\u001b[0m\u001b[0;34m\u001b[0m\u001b[0m\n\u001b[0m",
      "\u001b[0;31mAttributeError\u001b[0m: LOL nope."
     ]
    }
   ],
   "source": [
    "im = Immutable(2, 3)\n",
    "print(im)"
   ]
  },
  {
   "cell_type": "code",
   "execution_count": 136,
   "id": "4216ec26",
   "metadata": {},
   "outputs": [
    {
     "name": "stdout",
     "output_type": "stream",
     "text": [
      "Immutable.__new__() called\n",
      "Immutable instance created\n",
      "Immutable.__init__() called\n",
      "Calling Immutable.__setattr__ for key a, value 2\n"
     ]
    },
    {
     "ename": "AttributeError",
     "evalue": "LOL nope.",
     "output_type": "error",
     "traceback": [
      "\u001b[0;31m---------------------------------------------------------------------------\u001b[0m",
      "\u001b[0;31mAttributeError\u001b[0m                            Traceback (most recent call last)",
      "\u001b[0;32m<ipython-input-136-a665700c6cc5>\u001b[0m in \u001b[0;36m<module>\u001b[0;34m\u001b[0m\n\u001b[1;32m     17\u001b[0m         \u001b[0;32mraise\u001b[0m \u001b[0mAttributeError\u001b[0m\u001b[0;34m(\u001b[0m\u001b[0;34m\"LOL nope.\"\u001b[0m\u001b[0;34m)\u001b[0m\u001b[0;34m\u001b[0m\u001b[0;34m\u001b[0m\u001b[0m\n\u001b[1;32m     18\u001b[0m \u001b[0;34m\u001b[0m\u001b[0m\n\u001b[0;32m---> 19\u001b[0;31m \u001b[0mim\u001b[0m \u001b[0;34m=\u001b[0m \u001b[0mImmutable\u001b[0m\u001b[0;34m(\u001b[0m\u001b[0;36m2\u001b[0m\u001b[0;34m,\u001b[0m \u001b[0;36m3\u001b[0m\u001b[0;34m)\u001b[0m\u001b[0;34m\u001b[0m\u001b[0;34m\u001b[0m\u001b[0m\n\u001b[0m\u001b[1;32m     20\u001b[0m \u001b[0mprint\u001b[0m\u001b[0;34m(\u001b[0m\u001b[0mim\u001b[0m\u001b[0;34m)\u001b[0m\u001b[0;34m\u001b[0m\u001b[0;34m\u001b[0m\u001b[0m\n",
      "\u001b[0;32m<ipython-input-136-a665700c6cc5>\u001b[0m in \u001b[0;36m__init__\u001b[0;34m(self, a, b)\u001b[0m\n\u001b[1;32m      3\u001b[0m     \u001b[0;32mdef\u001b[0m \u001b[0m__init__\u001b[0m\u001b[0;34m(\u001b[0m\u001b[0mself\u001b[0m\u001b[0;34m,\u001b[0m \u001b[0ma\u001b[0m\u001b[0;34m,\u001b[0m \u001b[0mb\u001b[0m\u001b[0;34m)\u001b[0m\u001b[0;34m:\u001b[0m\u001b[0;34m\u001b[0m\u001b[0;34m\u001b[0m\u001b[0m\n\u001b[1;32m      4\u001b[0m         \u001b[0mprint\u001b[0m\u001b[0;34m(\u001b[0m\u001b[0;34m'Immutable.__init__() called'\u001b[0m\u001b[0;34m)\u001b[0m\u001b[0;34m\u001b[0m\u001b[0;34m\u001b[0m\u001b[0m\n\u001b[0;32m----> 5\u001b[0;31m         \u001b[0mself\u001b[0m\u001b[0;34m.\u001b[0m\u001b[0ma\u001b[0m \u001b[0;34m=\u001b[0m \u001b[0ma\u001b[0m\u001b[0;34m\u001b[0m\u001b[0;34m\u001b[0m\u001b[0m\n\u001b[0m\u001b[1;32m      6\u001b[0m         \u001b[0mself\u001b[0m\u001b[0;34m.\u001b[0m\u001b[0mb\u001b[0m \u001b[0;34m=\u001b[0m \u001b[0mb\u001b[0m\u001b[0;34m\u001b[0m\u001b[0;34m\u001b[0m\u001b[0m\n\u001b[1;32m      7\u001b[0m \u001b[0;34m\u001b[0m\u001b[0m\n",
      "\u001b[0;32m<ipython-input-136-a665700c6cc5>\u001b[0m in \u001b[0;36m__setattr__\u001b[0;34m(self, key, value)\u001b[0m\n\u001b[1;32m     15\u001b[0m     \u001b[0;32mdef\u001b[0m \u001b[0m__setattr__\u001b[0m\u001b[0;34m(\u001b[0m\u001b[0mself\u001b[0m\u001b[0;34m,\u001b[0m \u001b[0mkey\u001b[0m\u001b[0;34m,\u001b[0m \u001b[0mvalue\u001b[0m\u001b[0;34m)\u001b[0m\u001b[0;34m:\u001b[0m\u001b[0;34m\u001b[0m\u001b[0;34m\u001b[0m\u001b[0m\n\u001b[1;32m     16\u001b[0m         \u001b[0mprint\u001b[0m\u001b[0;34m(\u001b[0m\u001b[0;34mf'Calling Immutable.__setattr__ for key {key}, value {value}'\u001b[0m\u001b[0;34m)\u001b[0m\u001b[0;34m\u001b[0m\u001b[0;34m\u001b[0m\u001b[0m\n\u001b[0;32m---> 17\u001b[0;31m         \u001b[0;32mraise\u001b[0m \u001b[0mAttributeError\u001b[0m\u001b[0;34m(\u001b[0m\u001b[0;34m\"LOL nope.\"\u001b[0m\u001b[0;34m)\u001b[0m\u001b[0;34m\u001b[0m\u001b[0;34m\u001b[0m\u001b[0m\n\u001b[0m\u001b[1;32m     18\u001b[0m \u001b[0;34m\u001b[0m\u001b[0m\n\u001b[1;32m     19\u001b[0m \u001b[0mim\u001b[0m \u001b[0;34m=\u001b[0m \u001b[0mImmutable\u001b[0m\u001b[0;34m(\u001b[0m\u001b[0;36m2\u001b[0m\u001b[0;34m,\u001b[0m \u001b[0;36m3\u001b[0m\u001b[0;34m)\u001b[0m\u001b[0;34m\u001b[0m\u001b[0;34m\u001b[0m\u001b[0m\n",
      "\u001b[0;31mAttributeError\u001b[0m: LOL nope."
     ]
    }
   ],
   "source": [
    "# давайте выясним, что пошло не так\n",
    "class Immutable:\n",
    "    def __init__(self, a, b):\n",
    "        print('Immutable.__init__() called')\n",
    "        self.a = a\n",
    "        self.b = b\n",
    "        \n",
    "    def __new__(cls, *args, **kwargs):\n",
    "        print('Immutable.__new__() called')\n",
    "        new_instance = super().__new__(cls)\n",
    "        print('Immutable instance created')\n",
    "        return new_instance\n",
    "\n",
    "    # переопределением __setattr__\n",
    "    def __setattr__(self, key, value):\n",
    "        print(f'Calling Immutable.__setattr__ for key {key}, value {value}')\n",
    "        raise AttributeError(\"LOL nope.\")\n",
    "        \n",
    "im = Immutable(2, 3)\n",
    "print(im)"
   ]
  },
  {
   "cell_type": "markdown",
   "id": "cd9b3072",
   "metadata": {},
   "source": [
    "Чтобы сделать неизменяемый тип данных (с атрибутами) нам нужно как-то задать их до момента создания экземпляра неизменямого типа (до вызова new), как правило это делается с помощью наследования от изменяемого типа"
   ]
  },
  {
   "cell_type": "code",
   "execution_count": 137,
   "id": "fc05c203",
   "metadata": {},
   "outputs": [],
   "source": [
    "class Mutable:\n",
    "    def __init__(self, a, b):\n",
    "        print(\"Mutable.__init__() called.\")\n",
    "        self.a = a\n",
    "        self.b = b\n",
    "\n",
    "\n",
    "class ActuallyImmutable(Mutable):\n",
    "    def __new__(cls, a, b):\n",
    "        # создаем сначала изменяемый экзмепляр, которому можно задать атрибуты \n",
    "        thing = Mutable(a, b)\n",
    "        # меняем тип объекта\n",
    "        thing.__class__ = cls\n",
    "        return thing\n",
    "\n",
    "    # переопределаем __init__, чтобы родительский не вызывался\n",
    "    def __init__(self, *args, **kwargs):\n",
    "        print(\"ActuallyImmutable.__init__() called.\")\n",
    "\n",
    "    def __setattr__(self, key, value):\n",
    "        raise AttributeError(\"LOL nope srsly.\")"
   ]
  },
  {
   "cell_type": "code",
   "execution_count": 138,
   "id": "aa331f78",
   "metadata": {
    "scrolled": true
   },
   "outputs": [
    {
     "name": "stdout",
     "output_type": "stream",
     "text": [
      "Mutable.__init__() called.\n",
      "ActuallyImmutable.__init__() called.\n"
     ]
    }
   ],
   "source": [
    "im = ActuallyImmutable(2, 3)"
   ]
  },
  {
   "cell_type": "code",
   "execution_count": 139,
   "id": "89687ffa",
   "metadata": {},
   "outputs": [
    {
     "data": {
      "text/plain": [
       "__main__.ActuallyImmutable"
      ]
     },
     "execution_count": 139,
     "metadata": {},
     "output_type": "execute_result"
    }
   ],
   "source": [
    "type(im)"
   ]
  },
  {
   "cell_type": "code",
   "execution_count": 140,
   "id": "c7fdb9bf",
   "metadata": {},
   "outputs": [
    {
     "name": "stdout",
     "output_type": "stream",
     "text": [
      "<__main__.ActuallyImmutable object at 0x7fdc95f52cd0>\n",
      "2\n",
      "3\n"
     ]
    }
   ],
   "source": [
    "print(im)\n",
    "print(im.a)\n",
    "print(im.b)"
   ]
  },
  {
   "cell_type": "code",
   "execution_count": 141,
   "id": "35be9624",
   "metadata": {
    "scrolled": true
   },
   "outputs": [
    {
     "ename": "AttributeError",
     "evalue": "LOL nope srsly.",
     "output_type": "error",
     "traceback": [
      "\u001b[0;31m---------------------------------------------------------------------------\u001b[0m",
      "\u001b[0;31mAttributeError\u001b[0m                            Traceback (most recent call last)",
      "\u001b[0;32m<ipython-input-141-2f8cb8cb8bfe>\u001b[0m in \u001b[0;36m<module>\u001b[0;34m\u001b[0m\n\u001b[0;32m----> 1\u001b[0;31m \u001b[0mim\u001b[0m\u001b[0;34m.\u001b[0m\u001b[0ma\u001b[0m \u001b[0;34m=\u001b[0m \u001b[0;36m23\u001b[0m\u001b[0;34m\u001b[0m\u001b[0;34m\u001b[0m\u001b[0m\n\u001b[0m",
      "\u001b[0;32m<ipython-input-137-07a789a58e45>\u001b[0m in \u001b[0;36m__setattr__\u001b[0;34m(self, key, value)\u001b[0m\n\u001b[1;32m     19\u001b[0m \u001b[0;34m\u001b[0m\u001b[0m\n\u001b[1;32m     20\u001b[0m     \u001b[0;32mdef\u001b[0m \u001b[0m__setattr__\u001b[0m\u001b[0;34m(\u001b[0m\u001b[0mself\u001b[0m\u001b[0;34m,\u001b[0m \u001b[0mkey\u001b[0m\u001b[0;34m,\u001b[0m \u001b[0mvalue\u001b[0m\u001b[0;34m)\u001b[0m\u001b[0;34m:\u001b[0m\u001b[0;34m\u001b[0m\u001b[0;34m\u001b[0m\u001b[0m\n\u001b[0;32m---> 21\u001b[0;31m         \u001b[0;32mraise\u001b[0m \u001b[0mAttributeError\u001b[0m\u001b[0;34m(\u001b[0m\u001b[0;34m\"LOL nope srsly.\"\u001b[0m\u001b[0;34m)\u001b[0m\u001b[0;34m\u001b[0m\u001b[0;34m\u001b[0m\u001b[0m\n\u001b[0m",
      "\u001b[0;31mAttributeError\u001b[0m: LOL nope srsly."
     ]
    }
   ],
   "source": [
    "im.a = 23"
   ]
  },
  {
   "cell_type": "code",
   "execution_count": null,
   "id": "2d9b1292",
   "metadata": {},
   "outputs": [],
   "source": []
  }
 ],
 "metadata": {
  "kernelspec": {
   "display_name": "Python 3",
   "language": "python",
   "name": "python3"
  },
  "language_info": {
   "codemirror_mode": {
    "name": "ipython",
    "version": 3
   },
   "file_extension": ".py",
   "mimetype": "text/x-python",
   "name": "python",
   "nbconvert_exporter": "python",
   "pygments_lexer": "ipython3",
   "version": "3.7.4"
  }
 },
 "nbformat": 4,
 "nbformat_minor": 5
}
